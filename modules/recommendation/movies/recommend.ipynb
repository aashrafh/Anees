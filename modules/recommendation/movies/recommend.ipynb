{
 "cells": [
  {
   "cell_type": "code",
   "execution_count": 1,
   "metadata": {},
   "outputs": [],
   "source": [
    "import numpy as np\n",
    "import pandas as pd\n",
    "from scipy.sparse import csr_matrix\n",
    "from sklearn.neighbors import NearestNeighbors"
   ]
  },
  {
   "cell_type": "markdown",
   "metadata": {},
   "source": [
    "# Prepare data"
   ]
  },
  {
   "cell_type": "code",
   "execution_count": 2,
   "metadata": {},
   "outputs": [
    {
     "name": "stdout",
     "output_type": "stream",
     "text": [
      "# Movies = 2827\n",
      "# Users = 25491\n",
      "# Ratings = 11216850\n",
      "# Tags = 1128\n"
     ]
    }
   ],
   "source": [
    "data_path = \"../Data/ml-25m/\"\n",
    "movies = pd.read_csv(data_path + \"movies.csv\")\n",
    "ratings = pd.read_csv(data_path + \"usable_ratings.csv\")\n",
    "genome_tags = pd.read_csv(data_path + \"genome-tags.csv\")\n",
    "genome_scores = pd.read_csv(data_path + \"genome-scores.csv\")\n",
    "genome_scores = pd.merge(genome_scores, genome_tags, on='tagId', how='inner')\n",
    "\n",
    "print(f\"# Movies = {ratings['movieId'].nunique()}\")\n",
    "print(f\"# Users = {ratings['userId'].nunique()}\")\n",
    "print(f\"# Ratings = {len(ratings)}\")\n",
    "print(f\"# Tags = {len(genome_tags)}\")"
   ]
  },
  {
   "cell_type": "markdown",
   "metadata": {},
   "source": [
    "## Set avg rating column for each movie in movies DF"
   ]
  },
  {
   "cell_type": "code",
   "execution_count": 3,
   "metadata": {},
   "outputs": [],
   "source": [
    "# mean is about all users including those who did't vote for that movie\n",
    "gr_movie_ratings = ratings.groupby(by=\"movieId\")\n",
    "no_users = ratings['userId'].nunique()\n",
    "mean_rating_df = pd.DataFrame([], columns=[\"movieId\", \"meanRating\"])\n",
    "tmp_data = [[], []]\n",
    "\n",
    "for name, group in gr_movie_ratings:\n",
    "    mean_rating = group[\"rating\"].sum() / no_users\n",
    "    tmp_data[0].append(name)\n",
    "    tmp_data[1].append(mean_rating)\n",
    "\n",
    "mean_rating_df[\"movieId\"] = tmp_data[0]\n",
    "mean_rating_df[\"meanRating\"] = tmp_data[1]\n",
    "\n",
    "movies = pd.merge(movies, mean_rating_df, on=\"movieId\", how=\"left\")"
   ]
  },
  {
   "cell_type": "markdown",
   "metadata": {},
   "source": [
    "## Extract base movie categories"
   ]
  },
  {
   "cell_type": "code",
   "execution_count": 4,
   "metadata": {},
   "outputs": [
    {
     "name": "stdout",
     "output_type": "stream",
     "text": [
      "Number of usable categories =  19\n"
     ]
    }
   ],
   "source": [
    "categs_col_strs = list(movies[\"genres\"])\n",
    "categs_col_strs = [categ_str.split(\"|\") for categ_str in categs_col_strs]\n",
    "base_categs_list = []\n",
    "for categs_str in categs_col_strs:\n",
    "    base_categs_list += categs_str\n",
    "\n",
    "\n",
    "base_categs_list = list(set(base_categs_list))\n",
    "base_categs_list.remove(\"(no genres listed)\")\n",
    "base_categs_list.sort()\n",
    "base_categs_list = [categ.lower() for categ in base_categs_list]\n",
    "\n",
    "del categs_col_strs\n",
    "\n",
    "print(\"Number of usable categories = \", len(base_categs_list))"
   ]
  },
  {
   "cell_type": "code",
   "execution_count": 5,
   "metadata": {},
   "outputs": [
    {
     "data": {
      "text/plain": [
       "['action',\n",
       " 'adventure',\n",
       " 'animation',\n",
       " 'children',\n",
       " 'comedy',\n",
       " 'crime',\n",
       " 'documentary',\n",
       " 'drama',\n",
       " 'fantasy',\n",
       " 'film-noir',\n",
       " 'horror',\n",
       " 'imax',\n",
       " 'musical',\n",
       " 'mystery',\n",
       " 'romance',\n",
       " 'sci-fi',\n",
       " 'thriller',\n",
       " 'war',\n",
       " 'western']"
      ]
     },
     "execution_count": 5,
     "metadata": {},
     "output_type": "execute_result"
    }
   ],
   "source": [
    "base_categs_list"
   ]
  },
  {
   "cell_type": "markdown",
   "metadata": {},
   "source": [
    "## Prepare data for KNN the classifier"
   ]
  },
  {
   "cell_type": "code",
   "execution_count": 6,
   "metadata": {},
   "outputs": [],
   "source": [
    "# piv_matrix = valid_ratings.pivot(index=\"movieId\", columns=\"userId\", values=\"rating\")\n",
    "piv_matrix = ratings.pivot(index=\"userId\", columns=\"movieId\", values=\"rating\")\n",
    "piv_matrix.fillna(0, inplace=True)"
   ]
  },
  {
   "cell_type": "code",
   "execution_count": 7,
   "metadata": {},
   "outputs": [],
   "source": [
    "# fill NaN's with the mean\n",
    "\n",
    "# for col in list(piv_matrix.columns):\n",
    "#     mean = piv_matrix[col].mean()\n",
    "#     piv_matrix[col].fillna(mean, inplace=True)"
   ]
  },
  {
   "cell_type": "code",
   "execution_count": 8,
   "metadata": {},
   "outputs": [],
   "source": [
    "csr_data = csr_matrix(piv_matrix)\n",
    "csr_data = csr_data.transpose() #! issue in col and row"
   ]
  },
  {
   "cell_type": "code",
   "execution_count": 9,
   "metadata": {},
   "outputs": [
    {
     "data": {
      "text/html": [
       "<style>#sk-container-id-1 {color: black;background-color: white;}#sk-container-id-1 pre{padding: 0;}#sk-container-id-1 div.sk-toggleable {background-color: white;}#sk-container-id-1 label.sk-toggleable__label {cursor: pointer;display: block;width: 100%;margin-bottom: 0;padding: 0.3em;box-sizing: border-box;text-align: center;}#sk-container-id-1 label.sk-toggleable__label-arrow:before {content: \"▸\";float: left;margin-right: 0.25em;color: #696969;}#sk-container-id-1 label.sk-toggleable__label-arrow:hover:before {color: black;}#sk-container-id-1 div.sk-estimator:hover label.sk-toggleable__label-arrow:before {color: black;}#sk-container-id-1 div.sk-toggleable__content {max-height: 0;max-width: 0;overflow: hidden;text-align: left;background-color: #f0f8ff;}#sk-container-id-1 div.sk-toggleable__content pre {margin: 0.2em;color: black;border-radius: 0.25em;background-color: #f0f8ff;}#sk-container-id-1 input.sk-toggleable__control:checked~div.sk-toggleable__content {max-height: 200px;max-width: 100%;overflow: auto;}#sk-container-id-1 input.sk-toggleable__control:checked~label.sk-toggleable__label-arrow:before {content: \"▾\";}#sk-container-id-1 div.sk-estimator input.sk-toggleable__control:checked~label.sk-toggleable__label {background-color: #d4ebff;}#sk-container-id-1 div.sk-label input.sk-toggleable__control:checked~label.sk-toggleable__label {background-color: #d4ebff;}#sk-container-id-1 input.sk-hidden--visually {border: 0;clip: rect(1px 1px 1px 1px);clip: rect(1px, 1px, 1px, 1px);height: 1px;margin: -1px;overflow: hidden;padding: 0;position: absolute;width: 1px;}#sk-container-id-1 div.sk-estimator {font-family: monospace;background-color: #f0f8ff;border: 1px dotted black;border-radius: 0.25em;box-sizing: border-box;margin-bottom: 0.5em;}#sk-container-id-1 div.sk-estimator:hover {background-color: #d4ebff;}#sk-container-id-1 div.sk-parallel-item::after {content: \"\";width: 100%;border-bottom: 1px solid gray;flex-grow: 1;}#sk-container-id-1 div.sk-label:hover label.sk-toggleable__label {background-color: #d4ebff;}#sk-container-id-1 div.sk-serial::before {content: \"\";position: absolute;border-left: 1px solid gray;box-sizing: border-box;top: 0;bottom: 0;left: 50%;z-index: 0;}#sk-container-id-1 div.sk-serial {display: flex;flex-direction: column;align-items: center;background-color: white;padding-right: 0.2em;padding-left: 0.2em;position: relative;}#sk-container-id-1 div.sk-item {position: relative;z-index: 1;}#sk-container-id-1 div.sk-parallel {display: flex;align-items: stretch;justify-content: center;background-color: white;position: relative;}#sk-container-id-1 div.sk-item::before, #sk-container-id-1 div.sk-parallel-item::before {content: \"\";position: absolute;border-left: 1px solid gray;box-sizing: border-box;top: 0;bottom: 0;left: 50%;z-index: -1;}#sk-container-id-1 div.sk-parallel-item {display: flex;flex-direction: column;z-index: 1;position: relative;background-color: white;}#sk-container-id-1 div.sk-parallel-item:first-child::after {align-self: flex-end;width: 50%;}#sk-container-id-1 div.sk-parallel-item:last-child::after {align-self: flex-start;width: 50%;}#sk-container-id-1 div.sk-parallel-item:only-child::after {width: 0;}#sk-container-id-1 div.sk-dashed-wrapped {border: 1px dashed gray;margin: 0 0.4em 0.5em 0.4em;box-sizing: border-box;padding-bottom: 0.4em;background-color: white;}#sk-container-id-1 div.sk-label label {font-family: monospace;font-weight: bold;display: inline-block;line-height: 1.2em;}#sk-container-id-1 div.sk-label-container {text-align: center;}#sk-container-id-1 div.sk-container {/* jupyter's `normalize.less` sets `[hidden] { display: none; }` but bootstrap.min.css set `[hidden] { display: none !important; }` so we also need the `!important` here to be able to override the default hidden behavior on the sphinx rendered scikit-learn.org. See: https://github.com/scikit-learn/scikit-learn/issues/21755 */display: inline-block !important;position: relative;}#sk-container-id-1 div.sk-text-repr-fallback {display: none;}</style><div id=\"sk-container-id-1\" class=\"sk-top-container\"><div class=\"sk-text-repr-fallback\"><pre>NearestNeighbors(algorithm=&#x27;brute&#x27;, metric=&#x27;cosine&#x27;, n_jobs=-1, n_neighbors=20)</pre><b>In a Jupyter environment, please rerun this cell to show the HTML representation or trust the notebook. <br />On GitHub, the HTML representation is unable to render, please try loading this page with nbviewer.org.</b></div><div class=\"sk-container\" hidden><div class=\"sk-item\"><div class=\"sk-estimator sk-toggleable\"><input class=\"sk-toggleable__control sk-hidden--visually\" id=\"sk-estimator-id-1\" type=\"checkbox\" checked><label for=\"sk-estimator-id-1\" class=\"sk-toggleable__label sk-toggleable__label-arrow\">NearestNeighbors</label><div class=\"sk-toggleable__content\"><pre>NearestNeighbors(algorithm=&#x27;brute&#x27;, metric=&#x27;cosine&#x27;, n_jobs=-1, n_neighbors=20)</pre></div></div></div></div></div>"
      ],
      "text/plain": [
       "NearestNeighbors(algorithm='brute', metric='cosine', n_jobs=-1, n_neighbors=20)"
      ]
     },
     "execution_count": 9,
     "metadata": {},
     "output_type": "execute_result"
    }
   ],
   "source": [
    "knn = NearestNeighbors(metric='cosine', algorithm='brute', n_neighbors=20, n_jobs=-1)\n",
    "knn.fit(csr_data)"
   ]
  },
  {
   "cell_type": "markdown",
   "metadata": {},
   "source": [
    "# Recommendation"
   ]
  },
  {
   "cell_type": "code",
   "execution_count": 10,
   "metadata": {},
   "outputs": [],
   "source": [
    "def get_movie_id(movie_name):\n",
    "    try:\n",
    "        ids = movies[movies['title'].str.lower().str.contains(movie_name.lower().strip())][\"movieId\"].values\n",
    "        return ids\n",
    "    except:\n",
    "        # if does not exist reutrn []\n",
    "        print(\"ERR\")\n",
    "        return []"
   ]
  },
  {
   "cell_type": "markdown",
   "metadata": {},
   "source": [
    "## Rating Recommendation : Based similar ratings by all users (similar combination of ratings)"
   ]
  },
  {
   "cell_type": "code",
   "execution_count": 11,
   "metadata": {},
   "outputs": [],
   "source": [
    "def recommend_based_on_similar_ratings(movie_id, no_of_similars = 5):\n",
    "    # assumes a valid movie_id : int\n",
    "\n",
    "    recommended_movies = []\n",
    "    recommended_movies_with_dist = []\n",
    "    list_of_columns = list(piv_matrix.columns)\n",
    "    \n",
    "    try:\n",
    "        movie_index = list_of_columns.index(movie_id)\n",
    "        distances , indices = knn.kneighbors(csr_data[movie_index],n_neighbors= no_of_similars + 1)\n",
    "        tmp = zip(list(distances[0]), list(indices[0]))\n",
    "\n",
    "        for item in tmp:\n",
    "            recommended_movies_with_dist.append(item)\n",
    "        \n",
    "    except:\n",
    "        # failed to find a movie\n",
    "        # print(\"failed to find a movie\")\n",
    "        pass\n",
    "            \n",
    "    recommended_movies_with_dist = sorted(list(set(recommended_movies_with_dist)))\n",
    "\n",
    "    for item in recommended_movies_with_dist:\n",
    "        movie_idx = item[1]\n",
    "        new_movie_id = list_of_columns[movie_idx]\n",
    "\n",
    "        if new_movie_id == movie_id: continue\n",
    "\n",
    "        recommended_movie_name = movies[movies[\"movieId\"] == new_movie_id][\"title\"].values[0]\n",
    "        recommended_movies.append({\"id\": new_movie_id, \"name\": recommended_movie_name})\n",
    "\n",
    "    return recommended_movies"
   ]
  },
  {
   "cell_type": "markdown",
   "metadata": {},
   "source": [
    "## Identify top categories of a movie"
   ]
  },
  {
   "cell_type": "code",
   "execution_count": 12,
   "metadata": {},
   "outputs": [],
   "source": [
    "def get_top_categs_of_movie(movie_id, top_k = 5, is_dynamic_k=False):\n",
    "    # assumes a valid movie_id : int\n",
    "    # dynamic is for using a threshold for relevance not the static k\n",
    "    # returns df(tag_id, tag, relevance)\n",
    "\n",
    "    relevance_thr = 0.6 # used only in case of is_dynamic_k\n",
    "\n",
    "    categs_sorted_by_relevance = genome_scores[genome_scores[\"movieId\"] == movie_id].sort_values(by=['relevance'], ascending=False)\\\n",
    "                                 [[\"tagId\", \"tag\", \"relevance\"]]\n",
    "    \n",
    "    # base_categs = categs_sorted_by_relevance[categs_sorted_by_relevance[\"tag\"].str.capitalize().isin(base_categs_list)]\n",
    "    base_categs = categs_sorted_by_relevance[categs_sorted_by_relevance[\"tag\"].isin(base_categs_list)]\n",
    "\n",
    "    if is_dynamic_k == True:\n",
    "        return base_categs[base_categs[\"relevance\"] >= relevance_thr]\n",
    "    else:\n",
    "        top_k_categs = base_categs.iloc[:top_k]\n",
    "        return top_k_categs"
   ]
  },
  {
   "cell_type": "markdown",
   "metadata": {},
   "source": [
    "## Category Recommendation : Based similar categories"
   ]
  },
  {
   "cell_type": "code",
   "execution_count": 13,
   "metadata": {},
   "outputs": [],
   "source": [
    "def recommend_based_on_similar_categs(movie_id, top_k= 5, is_dynamic_k=False\n",
    "                                        , relevance_per_categ=0.8, min_mean_rating= 2.5\n",
    "                                        , k_movies_per_categ=3, sorting_order=[\"meanRating\", \"relevance\"]):\n",
    "    # assumes a valid movie_id : int\n",
    "    # return { categ1: [], categ2: [], .... }\n",
    "\n",
    "    recommendations = {}\n",
    "\n",
    "    top_categs = list(get_top_categs_of_movie(movie_id, top_k=top_k, is_dynamic_k=is_dynamic_k)[\"tag\"])\n",
    "    \n",
    "    # make a DF with movies within each top_categs, each movie has relevance >= relevance_per_categ\n",
    "    # sorted by the rating and relevance\n",
    "    valid_movies_categ_relevanve_rating_name = genome_scores[(genome_scores[\"tag\"].isin( top_categs )) & (genome_scores[\"relevance\"] >= relevance_per_categ)]\n",
    "    valid_movies_categ_relevanve_rating_name = pd.merge(valid_movies_categ_relevanve_rating_name\n",
    "                                                    , movies[[\"movieId\", \"title\", \"meanRating\"]]\n",
    "                                                    , on=\"movieId\")\n",
    "    \n",
    "    valid_movies_categ_relevanve_rating_name = valid_movies_categ_relevanve_rating_name.sort_values(by=sorting_order, ascending=False)\n",
    "\n",
    "    # fetching and fill k_movies_per_categ\n",
    "    gr_valid_movies = valid_movies_categ_relevanve_rating_name.groupby(by=\"tag\")\n",
    "\n",
    "    for tag, group in gr_valid_movies:\n",
    "        current_movies = []\n",
    "\n",
    "        for movie in group[:k_movies_per_categ][[\"movieId\", \"title\"]].values:\n",
    "            current_movies.append({\"id\": movie[0], \"name\": movie[1]})\n",
    "        recommendations[tag] = current_movies\n",
    "\n",
    "    return recommendations"
   ]
  },
  {
   "cell_type": "code",
   "execution_count": 14,
   "metadata": {},
   "outputs": [],
   "source": [
    "# tmp = recommend_based_on_similar_categs(2, is_dynamic_k=False, relevance_per_categ=0.9)\n",
    "# print(tmp)\n",
    "# for key in tmp:\n",
    "#     print(\"\\n==== \",key,\" ====\\n\", tmp[key])"
   ]
  },
  {
   "cell_type": "markdown",
   "metadata": {},
   "source": [
    "## General Recommendation : Based on similar ratings and similar categories"
   ]
  },
  {
   "cell_type": "code",
   "execution_count": 15,
   "metadata": {},
   "outputs": [],
   "source": [
    "def general_recommendation(movie_id):\n",
    "    # assumes a valid movie_id : int\n",
    "    #* return { similar_movies: [], based_on_categs: { categ1: [], categ2: [], .... } }\n",
    "\n",
    "    similar_movies = recommend_based_on_similar_ratings(movie_id)\n",
    "    recommend_based_on_categs = recommend_based_on_similar_categs(movie_id)\n",
    "\n",
    "    return { \"similar_movies\": similar_movies, \"based_on_categs\": recommend_based_on_categs }"
   ]
  },
  {
   "cell_type": "code",
   "execution_count": 16,
   "metadata": {},
   "outputs": [],
   "source": [
    "# general_recommendation(1)"
   ]
  },
  {
   "cell_type": "markdown",
   "metadata": {},
   "source": [
    "## Given set of categories, recommend!"
   ]
  },
  {
   "cell_type": "code",
   "execution_count": 17,
   "metadata": {},
   "outputs": [],
   "source": [
    "# recommend movies based on one categ\n",
    "def get_movies_df_in_categ(categ, min_categ_relevance = 0.5, min_mean_rating = 2.5):\n",
    "    good_movies_with_rating_categ =  movies[(movies[\"genres\"].str.lower().str.find(categ.lower()) > -1) &\n",
    "                                            (movies[\"meanRating\"] >= min_mean_rating)]\n",
    "    \n",
    "    good_scores = genome_scores[(genome_scores[\"relevance\"] >= min_categ_relevance) & \n",
    "                            (genome_scores[\"tag\"] == categ.lower()) &\n",
    "                            (genome_scores[\"movieId\"].isin(list(good_movies_with_rating_categ[\"movieId\"])))]\n",
    "    \n",
    "    ret = pd.merge(good_movies_with_rating_categ[[\"movieId\", \"title\", \"meanRating\"]], good_scores[[\"movieId\",\"relevance\", \"tag\"]], on=\"movieId\", how=\"inner\")\n",
    "    return ret"
   ]
  },
  {
   "cell_type": "code",
   "execution_count": 18,
   "metadata": {},
   "outputs": [],
   "source": [
    "# recommend movies based on a set of categ\n",
    "def recommend_given_categories(categs, min_categ_relevances = [], default_relevance = 0.5, top_k= 15):\n",
    "    # returns top_k movies with a combination of categories with relevances to each categ and sorted by rating\n",
    "    #@ categs : categs from \" base_categs_list \"\n",
    "    #@ min_categ_relevances : minimum relevance for each categ, default is [ default_relevance, default_relevance, default_relevance, .... ]\n",
    "\n",
    "    while len(min_categ_relevances) < len(categs):\n",
    "        min_categ_relevances.append(default_relevance)\n",
    "\n",
    "    good_relevance_ids = []\n",
    "    gr_movies = genome_scores[genome_scores[\"tag\"].str.lower().isin(categs) &\n",
    "                              (genome_scores[\"relevance\"] >= min(min_categ_relevances))\n",
    "                             ].groupby(by=\"movieId\")\n",
    "\n",
    "    for movie_id, group in gr_movies:\n",
    "        is_good_movie = True\n",
    "        for idx in range(len(categs)):\n",
    "            categ = categs[idx]\n",
    "            relev = min_categ_relevances[idx]\n",
    "            if len(group.query(f\"tag == '{categ}' and relevance >= {relev}\")) == 0: \n",
    "                is_good_movie = False\n",
    "                break\n",
    "\n",
    "        if is_good_movie == True:\n",
    "            good_relevance_ids.append(movie_id)\n",
    "\n",
    "    selected_movies = movies[movies[\"movieId\"].isin(good_relevance_ids)]\\\n",
    "        .sort_values(by=[\"meanRating\"], ascending=False)[:top_k]\n",
    "    return selected_movies\n"
   ]
  },
  {
   "cell_type": "code",
   "execution_count": 19,
   "metadata": {},
   "outputs": [
    {
     "data": {
      "text/html": [
       "<div>\n",
       "<style scoped>\n",
       "    .dataframe tbody tr th:only-of-type {\n",
       "        vertical-align: middle;\n",
       "    }\n",
       "\n",
       "    .dataframe tbody tr th {\n",
       "        vertical-align: top;\n",
       "    }\n",
       "\n",
       "    .dataframe thead th {\n",
       "        text-align: right;\n",
       "    }\n",
       "</style>\n",
       "<table border=\"1\" class=\"dataframe\">\n",
       "  <thead>\n",
       "    <tr style=\"text-align: right;\">\n",
       "      <th></th>\n",
       "      <th>movieId</th>\n",
       "      <th>title</th>\n",
       "      <th>genres</th>\n",
       "      <th>meanRating</th>\n",
       "    </tr>\n",
       "  </thead>\n",
       "  <tbody>\n",
       "    <tr>\n",
       "      <th>359</th>\n",
       "      <td>364</td>\n",
       "      <td>Lion King, The (1994)</td>\n",
       "      <td>Adventure|Animation|Children|Drama|Musical|IMAX</td>\n",
       "      <td>2.249912</td>\n",
       "    </tr>\n",
       "    <tr>\n",
       "      <th>580</th>\n",
       "      <td>588</td>\n",
       "      <td>Aladdin (1992)</td>\n",
       "      <td>Adventure|Animation|Children|Comedy|Musical</td>\n",
       "      <td>2.021459</td>\n",
       "    </tr>\n",
       "    <tr>\n",
       "      <th>898</th>\n",
       "      <td>919</td>\n",
       "      <td>Wizard of Oz, The (1939)</td>\n",
       "      <td>Adventure|Children|Fantasy|Musical</td>\n",
       "      <td>1.937017</td>\n",
       "    </tr>\n",
       "    <tr>\n",
       "      <th>587</th>\n",
       "      <td>595</td>\n",
       "      <td>Beauty and the Beast (1991)</td>\n",
       "      <td>Animation|Children|Fantasy|Musical|Romance|IMAX</td>\n",
       "      <td>1.674356</td>\n",
       "    </tr>\n",
       "    <tr>\n",
       "      <th>1992</th>\n",
       "      <td>2081</td>\n",
       "      <td>Little Mermaid, The (1989)</td>\n",
       "      <td>Animation|Children|Comedy|Musical|Romance</td>\n",
       "      <td>1.210074</td>\n",
       "    </tr>\n",
       "    <tr>\n",
       "      <th>1005</th>\n",
       "      <td>1028</td>\n",
       "      <td>Mary Poppins (1964)</td>\n",
       "      <td>Children|Comedy|Fantasy|Musical</td>\n",
       "      <td>1.208564</td>\n",
       "    </tr>\n",
       "    <tr>\n",
       "      <th>1012</th>\n",
       "      <td>1035</td>\n",
       "      <td>Sound of Music, The (1965)</td>\n",
       "      <td>Musical|Romance</td>\n",
       "      <td>1.175238</td>\n",
       "    </tr>\n",
       "    <tr>\n",
       "      <th>1818</th>\n",
       "      <td>1907</td>\n",
       "      <td>Mulan (1998)</td>\n",
       "      <td>Adventure|Animation|Children|Comedy|Drama|Musi...</td>\n",
       "      <td>0.907006</td>\n",
       "    </tr>\n",
       "    <tr>\n",
       "      <th>588</th>\n",
       "      <td>596</td>\n",
       "      <td>Pinocchio (1940)</td>\n",
       "      <td>Animation|Children|Fantasy|Musical</td>\n",
       "      <td>0.821976</td>\n",
       "    </tr>\n",
       "    <tr>\n",
       "      <th>1006</th>\n",
       "      <td>1029</td>\n",
       "      <td>Dumbo (1941)</td>\n",
       "      <td>Animation|Children|Drama|Musical</td>\n",
       "      <td>0.751167</td>\n",
       "    </tr>\n",
       "    <tr>\n",
       "      <th>1929</th>\n",
       "      <td>2018</td>\n",
       "      <td>Bambi (1942)</td>\n",
       "      <td>Animation|Children|Drama</td>\n",
       "      <td>0.721372</td>\n",
       "    </tr>\n",
       "    <tr>\n",
       "      <th>10248</th>\n",
       "      <td>37729</td>\n",
       "      <td>Corpse Bride (2005)</td>\n",
       "      <td>Animation|Comedy|Fantasy|Musical|Romance</td>\n",
       "      <td>0.681240</td>\n",
       "    </tr>\n",
       "    <tr>\n",
       "      <th>47</th>\n",
       "      <td>48</td>\n",
       "      <td>Pocahontas (1995)</td>\n",
       "      <td>Animation|Children|Drama|Musical|Romance</td>\n",
       "      <td>0.646346</td>\n",
       "    </tr>\n",
       "    <tr>\n",
       "      <th>1510</th>\n",
       "      <td>1566</td>\n",
       "      <td>Hercules (1997)</td>\n",
       "      <td>Adventure|Animation|Children|Comedy|Musical</td>\n",
       "      <td>0.582696</td>\n",
       "    </tr>\n",
       "    <tr>\n",
       "      <th>20638</th>\n",
       "      <td>106696</td>\n",
       "      <td>Frozen (2013)</td>\n",
       "      <td>Adventure|Animation|Comedy|Fantasy|Musical|Rom...</td>\n",
       "      <td>0.537739</td>\n",
       "    </tr>\n",
       "  </tbody>\n",
       "</table>\n",
       "</div>"
      ],
      "text/plain": [
       "       movieId                        title  \\\n",
       "359        364        Lion King, The (1994)   \n",
       "580        588               Aladdin (1992)   \n",
       "898        919     Wizard of Oz, The (1939)   \n",
       "587        595  Beauty and the Beast (1991)   \n",
       "1992      2081   Little Mermaid, The (1989)   \n",
       "1005      1028          Mary Poppins (1964)   \n",
       "1012      1035   Sound of Music, The (1965)   \n",
       "1818      1907                 Mulan (1998)   \n",
       "588        596             Pinocchio (1940)   \n",
       "1006      1029                 Dumbo (1941)   \n",
       "1929      2018                 Bambi (1942)   \n",
       "10248    37729          Corpse Bride (2005)   \n",
       "47          48            Pocahontas (1995)   \n",
       "1510      1566              Hercules (1997)   \n",
       "20638   106696                Frozen (2013)   \n",
       "\n",
       "                                                  genres  meanRating  \n",
       "359      Adventure|Animation|Children|Drama|Musical|IMAX    2.249912  \n",
       "580          Adventure|Animation|Children|Comedy|Musical    2.021459  \n",
       "898                   Adventure|Children|Fantasy|Musical    1.937017  \n",
       "587      Animation|Children|Fantasy|Musical|Romance|IMAX    1.674356  \n",
       "1992           Animation|Children|Comedy|Musical|Romance    1.210074  \n",
       "1005                     Children|Comedy|Fantasy|Musical    1.208564  \n",
       "1012                                     Musical|Romance    1.175238  \n",
       "1818   Adventure|Animation|Children|Comedy|Drama|Musi...    0.907006  \n",
       "588                   Animation|Children|Fantasy|Musical    0.821976  \n",
       "1006                    Animation|Children|Drama|Musical    0.751167  \n",
       "1929                            Animation|Children|Drama    0.721372  \n",
       "10248           Animation|Comedy|Fantasy|Musical|Romance    0.681240  \n",
       "47              Animation|Children|Drama|Musical|Romance    0.646346  \n",
       "1510         Adventure|Animation|Children|Comedy|Musical    0.582696  \n",
       "20638  Adventure|Animation|Comedy|Fantasy|Musical|Rom...    0.537739  "
      ]
     },
     "execution_count": 19,
     "metadata": {},
     "output_type": "execute_result"
    }
   ],
   "source": [
    "recommend_given_categories([\"musical\", \"children\"], default_relevance=0.7)\n",
    "# lengenome_scores.query(f\"tag == '{'action'}' and relevance >= {0.9}\")"
   ]
  },
  {
   "cell_type": "markdown",
   "metadata": {},
   "source": [
    "## Given a user state, recommend!"
   ]
  },
  {
   "cell_type": "code",
   "execution_count": 20,
   "metadata": {},
   "outputs": [],
   "source": [
    "# #TODO liked list movies by our user\n",
    "# liked_movie_names = [\"Toy story\", \"lion king\"]"
   ]
  },
  {
   "cell_type": "markdown",
   "metadata": {},
   "source": [
    "## Test"
   ]
  },
  {
   "cell_type": "code",
   "execution_count": 21,
   "metadata": {},
   "outputs": [
    {
     "name": "stdout",
     "output_type": "stream",
     "text": [
      "======= Movie: Toy story =======\n",
      "\n",
      "Similar movies based on ratings\n",
      "{'id': 356, 'name': 'Forrest Gump (1994)'}\n",
      "{'id': 1270, 'name': 'Back to the Future (1985)'}\n",
      "{'id': 480, 'name': 'Jurassic Park (1993)'}\n",
      "{'id': 3114, 'name': 'Toy Story 2 (1999)'}\n",
      "{'id': 260, 'name': 'Star Wars: Episode IV - A New Hope (1977)'}\n",
      "-------------------------------\n",
      "Based on categories\n",
      "action\n",
      "{'id': 2571, 'name': 'Matrix, The (1999)'}\n",
      "{'id': 260, 'name': 'Star Wars: Episode IV - A New Hope (1977)'}\n",
      "{'id': 1196, 'name': 'Star Wars: Episode V - The Empire Strikes Back (1980)'}\n",
      "adventure\n",
      "{'id': 260, 'name': 'Star Wars: Episode IV - A New Hope (1977)'}\n",
      "{'id': 1196, 'name': 'Star Wars: Episode V - The Empire Strikes Back (1980)'}\n",
      "{'id': 1198, 'name': 'Raiders of the Lost Ark (Indiana Jones and the Raiders of the Lost Ark) (1981)'}\n",
      "animation\n",
      "{'id': 1, 'name': 'Toy Story (1995)'}\n",
      "{'id': 4306, 'name': 'Shrek (2001)'}\n",
      "{'id': 364, 'name': 'Lion King, The (1994)'}\n",
      "children\n",
      "{'id': 480, 'name': 'Jurassic Park (1993)'}\n",
      "{'id': 1, 'name': 'Toy Story (1995)'}\n",
      "{'id': 4306, 'name': 'Shrek (2001)'}\n",
      "comedy\n",
      "{'id': 1270, 'name': 'Back to the Future (1985)'}\n",
      "{'id': 1265, 'name': 'Groundhog Day (1993)'}\n",
      "{'id': 1580, 'name': 'Men in Black (a.k.a. MIB) (1997)'}\n"
     ]
    }
   ],
   "source": [
    "movie_name = \"Toy story\"\n",
    "recommendations = general_recommendation(get_movie_id(\"Toy story\")[0])\n",
    "\n",
    "print(f\"======= Movie: {movie_name} =======\\n\")\n",
    "print(\"Similar movies based on ratings\")\n",
    "for movie in recommendations[\"similar_movies\"]:\n",
    "    print(movie)\n",
    "print(\"-------------------------------\")\n",
    "\n",
    "print(\"Based on categories\")\n",
    "for category in recommendations[\"based_on_categs\"]:\n",
    "    print(category)\n",
    "    for movie in recommendations[\"based_on_categs\"][category]:\n",
    "        print(movie)\n",
    "    # print(\"-------------------------------\")"
   ]
  },
  {
   "cell_type": "code",
   "execution_count": 22,
   "metadata": {},
   "outputs": [],
   "source": [
    "class movie_recommender:\n",
    "    def __init__(self) -> None:\n",
    "        self.movies = movies\n",
    "        self.piv_matrix = piv_matrix\n",
    "        self.knn = knn\n",
    "        self.csr_data = csr_data\n",
    "        self.genome_scores = genome_scores\n",
    "        self.base_categs_list = base_categs_list\n",
    "        self.pd = pd\n",
    "        pass\n",
    "\n",
    "    def get_movie_id(self, movie_name):\n",
    "        try:\n",
    "            ids = self.movies[self.movies['title'].str.lower().str.contains(movie_name.lower().strip())][\"movieId\"].values\n",
    "            return ids\n",
    "        except:\n",
    "            return []\n",
    "\n",
    "    def recommend_based_on_similar_ratings(self, movie_id, no_of_similars = 5):\n",
    "        recommended_movies = []\n",
    "        recommended_movies_with_dist = []\n",
    "        list_of_columns = list(self.piv_matrix.columns)\n",
    "        \n",
    "        try:\n",
    "            movie_index = list_of_columns.index(movie_id)\n",
    "            distances , indices = self.knn.kneighbors(self.csr_data[movie_index],n_neighbors= no_of_similars + 1)\n",
    "            tmp = zip(list(distances[0]), list(indices[0]))\n",
    "\n",
    "            for item in tmp:\n",
    "                recommended_movies_with_dist.append(item)\n",
    "        except:\n",
    "            pass\n",
    "                \n",
    "        recommended_movies_with_dist = sorted(list(set(recommended_movies_with_dist)))\n",
    "\n",
    "        for item in recommended_movies_with_dist:\n",
    "            movie_idx = item[1]\n",
    "            new_movie_id = list_of_columns[movie_idx]\n",
    "\n",
    "            if new_movie_id == movie_id: continue\n",
    "\n",
    "            recommended_movie_name = self.movies[self.movies[\"movieId\"] == new_movie_id][\"title\"].values[0]\n",
    "            recommended_movies.append({\"id\": new_movie_id, \"name\": recommended_movie_name})\n",
    "\n",
    "        return recommended_movies\n",
    "\n",
    "    def get_top_categs_of_movie(self, movie_id, top_k = 5, is_dynamic_k=False):\n",
    "        relevance_thr = 0.6\n",
    "\n",
    "        categs_sorted_by_relevance = self.genome_scores[self.genome_scores[\"movieId\"] == movie_id].sort_values(by=['relevance'], ascending=False)\\\n",
    "                                    [[\"tagId\", \"tag\", \"relevance\"]]\n",
    "        \n",
    "        base_categs = categs_sorted_by_relevance[categs_sorted_by_relevance[\"tag\"].isin(self.base_categs_list)]\n",
    "            \n",
    "        if is_dynamic_k == True:\n",
    "            return base_categs[base_categs[\"relevance\"] >= relevance_thr]\n",
    "\n",
    "        else:\n",
    "            top_k_categs = base_categs.iloc[:top_k]\n",
    "            return top_k_categs\n",
    "\n",
    "    def recommend_based_on_similar_categs(self, movie_id, top_k= 5, is_dynamic_k=True\n",
    "                                        , relevance_per_categ=0.8, min_mean_rating= 2.5\n",
    "                                        , k_movies_per_categ=3, sorting_order=[\"meanRating\", \"relevance\"]):\n",
    "\n",
    "        recommendations = {}\n",
    "        top_categs = list(self.get_top_categs_of_movie(movie_id, top_k=top_k, is_dynamic_k=is_dynamic_k)[\"tag\"])\n",
    "\n",
    "        valid_movies_categ_relevanve_rating_name = self.genome_scores[(self.genome_scores[\"tag\"].isin( top_categs )) & (self.genome_scores[\"relevance\"] >= relevance_per_categ)]\n",
    "        valid_movies_categ_relevanve_rating_name = self.pd.merge(valid_movies_categ_relevanve_rating_name\n",
    "                                                        , self.movies[[\"movieId\", \"title\", \"meanRating\"]]\n",
    "                                                        , on=\"movieId\")\n",
    "        \n",
    "        valid_movies_categ_relevanve_rating_name = valid_movies_categ_relevanve_rating_name.sort_values(by=sorting_order, ascending=False)\n",
    "\n",
    "        # fetching and fill k_movies_per_categ\n",
    "        gr_valid_movies = valid_movies_categ_relevanve_rating_name.groupby(by=\"tag\")\n",
    "\n",
    "        for tag, group in gr_valid_movies:\n",
    "            current_movies = []\n",
    "\n",
    "            for movie in group[:k_movies_per_categ][[\"movieId\", \"title\"]].values:\n",
    "                current_movies.append({\"id\": movie[0], \"name\": movie[1]})\n",
    "            recommendations[tag] = current_movies\n",
    "\n",
    "        return recommendations\n",
    "\n",
    "    def general_recommendation(self, movie_id):\n",
    "        similar_movies = self.recommend_based_on_similar_ratings(movie_id)\n",
    "        recommend_based_on_categs = self.recommend_based_on_similar_categs(movie_id)\n",
    "\n",
    "        return { \"similar_movies\": similar_movies, \"based_on_categs\": recommend_based_on_categs }\n",
    "\n",
    "    def recommend_given_categories(self, categs, min_categ_relevances = [], default_relevance = 0.5, top_k= 15):\n",
    "        while len(min_categ_relevances) < len(categs):\n",
    "            min_categ_relevances.append(default_relevance)\n",
    "\n",
    "        good_relevance_ids = []\n",
    "        gr_movies = self.genome_scores[self.genome_scores[\"tag\"].str.lower().isin(categs) &\n",
    "                                (self.genome_scores[\"relevance\"] >= min(min_categ_relevances))\n",
    "                                ].groupby(by=\"movieId\")\n",
    "\n",
    "        for movie_id, group in gr_movies:\n",
    "            is_good_movie = True\n",
    "            for idx in range(len(categs)):\n",
    "                categ = categs[idx]\n",
    "                relev = min_categ_relevances[idx]\n",
    "                if len(group.query(f\"tag == '{categ}' and relevance >= {relev}\")) == 0: \n",
    "                    is_good_movie = False\n",
    "                    break\n",
    "\n",
    "            if is_good_movie == True:\n",
    "                good_relevance_ids.append(movie_id)\n",
    "\n",
    "        selected_movies = self.movies[self.movies[\"movieId\"].isin(good_relevance_ids)]\\\n",
    "            .sort_values(by=[\"meanRating\"], ascending=False)[:top_k]\n",
    "        return selected_movies\n"
   ]
  },
  {
   "cell_type": "code",
   "execution_count": 23,
   "metadata": {},
   "outputs": [],
   "source": [
    "model = movie_recommender()\n",
    "# model.recommend_given_categories([\"musical\", \"children\"], default_relevance=0.7)"
   ]
  },
  {
   "cell_type": "code",
   "execution_count": 24,
   "metadata": {},
   "outputs": [
    {
     "ename": "",
     "evalue": "",
     "output_type": "error",
     "traceback": [
      "\u001b[1;31mThe Kernel crashed while executing code in the the current cell or a previous cell. Please review the code in the cell(s) to identify a possible cause of the failure. Click <a href='https://aka.ms/vscodeJupyterKernelCrash'>here</a> for more info. View Jupyter <a href='command:jupyter.viewOutput'>log</a> for further details."
     ]
    }
   ],
   "source": [
    "import dill as pickle\n",
    "\n",
    "path = \"../utils/movie_recommender\"\n",
    "\n",
    "with open(path ,'wb') as f:\n",
    "    pickle.dump(model, f)"
   ]
  }
 ],
 "metadata": {
  "kernelspec": {
   "display_name": "Python 3.10.4 ('py310')",
   "language": "python",
   "name": "python3"
  },
  "language_info": {
   "codemirror_mode": {
    "name": "ipython",
    "version": 3
   },
   "file_extension": ".py",
   "mimetype": "text/x-python",
   "name": "python",
   "nbconvert_exporter": "python",
   "pygments_lexer": "ipython3",
   "version": "3.10.4"
  },
  "orig_nbformat": 4,
  "vscode": {
   "interpreter": {
    "hash": "e71394d2f70419f8b4d748c64bb82bed7b42c22718fd1a1d4c8e91620b6c1ac9"
   }
  }
 },
 "nbformat": 4,
 "nbformat_minor": 2
}
