{
 "cells": [
  {
   "cell_type": "code",
   "execution_count": 1,
   "metadata": {},
   "outputs": [],
   "source": [
    "import pandas as pd\n",
    "import json"
   ]
  },
  {
   "cell_type": "code",
   "execution_count": 2,
   "metadata": {},
   "outputs": [],
   "source": [
    "text = list()\n",
    "intent = list()"
   ]
  },
  {
   "cell_type": "code",
   "execution_count": 3,
   "metadata": {},
   "outputs": [
    {
     "name": "stdout",
     "output_type": "stream",
     "text": [
      "300\n",
      "can you tell me which movie is going on in the nearby multiple <unk>\n"
     ]
    }
   ],
   "source": [
    "recommendation_file = open('Data/recommendation.json')\n",
    "recommendation = json.load(recommendation_file)\n",
    "for index in range(len(recommendation)):\n",
    "    text.append(recommendation[index][\"utterance\"])\n",
    "    if recommendation[index][\"intent\"] == 'events':\n",
    "        recommendation[index][\"intent\"] = 'locations'\n",
    "    intent.append(recommendation[index][\"intent\"])\n",
    "print(len(recommendation))\n",
    "print(text[-1])"
   ]
  },
  {
   "cell_type": "code",
   "execution_count": 4,
   "metadata": {},
   "outputs": [
    {
     "name": "stdout",
     "output_type": "stream",
     "text": [
      "2276\n",
      "3d show sf roxie theater\n"
     ]
    }
   ],
   "source": [
    "movies_file = open('Data/Movies.json')\n",
    "movies = json.load(movies_file)\n",
    "for index in range(len(movies)):\n",
    "    text.append(movies[index][\"utterance\"])\n",
    "    intent.append('movies')\n",
    "print(len(movies))\n",
    "print(text[-1])"
   ]
  },
  {
   "cell_type": "code",
   "execution_count": 5,
   "metadata": {},
   "outputs": [
    {
     "name": "stdout",
     "output_type": "stream",
     "text": [
      "Index(['message', 'intent'], dtype='object')\n",
      "I need tea.\n"
     ]
    }
   ],
   "source": [
    "location = pd.read_csv('Data/kvret_dataset')\n",
    "print(location.columns)\n",
    "location_message = list(location['message'])\n",
    "location_intent = list(location['intent'])\n",
    "for index in range(len(location_message)):\n",
    "    if location_intent[index] == 'navigate':\n",
    "        text.append(location_message[index])\n",
    "        intent.append('locations')\n",
    "print(text[-1])"
   ]
  },
  {
   "cell_type": "code",
   "execution_count": 6,
   "metadata": {},
   "outputs": [
    {
     "data": {
      "text/plain": [
       "3376"
      ]
     },
     "execution_count": 6,
     "metadata": {},
     "output_type": "execute_result"
    }
   ],
   "source": [
    "len(text)"
   ]
  },
  {
   "cell_type": "code",
   "execution_count": 7,
   "metadata": {},
   "outputs": [
    {
     "data": {
      "text/plain": [
       "3376"
      ]
     },
     "execution_count": 7,
     "metadata": {},
     "output_type": "execute_result"
    }
   ],
   "source": [
    "len(intent)"
   ]
  },
  {
   "cell_type": "code",
   "execution_count": 8,
   "metadata": {},
   "outputs": [],
   "source": [
    "import numpy as np\n",
    "data = pd.DataFrame({'text':np.array(text),'intent':np.array(intent)})\n",
    "data = data.sample(frac = 1)\n",
    "data.to_csv('Data/main.csv',index=False)"
   ]
  },
  {
   "cell_type": "code",
   "execution_count": 9,
   "metadata": {},
   "outputs": [
    {
     "data": {
      "text/plain": [
       "3376"
      ]
     },
     "execution_count": 9,
     "metadata": {},
     "output_type": "execute_result"
    }
   ],
   "source": [
    "len(data)"
   ]
  }
 ],
 "metadata": {
  "interpreter": {
   "hash": "369f2c481f4da34e4445cda3fffd2e751bd1c4d706f27375911949ba6bb62e1c"
  },
  "kernelspec": {
   "display_name": "Python 3.10.1 64-bit",
   "language": "python",
   "name": "python3"
  },
  "language_info": {
   "codemirror_mode": {
    "name": "ipython",
    "version": 3
   },
   "file_extension": ".py",
   "mimetype": "text/x-python",
   "name": "python",
   "nbconvert_exporter": "python",
   "pygments_lexer": "ipython3",
   "version": "3.10.1"
  },
  "orig_nbformat": 4
 },
 "nbformat": 4,
 "nbformat_minor": 2
}
