{
 "cells": [
  {
   "cell_type": "code",
   "execution_count": 1,
   "source": [
    "import requests\r\n",
    "from bs4 import BeautifulSoup\r\n",
    "from bs4 import NavigableString"
   ],
   "outputs": [
    {
     "output_type": "stream",
     "name": "stderr",
     "text": [
      "E:\\Anaconda3\\lib\\site-packages\\requests\\__init__.py:89: RequestsDependencyWarning: urllib3 (1.26.9) or chardet (3.0.4) doesn't match a supported version!\n",
      "  warnings.warn(\"urllib3 ({}) or chardet ({}) doesn't match a supported \"\n"
     ]
    }
   ],
   "metadata": {}
  },
  {
   "cell_type": "code",
   "execution_count": 2,
   "source": [
    "headers = {'User-Agent': 'Mozilla/5.0 (Macintosh; Intel Mac OS X 10.15; rv:96.0) Gecko/20100101 Firefox/96.0'}"
   ],
   "outputs": [],
   "metadata": {}
  },
  {
   "cell_type": "code",
   "execution_count": 21,
   "source": [
    "def scarp_novel_part(PATH, flag = ':'):\r\n",
    "    headers = {'User-Agent': 'Mozilla/5.0 (Macintosh; Intel Mac OS X 10.15; rv:96.0) Gecko/20100101 Firefox/96.0'}\r\n",
    "    HOST = \"https://www.wattpad.com\"\r\n",
    "    \r\n",
    "    page = requests.get(HOST + PATH, headers=headers)\r\n",
    "    soup = BeautifulSoup(page.content, \"html.parser\")\r\n",
    "\r\n",
    "    pre = soup.find(\"pre\")\r\n",
    "    ps = pre.find_all(\"p\")\r\n",
    "\r\n",
    "    dialog = []\r\n",
    "\r\n",
    "    for p in ps:\r\n",
    "        contents = p.contents\r\n",
    "\r\n",
    "        for text in contents:\r\n",
    "            if type(text) != NavigableString: continue # new-line\r\n",
    "            \r\n",
    "            if text.find(flag) == -1: continue\r\n",
    "\r\n",
    "            dialog.append( text[text.find(flag) + len(flag): ].strip() )\r\n",
    "\r\n",
    "    return dialog"
   ],
   "outputs": [],
   "metadata": {}
  },
  {
   "cell_type": "code",
   "execution_count": 4,
   "source": [
    "def get_story_parts_links(URL):\r\n",
    "    page = requests.get(URL, headers=headers)\r\n",
    "    soup = BeautifulSoup(page.content, \"html.parser\")\r\n",
    "\r\n",
    "    paths = []\r\n",
    "\r\n",
    "    res = soup.find_all(\"div\", {\"class\": \"story-parts\"})\r\n",
    "    res = res[0]\r\n",
    "\r\n",
    "    anchors = res.find_all(\"a\")\r\n",
    "\r\n",
    "    for a in anchors:\r\n",
    "        paths.append(a.attrs[\"href\"])\r\n",
    "\r\n",
    "    return paths"
   ],
   "outputs": [],
   "metadata": {}
  },
  {
   "cell_type": "code",
   "execution_count": 5,
   "source": [
    "def scrap_whole_story(story_url, flag = \":\"):\r\n",
    "    paths = get_story_parts_links(story_url)\r\n",
    "\r\n",
    "    dialogs = []\r\n",
    "\r\n",
    "    for path in paths:\r\n",
    "        dialog = scarp_novel_part(path, flag)\r\n",
    "        dialogs.append(dialog)\r\n",
    "\r\n",
    "    return dialogs\r\n"
   ],
   "outputs": [],
   "metadata": {}
  },
  {
   "cell_type": "code",
   "execution_count": 6,
   "source": [
    "# # احببت كاره النساء\r\n",
    "# URL_1 = \"https://www.wattpad.com/story/181957426-%D8%B1%D9%88%D8%A7%D9%8A%D8%A9-%D8%A7%D8%AD%D8%A8%D8%A8%D8%AA-%D9%83%D8%A7%D8%B1%D9%87-%D8%A7%D9%84%D9%86%D8%B3%D8%A7%D8%A1\"\r\n",
    "# res_1 = scrap_whole_story(URL_1, \":\")\r\n",
    "# print(sum([len(x) for x in res_1]))"
   ],
   "outputs": [],
   "metadata": {}
  },
  {
   "cell_type": "code",
   "execution_count": 7,
   "source": [
    "# # ضائعة في قلب ميت\r\n",
    "# URL_2 = \"https://www.wattpad.com/story/115859904-%D8%B6%D8%A7%D8%A6%D8%B9%D9%87-%D9%81%D9%8A-%D9%82%D9%84%D8%A8-%D9%85%D9%8A%D8%AA\"\r\n",
    "# res_2 = scrap_whole_story(URL_2, \":\")\r\n",
    "# print(sum([len(x) for x in res_2]))\r\n",
    "\r\n",
    "# with open(\"./scrapped-data/ضائعة فى قلب ميت.txt\", \"w\", encoding='utf-8') as f:\r\n",
    "#     for x in res_2:\r\n",
    "#         if len(x):\r\n",
    "#             f.write(\"\\n\".join(x))"
   ],
   "outputs": [],
   "metadata": {}
  },
  {
   "cell_type": "code",
   "execution_count": 8,
   "source": [
    "# # ضائعة في قلب ميت 2\r\n",
    "# URL_3 = \"https://www.wattpad.com/story/115893456-%D8%B6%D8%A7%D8%A6%D8%B9%D9%87-%D9%81%D9%8A-%D9%82%D9%84%D8%A8-%D9%85%D9%8A%D8%AA-2\"\r\n",
    "# res_3 = scrap_whole_story(URL_3, \":\")\r\n",
    "# print(sum([len(x) for x in res_3]))\r\n",
    "\r\n",
    "# with open(\"./scrapped-data/2 ضائعة فى قلب ميت.txt\", \"w\", encoding='utf-8') as f:\r\n",
    "#     for x in res_3:\r\n",
    "#         if len(x):\r\n",
    "#             f.write(\"\\n\".join(x))"
   ],
   "outputs": [],
   "metadata": {}
  },
  {
   "cell_type": "code",
   "execution_count": 9,
   "source": [
    "# # عيلة مصرية 2\r\n",
    "# URL_4 = \"https://www.wattpad.com/story/151100959-%D8%B9%D9%8A%D9%84%D8%A9-%D9%85%D8%B5%D8%B1%D9%8A%D8%A9-2%2B\"\r\n",
    "# res_4 = scrap_whole_story(URL_4, \".\")\r\n",
    "# print(sum([len(x) for x in res_4]))\r\n",
    "\r\n",
    "# with open(\"./scrapped-data/2 عيلة مصرية.txt\", \"w\", encoding='utf-8') as f:\r\n",
    "#     for x in res_4:\r\n",
    "#         if len(x):\r\n",
    "#             f.write(\"\\n\".join(x))"
   ],
   "outputs": [],
   "metadata": {}
  },
  {
   "cell_type": "code",
   "execution_count": 10,
   "source": [
    "# # قصر الدبلوماسى\r\n",
    "# URL_5 = \"https://www.wattpad.com/story/12502070-%D9%82%D8%B5%D8%B1-%D8%A7%D9%84%D8%AF%D8%A8%D9%84%D9%88%D9%85%D8%A7%D8%B3%D9%89\"\r\n",
    "# res_5 = scrap_whole_story(URL_5, \":\")\r\n",
    "# print(sum([len(x) for x in res_5]))\r\n",
    "\r\n",
    "# with open(\"./scrapped-data/قصر الدبلوماسى.txt\", \"w\", encoding='utf-8') as f:\r\n",
    "#     for x in res_5:\r\n",
    "#         if len(x):\r\n",
    "#             f.write(\"\\n\".join(x))"
   ],
   "outputs": [],
   "metadata": {}
  },
  {
   "cell_type": "code",
   "execution_count": 11,
   "source": [
    "# # الدّين\r\n",
    "# URL_6 = \"https://www.wattpad.com/story/51207143-%D8%A7%D9%84%D9%80%D8%AF%D9%91%D9%8A%D9%92%D9%80%D9%86\"\r\n",
    "# res_6 = scrap_whole_story(URL_6, \":\")\r\n",
    "# print(sum([len(x) for x in res_6]))\r\n",
    "\r\n",
    "# with open(\"./scrapped-data/الدّين.txt\", \"w\", encoding='utf-8') as f:\r\n",
    "#     for x in res_6:\r\n",
    "#         if len(x):\r\n",
    "#             f.write(\"\\n\".join(x))"
   ],
   "outputs": [],
   "metadata": {}
  },
  {
   "cell_type": "code",
   "execution_count": 12,
   "source": [
    "# # أبيض VS أحمر\r\n",
    "# URL_7 = \"https://www.wattpad.com/story/47735132-%D8%A3%D8%AD%D9%85%D8%B1-vs-%D8%A3%D8%A8%D9%8A%D8%B6\"\r\n",
    "# res_7 = scrap_whole_story(URL_7, \":\")\r\n",
    "# print(sum([len(x) for x in res_7]))\r\n",
    "\r\n",
    "# with open(\"./scrapped-data/أبيض وأحمر.txt\", \"w\", encoding='utf-8') as f:\r\n",
    "#     for x in res_7:\r\n",
    "#         if len(x):\r\n",
    "#             f.write(\"\\n\".join(x))"
   ],
   "outputs": [],
   "metadata": {}
  },
  {
   "cell_type": "code",
   "execution_count": 17,
   "source": [
    "# حنان قاس\r\n",
    "URL_8 = \"https://www.wattpad.com/story/78761421-%D8%AD%D9%86%D8%A7%D9%86-%D9%82%D8%A7%D8%B3\"\r\n",
    "res_8 = scrap_whole_story(URL_8, \"-\")\r\n",
    "print(sum([len(x) for x in res_8]))\r\n",
    "\r\n",
    "with open(\"./scrapped-data/حنان قاس.txt\", \"w\", encoding='utf-8') as f:\r\n",
    "    for x in res_8:\r\n",
    "        if len(x):\r\n",
    "            f.write(\"\\n\".join(x))"
   ],
   "outputs": [
    {
     "output_type": "stream",
     "name": "stdout",
     "text": [
      "1212\n"
     ]
    }
   ],
   "metadata": {}
  },
  {
   "cell_type": "code",
   "execution_count": 18,
   "source": [
    "# فريسة غلبت الصياد\r\n",
    "\r\n",
    "URL_9 = \"https://www.wattpad.com/story/61822366-%D9%81%D8%B1%D9%8A%D8%B3%D8%A9-%D8%BA%D9%84%D8%A8%D8%AA-%D8%A7%D9%84%D8%B5%D9%8A%D8%A7%D8%AF\"\r\n",
    "res_9 = scrap_whole_story(URL_9, \":\")\r\n",
    "print(sum([len(x) for x in res_9]))\r\n",
    "\r\n",
    "with open(\"./scrapped-data/فريسة غلبت الصياد.txt\", \"w\", encoding='utf-8') as f:\r\n",
    "    for x in res_9:\r\n",
    "        if len(x):\r\n",
    "            f.write(\"\\n\".join(x))"
   ],
   "outputs": [
    {
     "output_type": "stream",
     "name": "stdout",
     "text": [
      "1413\n"
     ]
    }
   ],
   "metadata": {}
  },
  {
   "cell_type": "code",
   "execution_count": 19,
   "source": [
    "# دهب\r\n",
    "\r\n",
    "URL_10 = \"https://www.wattpad.com/story/199465337-%D8%AF%D9%87%D8%A8\"\r\n",
    "res_10 = scrap_whole_story(URL_10, \":\")\r\n",
    "print(sum([len(x) for x in res_10]))\r\n",
    "\r\n",
    "with open(\"./scrapped-data/دهب.txt\", \"w\", encoding='utf-8') as f:\r\n",
    "    for x in res_10:\r\n",
    "        if len(x):\r\n",
    "            f.write(\"\\n\".join(x))"
   ],
   "outputs": [
    {
     "output_type": "stream",
     "name": "stdout",
     "text": [
      "1914\n"
     ]
    }
   ],
   "metadata": {}
  },
  {
   "cell_type": "code",
   "execution_count": 22,
   "source": [
    "# فرصة حياة\r\n",
    "\r\n",
    "URL_11 = \"https://www.wattpad.com/story/215055921-%D9%81%D8%B1%D8%B5%D8%A9-%D8%AD%D9%8A%D8%A7%D8%A9\"\r\n",
    "res_11 = scrap_whole_story(URL_11, \"..\")\r\n",
    "print(sum([len(x) for x in res_11]))\r\n",
    "\r\n",
    "with open(\"./scrapped-data/فرصة حياة.txt\", \"w\", encoding='utf-8') as f:\r\n",
    "    for x in res_11:\r\n",
    "        if len(x):\r\n",
    "            f.write(\"\\n\".join(x))"
   ],
   "outputs": [
    {
     "output_type": "stream",
     "name": "stdout",
     "text": [
      "2162\n"
     ]
    }
   ],
   "metadata": {}
  },
  {
   "cell_type": "code",
   "execution_count": 26,
   "source": [
    "# الوغد الحنون\r\n",
    "\r\n",
    "URL_12 = \"https://www.wattpad.com/story/90446030-~%D8%A7%D9%84%D9%88%D8%BA%D8%AF-%D8%A7%D9%84%D8%AD%D9%86%D9%88%D9%86~\"\r\n",
    "res_12 = scrap_whole_story(URL_12, \":\")\r\n",
    "print(sum([len(x) for x in res_12]))\r\n",
    "\r\n",
    "with open(\"./scrapped-data/الوغد الحنون.txt\", \"w\", encoding='utf-8') as f:\r\n",
    "    for x in res_12:\r\n",
    "        if len(x):\r\n",
    "            f.write(\"\\n\".join(x))"
   ],
   "outputs": [
    {
     "output_type": "stream",
     "name": "stdout",
     "text": [
      "470\n"
     ]
    }
   ],
   "metadata": {}
  },
  {
   "cell_type": "code",
   "execution_count": 27,
   "source": [
    "# رواية الامبراطورة\r\n",
    "\r\n",
    "URL_13 = \"https://www.wattpad.com/story/284722288-%D8%B1%D9%88%D8%A7%D9%8A%D8%A9-%D8%A7%D9%84%D8%A7%D9%85%D8%A8%D8%B1%D8%A7%D8%B7%D9%88%D8%B1%D8%A9\"\r\n",
    "res_13 = scrap_whole_story(URL_13, \":\")\r\n",
    "print(sum([len(x) for x in res_13]))\r\n",
    "\r\n",
    "with open(\"./scrapped-data/رواية الامبراطورة.txt\", \"w\", encoding='utf-8') as f:\r\n",
    "    for x in res_13:\r\n",
    "        if len(x):\r\n",
    "            f.write(\"\\n\".join(x))"
   ],
   "outputs": [
    {
     "output_type": "stream",
     "name": "stdout",
     "text": [
      "1006\n"
     ]
    }
   ],
   "metadata": {}
  },
  {
   "cell_type": "code",
   "execution_count": 31,
   "source": [
    "# بنات الخالة\r\n",
    "\r\n",
    "URL_14 = \"https://www.wattpad.com/story/133406830-%D8%A8%D9%86%D8%A7%D8%AA-%D8%A7%D9%84%D8%AE%D8%A7%D9%84%D9%87\"\r\n",
    "res_14 = scrap_whole_story(URL_14, \":\")\r\n",
    "print(sum([len(x) for x in res_14]))\r\n",
    "\r\n",
    "with open(\"./scrapped-data/بنات الخالة.txt\", \"w\", encoding='utf-8') as f:\r\n",
    "    for x in res_14:\r\n",
    "        if len(x):\r\n",
    "            f.write(\"\\n\".join(x))"
   ],
   "outputs": [
    {
     "output_type": "stream",
     "name": "stdout",
     "text": [
      "4340\n"
     ]
    }
   ],
   "metadata": {}
  },
  {
   "cell_type": "code",
   "execution_count": 64,
   "source": [
    "# مطلوب رجال للعمل\r\n",
    "\r\n",
    "URL_15 = \"https://www.wattpad.com/story/129574334-%D9%85%D8%B7%D9%84%D9%88%D8%A8-%D8%B1%D8%AC%D8%A7%D9%84-%D9%84%D9%84%D8%B9%D9%85%D9%84\"\r\n",
    "res_15 = scrap_whole_story(URL_15, \":\")\r\n",
    "print(sum([len(x) for x in res_15]))\r\n",
    "\r\n",
    "with open(\"./scrapped-data/مطلوب رجال للعمل.txt\", \"w\", encoding='utf-8') as f:\r\n",
    "    for x in res_15:\r\n",
    "        if len(x):\r\n",
    "            f.write(\"\\n\".join(x))"
   ],
   "outputs": [
    {
     "output_type": "stream",
     "name": "stdout",
     "text": [
      "3786\n"
     ]
    }
   ],
   "metadata": {}
  },
  {
   "cell_type": "code",
   "execution_count": 81,
   "source": [
    "# نقطه وسطر جديد\r\n",
    "\r\n",
    "URL_16 = \"https://wattpad.com/story/157609481-%D9%86%D9%82%D8%B7%D9%87-%D9%88%D8%B3%D8%B7%D8%B1-%D8%AC%D8%AF%D9%8A%D8%AF\"\r\n",
    "res_16 = scrap_whole_story(URL_16, \":\")\r\n",
    "print(sum([len(x) for x in res_16]))\r\n",
    "\r\n",
    "with open(\"./scrapped-data/نقطه وسطر جديد.txt\", \"w\", encoding='utf-8') as f:\r\n",
    "    for x in res_16:\r\n",
    "        if len(x):\r\n",
    "            f.write(\"\\n\".join(x))"
   ],
   "outputs": [
    {
     "output_type": "stream",
     "name": "stdout",
     "text": [
      "317\n"
     ]
    }
   ],
   "metadata": {}
  },
  {
   "cell_type": "code",
   "execution_count": 83,
   "source": [
    "# الفراشة\r\n",
    "\r\n",
    "URL_17 = \"https://www.wattpad.com/story/132915555-%D8%A7%D9%84%D9%81%D8%B1%D8%A7%D8%B4%D9%87\"\r\n",
    "res_17 = scrap_whole_story(URL_17, \":\")\r\n",
    "print(sum([len(x) for x in res_17]))\r\n",
    "\r\n",
    "with open(\"./scrapped-data/الفراشة.txt\", \"w\", encoding='utf-8') as f:\r\n",
    "    for x in res_17:\r\n",
    "        if len(x):\r\n",
    "            f.write(\"\\n\".join(x))"
   ],
   "outputs": [
    {
     "output_type": "stream",
     "name": "stdout",
     "text": [
      "1822\n"
     ]
    }
   ],
   "metadata": {}
  },
  {
   "cell_type": "code",
   "execution_count": 84,
   "source": [
    "# رحلة الحب\r\n",
    "\r\n",
    "URL_18 = \"https://www.wattpad.com/story/132913999-%D8%B1%D8%AD%D9%84%D8%A9-%D8%A7%D9%84%D8%AD%D8%A8\"\r\n",
    "res_18 = scrap_whole_story(URL_18, \":\")\r\n",
    "print(sum([len(x) for x in res_18]))\r\n",
    "\r\n",
    "with open(\"./scrapped-data/رحلة الحب.txt\", \"w\", encoding='utf-8') as f:\r\n",
    "    for x in res_18:\r\n",
    "        if len(x):\r\n",
    "            f.write(\"\\n\".join(x))"
   ],
   "outputs": [
    {
     "output_type": "stream",
     "name": "stdout",
     "text": [
      "11516\n"
     ]
    }
   ],
   "metadata": {}
  },
  {
   "cell_type": "code",
   "execution_count": 86,
   "source": [
    "# تزوجتها لأجل ابنائى\r\n",
    "\r\n",
    "URL_19 = \"https://www.wattpad.com/story/123148174-%D8%AA%D8%B2%D9%88%D8%AC%D8%AA%D9%87%D8%A7_%D9%84%D8%A3%D8%AC%D9%84_%D8%A7%D8%A8%D9%86%D8%A7%D8%A6%D9%89\"\r\n",
    "res_19 = scrap_whole_story(URL_19, \":\")\r\n",
    "print(sum([len(x) for x in res_19]))\r\n",
    "\r\n",
    "with open(\"./scrapped-data/تزوجتها لأجل ابنائى.txt\", \"w\", encoding='utf-8') as f:\r\n",
    "    for x in res_19:\r\n",
    "        if len(x):\r\n",
    "            f.write(\"\\n\".join(x))"
   ],
   "outputs": [
    {
     "output_type": "stream",
     "name": "stdout",
     "text": [
      "739\n"
     ]
    }
   ],
   "metadata": {}
  },
  {
   "cell_type": "code",
   "execution_count": 88,
   "source": [
    "# عشقت عمياء\r\n",
    "\r\n",
    "URL_20 = \"https://www.wattpad.com/story/84643644-%D8%B9%D8%B4%D9%82%D8%AA-%D8%B9%D9%85%D9%8A%D8%A7%D8%A1\"\r\n",
    "res_20 = scrap_whole_story(URL_20, \":\")\r\n",
    "print(sum([len(x) for x in res_20]))\r\n",
    "\r\n",
    "with open(\"./scrapped-data/عشقت عمياء.txt\", \"w\", encoding='utf-8') as f:\r\n",
    "    for x in res_20:\r\n",
    "        if len(x):\r\n",
    "            f.write(\"\\n\".join(x))"
   ],
   "outputs": [
    {
     "output_type": "stream",
     "name": "stdout",
     "text": [
      "695\n"
     ]
    }
   ],
   "metadata": {}
  },
  {
   "cell_type": "code",
   "execution_count": 89,
   "source": [
    "# السكرتيرة الحسناء\r\n",
    "\r\n",
    "URL_21 = \"https://wattpad.com/story/80545563-%D9%82%D8%B5%D8%A9-%D8%A7%D9%84%D8%B3%D9%83%D8%B1%D8%AA%D9%8A%D8%B1%D8%A9-%D8%A7%D9%84%D8%AD%D8%B3%D9%86%D8%A7%D8%A1\"\r\n",
    "res_21 = scrap_whole_story(URL_21, \":\")\r\n",
    "print(sum([len(x) for x in res_21]))\r\n",
    "\r\n",
    "with open(\"./scrapped-data/السكرتيرة الحسناء.txt\", \"w\", encoding='utf-8') as f:\r\n",
    "    for x in res_21:\r\n",
    "        if len(x):\r\n",
    "            f.write(\"\\n\".join(x))"
   ],
   "outputs": [
    {
     "output_type": "stream",
     "name": "stdout",
     "text": [
      "467\n"
     ]
    }
   ],
   "metadata": {}
  },
  {
   "cell_type": "code",
   "execution_count": 90,
   "source": [
    "# قلبي اختارك\r\n",
    "\r\n",
    "URL_22 = \"https://www.wattpad.com/story/78218001-%D9%82%D9%84%D8%A8%D9%8A-%D8%A7%D8%AE%D8%AA%D8%A7%D8%B1%D9%83\"\r\n",
    "res_22 = scrap_whole_story(URL_22, \":\")\r\n",
    "print(sum([len(x) for x in res_22]))\r\n",
    "\r\n",
    "with open(\"./scrapped-data/قلبي اختارك.txt\", \"w\", encoding='utf-8') as f:\r\n",
    "    for x in res_22:\r\n",
    "        if len(x):\r\n",
    "            f.write(\"\\n\".join(x))"
   ],
   "outputs": [
    {
     "output_type": "stream",
     "name": "stdout",
     "text": [
      "565\n"
     ]
    }
   ],
   "metadata": {}
  },
  {
   "cell_type": "code",
   "execution_count": 91,
   "source": [
    "# جوازة بالتدبيس\r\n",
    "\r\n",
    "URL_23 = \"https://www.wattpad.com/story/77902118-%D9%82%D8%B5%D9%80%D9%80%D9%87-%D8%AC%D9%80%D9%80%D9%80%D9%80%D9%88%D8%A7%D8%B2%D9%87-%D8%A8%D9%80%D9%80%D8%A7%D9%84%D8%AA%D8%AF%D8%A8%D9%8A%D9%80%D9%80%D9%80%D8%B3\"\r\n",
    "res_23 = scrap_whole_story(URL_23, \":\")\r\n",
    "print(sum([len(x) for x in res_23]))\r\n",
    "\r\n",
    "with open(\"./scrapped-data/جوازة بالتدبيس.txt\", \"w\", encoding='utf-8') as f:\r\n",
    "    for x in res_23:\r\n",
    "        if len(x):\r\n",
    "            f.write(\"\\n\".join(x))"
   ],
   "outputs": [
    {
     "output_type": "stream",
     "name": "stdout",
     "text": [
      "701\n"
     ]
    }
   ],
   "metadata": {}
  },
  {
   "cell_type": "code",
   "execution_count": 92,
   "source": [
    "# انت قدري\r\n",
    "\r\n",
    "URL_24 = \"https://www.wattpad.com/story/54798127-%D9%82%D8%B5%D8%A9_%D8%A7%D9%86%D8%AA_-%D9%82%D8%AF%D8%B1%D9%8A\"\r\n",
    "res_24 = scrap_whole_story(URL_24, \":\")\r\n",
    "print(sum([len(x) for x in res_24]))\r\n",
    "\r\n",
    "with open(\"./scrapped-data/انت قدري.txt\", \"w\", encoding='utf-8') as f:\r\n",
    "    for x in res_24:\r\n",
    "        if len(x):\r\n",
    "            f.write(\"\\n\".join(x))"
   ],
   "outputs": [
    {
     "output_type": "stream",
     "name": "stdout",
     "text": [
      "1532\n"
     ]
    }
   ],
   "metadata": {}
  },
  {
   "cell_type": "code",
   "execution_count": null,
   "source": [
    "# انسة كومبيوتر\r\n",
    "\r\n",
    "URL_25 = \"https://www.wattpad.com/story/74567023-%D8%A7%D9%86%D8%B3%D9%87-%D9%83%D9%85%D8%A8%D9%8A%D9%88%D8%AA%D8%B1\"\r\n",
    "res_25 = scrap_whole_story(URL_25, \":\")\r\n",
    "print(sum([len(x) for x in res_25]))\r\n",
    "\r\n",
    "with open(\"./scrapped-data/انسة كومبيوتر.txt\", \"w\", encoding='utf-8') as f:\r\n",
    "    for x in res_25:\r\n",
    "        if len(x):\r\n",
    "            f.write(\"\\n\".join(x))"
   ],
   "outputs": [],
   "metadata": {}
  },
  {
   "cell_type": "code",
   "execution_count": null,
   "source": [],
   "outputs": [],
   "metadata": {}
  },
  {
   "cell_type": "code",
   "execution_count": 85,
   "source": [
    "# count lines in all scrapped novels\r\n",
    "import os\r\n",
    "\r\n",
    "s = 0\r\n",
    "for path in os.listdir(\"./scrapped-data/\"):\r\n",
    "    with open(\"./scrapped-data/\" + path, \"r\", encoding=\"utf-8\") as f:\r\n",
    "        s += sum(1 for line in f)\r\n",
    "\r\n",
    "print(f\"Total lines: {s}\")"
   ],
   "outputs": [
    {
     "output_type": "stream",
     "name": "stdout",
     "text": [
      "Total lines: 40112\n"
     ]
    }
   ],
   "metadata": {}
  },
  {
   "cell_type": "code",
   "execution_count": 79,
   "source": [
    "# # delete (....) or *....*\r\n",
    "\r\n",
    "# import re\r\n",
    "\r\n",
    "# def make_lines_clear_from_prant(lines):\r\n",
    "#     new_lines = []\r\n",
    "#     for l in lines:\r\n",
    "#         cur = re.sub(\"[\\(\\[].*?[\\)\\]]\", \"\", l)\r\n",
    "#         cur = re.sub(\"\\*.*\\*\", \"\", cur)\r\n",
    "#         new_lines.append(cur)\r\n",
    "#     return new_lines\r\n",
    "\r\n",
    "# def clear_file_from_prant(path):\r\n",
    "#     with open(path, \"r\", encoding=\"utf-8\") as f:\r\n",
    "#         return make_lines_clear_from_prant(f.readlines())\r\n",
    "\r\n",
    "# path = './scrapped-data/مطلوب رجال للعمل.txt'\r\n",
    "\r\n",
    "# new_data = clear_file_from_prant(path)\r\n",
    "\r\n",
    "# with open(path, \"w\", encoding='utf-8') as f:\r\n",
    "#     for x in new_data:\r\n",
    "#         if len(x):\r\n",
    "#             f.write(\"\".join(x))"
   ],
   "outputs": [],
   "metadata": {}
  },
  {
   "cell_type": "code",
   "execution_count": null,
   "source": [],
   "outputs": [],
   "metadata": {}
  },
  {
   "cell_type": "code",
   "execution_count": 14,
   "source": [
    "# def tmp_scarp_novel_part(PATH):\r\n",
    "#     headers = {'User-Agent': 'Mozilla/5.0 (Macintosh; Intel Mac OS X 10.15; rv:96.0) Gecko/20100101 Firefox/96.0'}\r\n",
    "#     HOST = \"https://www.wattpad.com\"\r\n",
    "\r\n",
    "#     page = requests.get(HOST + PATH, headers=headers)\r\n",
    "#     soup = BeautifulSoup(page.content, \"html.parser\")\r\n",
    "\r\n",
    "#     pre = soup.find(\"pre\")\r\n",
    "#     ps = pre.find_all(\"p\")\r\n",
    "\r\n",
    "#     dialog = []\r\n",
    "#     take_it = 0\r\n",
    "#     s = \"\"\r\n",
    "\r\n",
    "#     for i in range(len(ps)):\r\n",
    "#         for tag in ps[i].contents:\r\n",
    "            \r\n",
    "#             if take_it == 1:\r\n",
    "#                 if tag.contents == []:\r\n",
    "#                     take_it = 0\r\n",
    "#                     dialog.append(s.strip())\r\n",
    "#                     s = \"\"\r\n",
    "#                 else:\r\n",
    "#                     s += tag.text\r\n",
    "\r\n",
    "#             if tag.text.strip() == \":\":\r\n",
    "#                 take_it = 1\r\n",
    "#                 continue\r\n",
    "\r\n",
    "#     return dialog"
   ],
   "outputs": [],
   "metadata": {}
  },
  {
   "cell_type": "code",
   "execution_count": 15,
   "source": [
    "# good_paths = [0, 1, 14]\r\n",
    "# links = get_story_parts_links(URL_6)\r\n",
    "# part = scarp_novel_part(links[2])\r\n",
    "# PATH = links[2]\r\n",
    "\r\n",
    "# tmp = []\r\n",
    "\r\n",
    "# for i in range(len(links)):\r\n",
    "#     if i not in good_paths:\r\n",
    "#         dialog = tmp_scarp_novel_part(links[i])\r\n",
    "#         tmp.append(dialog)\r\n",
    "\r\n"
   ],
   "outputs": [],
   "metadata": {}
  }
 ],
 "metadata": {
  "orig_nbformat": 4,
  "language_info": {
   "name": "python",
   "version": "3.8.3",
   "mimetype": "text/x-python",
   "codemirror_mode": {
    "name": "ipython",
    "version": 3
   },
   "pygments_lexer": "ipython3",
   "nbconvert_exporter": "python",
   "file_extension": ".py"
  },
  "kernelspec": {
   "name": "python3",
   "display_name": "Python 3.8.3 64-bit ('base': conda)"
  },
  "interpreter": {
   "hash": "4905652b14e4b7eb92899b78ac499a22c488804455b27940a322fd82aaf71031"
  }
 },
 "nbformat": 4,
 "nbformat_minor": 2
}