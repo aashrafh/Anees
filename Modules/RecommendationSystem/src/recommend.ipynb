{
 "cells": [
  {
   "cell_type": "code",
   "execution_count": 1,
   "source": [
    "import numpy as np\r\n",
    "import pandas as pd\r\n",
    "from scipy.sparse import csr_matrix\r\n",
    "from sklearn.neighbors import NearestNeighbors"
   ],
   "outputs": [],
   "metadata": {}
  },
  {
   "cell_type": "code",
   "execution_count": 12,
   "source": [
    "data_path = \"../Data/ml-25m/\"\r\n",
    "movies = pd.read_csv(data_path + \"movies.csv\")\r\n",
    "ratings = pd.read_csv(data_path + \"usable_ratings.csv\")\r\n",
    "print(f\"# Movies = {ratings['movieId'].nunique()}\")\r\n",
    "print(f\"# Users = {ratings['userId'].nunique()}\")\r\n",
    "print(f\"# Ratings = {len(ratings)}\")"
   ],
   "outputs": [],
   "metadata": {}
  },
  {
   "cell_type": "code",
   "execution_count": 3,
   "source": [
    "# piv_matrix = valid_ratings.pivot(index=\"movieId\", columns=\"userId\", values=\"rating\")\r\n",
    "piv_matrix = ratings.pivot(index=\"userId\", columns=\"movieId\", values=\"rating\")\r\n",
    "# piv_matrix.fillna(0, inplace=True)"
   ],
   "outputs": [],
   "metadata": {}
  },
  {
   "cell_type": "code",
   "execution_count": 4,
   "source": [
    "# fill NaN's with the mean\r\n",
    "\r\n",
    "for col in list(piv_matrix.columns):\r\n",
    "    mean = piv_matrix[col].mean()\r\n",
    "    piv_matrix[col].fillna(mean, inplace=True)"
   ],
   "outputs": [],
   "metadata": {}
  },
  {
   "cell_type": "code",
   "execution_count": 5,
   "source": [
    "csr_data = csr_matrix(piv_matrix)\r\n",
    "csr_data = csr_data.transpose() #! issue in col and row"
   ],
   "outputs": [],
   "metadata": {}
  },
  {
   "cell_type": "code",
   "execution_count": 6,
   "source": [
    "knn = NearestNeighbors(metric='cosine', algorithm='brute', n_neighbors=20, n_jobs=-1)\r\n",
    "knn.fit(csr_data)"
   ],
   "outputs": [
    {
     "output_type": "execute_result",
     "data": {
      "text/plain": [
       "NearestNeighbors(algorithm='brute', metric='cosine', n_jobs=-1, n_neighbors=20)"
      ]
     },
     "metadata": {},
     "execution_count": 6
    }
   ],
   "metadata": {}
  },
  {
   "cell_type": "code",
   "execution_count": 13,
   "source": [
    "def get_movie_id(movie_name):\r\n",
    "    try:\r\n",
    "        ids = movies[movies['title'].str.lower().str.contains(movie_name.lower())][\"movieId\"].values\r\n",
    "        return ids\r\n",
    "    except:\r\n",
    "        # if does not exist reutrn []\r\n",
    "        print(\"ERR\")\r\n",
    "        return []\r\n",
    "\r\n",
    "def get_similar_movies(movie_name, no_of_similars = 5):\r\n",
    "    ids = get_movie_id(movie_name)\r\n",
    "\r\n",
    "    if len(ids) == 0:\r\n",
    "        # if does not exist reutrn []\r\n",
    "        return []\r\n",
    "\r\n",
    "    recommended_movies = []\r\n",
    "    recommended_movies_with_dist = []\r\n",
    "    list_of_columns = list(piv_matrix.columns)\r\n",
    "    \r\n",
    "    for id in ids:\r\n",
    "        try:\r\n",
    "            movie_index = list_of_columns.index(id)\r\n",
    "            distances , indices = knn.kneighbors(csr_data[movie_index],n_neighbors= no_of_similars + 1)\r\n",
    "            tmp = zip(list(distances[0]), list(indices[0]))\r\n",
    "\r\n",
    "            for item in tmp:\r\n",
    "                recommended_movies_with_dist.append(item)\r\n",
    "            \r\n",
    "        except:\r\n",
    "            # failed to find a movie\r\n",
    "            print(\"failed to find a movie\")\r\n",
    "            pass\r\n",
    "            \r\n",
    "    recommended_movies_with_dist = sorted(list(set(recommended_movies_with_dist)))\r\n",
    "\r\n",
    "    for item in recommended_movies_with_dist:\r\n",
    "        movie_idx = item[1]\r\n",
    "        movie_id = list_of_columns[movie_idx]\r\n",
    "        recommended_movie_name = movies[movies[\"movieId\"] == movie_id][\"title\"].values[0]\r\n",
    "        recommended_movies.append(recommended_movie_name)\r\n",
    "\r\n",
    "    return recommended_movies\r\n",
    "\r\n",
    "get_similar_movies(\"Titanic\", 3)"
   ],
   "outputs": [],
   "metadata": {}
  },
  {
   "cell_type": "markdown",
   "source": [
    "## Given a user state, recommend!"
   ],
   "metadata": {}
  },
  {
   "cell_type": "code",
   "execution_count": null,
   "source": [
    "# liked list movies by our user\r\n",
    "liked_movies = [\"Toy story\", \"lion king\"]"
   ],
   "outputs": [],
   "metadata": {}
  },
  {
   "cell_type": "code",
   "execution_count": null,
   "source": [],
   "outputs": [],
   "metadata": {}
  }
 ],
 "metadata": {
  "orig_nbformat": 4,
  "language_info": {
   "name": "python",
   "version": "3.8.3",
   "mimetype": "text/x-python",
   "codemirror_mode": {
    "name": "ipython",
    "version": 3
   },
   "pygments_lexer": "ipython3",
   "nbconvert_exporter": "python",
   "file_extension": ".py"
  },
  "kernelspec": {
   "name": "python3",
   "display_name": "Python 3.8.3 64-bit ('base': conda)"
  },
  "interpreter": {
   "hash": "4905652b14e4b7eb92899b78ac499a22c488804455b27940a322fd82aaf71031"
  }
 },
 "nbformat": 4,
 "nbformat_minor": 2
}