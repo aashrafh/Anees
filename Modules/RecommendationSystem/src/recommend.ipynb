{
 "cells": [
  {
   "cell_type": "code",
   "execution_count": 1,
   "source": [
    "import numpy as np\r\n",
    "import pandas as pd\r\n",
    "from scipy.sparse import csr_matrix\r\n",
    "from sklearn.neighbors import NearestNeighbors"
   ],
   "outputs": [],
   "metadata": {}
  },
  {
   "cell_type": "markdown",
   "source": [
    "# Prepare data"
   ],
   "metadata": {}
  },
  {
   "cell_type": "code",
   "execution_count": 2,
   "source": [
    "data_path = \"../Data/ml-25m/\"\r\n",
    "movies = pd.read_csv(data_path + \"movies.csv\")\r\n",
    "ratings = pd.read_csv(data_path + \"usable_ratings.csv\")\r\n",
    "genome_tags = pd.read_csv(data_path + \"genome-tags.csv\")\r\n",
    "genome_scores = pd.read_csv(data_path + \"genome-scores.csv\")\r\n",
    "genome_scores = pd.merge(genome_scores, genome_tags, on='tagId', how='inner')\r\n",
    "\r\n",
    "print(f\"# Movies = {ratings['movieId'].nunique()}\")\r\n",
    "print(f\"# Users = {ratings['userId'].nunique()}\")\r\n",
    "print(f\"# Ratings = {len(ratings)}\")\r\n",
    "print(f\"# Tags = {len(genome_tags)}\")"
   ],
   "outputs": [
    {
     "output_type": "stream",
     "name": "stdout",
     "text": [
      "# Movies = 2613\n",
      "# Users = 13671\n",
      "# Ratings = 7762927\n",
      "# Tags = 1128\n"
     ]
    }
   ],
   "metadata": {}
  },
  {
   "cell_type": "markdown",
   "source": [
    "## Set avg rating column for each movie in movies DF"
   ],
   "metadata": {}
  },
  {
   "cell_type": "code",
   "execution_count": 3,
   "source": [
    "# mean is about all users including those who did't vote for that movie\r\n",
    "gr_movie_ratings = ratings.groupby(by=\"movieId\")\r\n",
    "no_users = ratings['userId'].nunique()\r\n",
    "mean_rating_df = pd.DataFrame([], columns=[\"movieId\", \"meanRating\"])\r\n",
    "tmp_data = [[], []]\r\n",
    "\r\n",
    "for name, group in gr_movie_ratings:\r\n",
    "    mean_rating = group[\"rating\"].sum() / no_users\r\n",
    "    tmp_data[0].append(name)\r\n",
    "    tmp_data[1].append(mean_rating)\r\n",
    "\r\n",
    "mean_rating_df[\"movieId\"] = tmp_data[0]\r\n",
    "mean_rating_df[\"meanRating\"] = tmp_data[1]\r\n",
    "\r\n",
    "movies = pd.merge(movies, mean_rating_df, on=\"movieId\", how=\"left\")"
   ],
   "outputs": [],
   "metadata": {}
  },
  {
   "cell_type": "markdown",
   "source": [
    "## Extract base movie categories"
   ],
   "metadata": {}
  },
  {
   "cell_type": "code",
   "execution_count": 4,
   "source": [
    "categs_col_strs = list(movies[\"genres\"])\r\n",
    "categs_col_strs = [categ_str.split(\"|\") for categ_str in categs_col_strs]\r\n",
    "base_categs_list = []\r\n",
    "for categs_str in categs_col_strs:\r\n",
    "    base_categs_list += categs_str\r\n",
    "\r\n",
    "\r\n",
    "base_categs_list = list(set(base_categs_list))\r\n",
    "base_categs_list.remove(\"(no genres listed)\")\r\n",
    "base_categs_list.sort()\r\n",
    "print(\"Number of usable categories = \", len(base_categs_list))"
   ],
   "outputs": [
    {
     "output_type": "stream",
     "name": "stdout",
     "text": [
      "Number of usable categories =  19\n"
     ]
    }
   ],
   "metadata": {}
  },
  {
   "cell_type": "markdown",
   "source": [
    "## Prepare data for KNN the classifier"
   ],
   "metadata": {}
  },
  {
   "cell_type": "code",
   "execution_count": 5,
   "source": [
    "# piv_matrix = valid_ratings.pivot(index=\"movieId\", columns=\"userId\", values=\"rating\")\r\n",
    "piv_matrix = ratings.pivot(index=\"userId\", columns=\"movieId\", values=\"rating\")\r\n",
    "piv_matrix.fillna(0, inplace=True)"
   ],
   "outputs": [],
   "metadata": {}
  },
  {
   "cell_type": "code",
   "execution_count": 6,
   "source": [
    "# fill NaN's with the mean\r\n",
    "\r\n",
    "# for col in list(piv_matrix.columns):\r\n",
    "#     mean = piv_matrix[col].mean()\r\n",
    "#     piv_matrix[col].fillna(mean, inplace=True)"
   ],
   "outputs": [],
   "metadata": {}
  },
  {
   "cell_type": "code",
   "execution_count": 7,
   "source": [
    "csr_data = csr_matrix(piv_matrix)\r\n",
    "csr_data = csr_data.transpose() #! issue in col and row"
   ],
   "outputs": [],
   "metadata": {}
  },
  {
   "cell_type": "code",
   "execution_count": 8,
   "source": [
    "knn = NearestNeighbors(metric='cosine', algorithm='brute', n_neighbors=20, n_jobs=-1)\r\n",
    "knn.fit(csr_data)"
   ],
   "outputs": [
    {
     "output_type": "execute_result",
     "data": {
      "text/plain": [
       "NearestNeighbors(algorithm='brute', metric='cosine', n_jobs=-1, n_neighbors=20)"
      ]
     },
     "metadata": {},
     "execution_count": 8
    }
   ],
   "metadata": {}
  },
  {
   "cell_type": "markdown",
   "source": [
    "# Recommendation"
   ],
   "metadata": {}
  },
  {
   "cell_type": "code",
   "execution_count": 9,
   "source": [
    "def get_movie_id(movie_name):\r\n",
    "    try:\r\n",
    "        ids = movies[movies['title'].str.lower().str.contains(movie_name.lower().strip())][\"movieId\"].values\r\n",
    "        return ids\r\n",
    "    except:\r\n",
    "        # if does not exist reutrn []\r\n",
    "        print(\"ERR\")\r\n",
    "        return []"
   ],
   "outputs": [],
   "metadata": {}
  },
  {
   "cell_type": "markdown",
   "source": [
    "## Rating Recommendation : Based similar ratings by all users (similar combination of ratings)"
   ],
   "metadata": {}
  },
  {
   "cell_type": "code",
   "execution_count": 10,
   "source": [
    "def recommend_based_on_similar_ratings(movie_id, no_of_similars = 5):\r\n",
    "    # assumes a valid movie_id : int\r\n",
    "\r\n",
    "    recommended_movies = []\r\n",
    "    recommended_movies_with_dist = []\r\n",
    "    list_of_columns = list(piv_matrix.columns)\r\n",
    "    \r\n",
    "    try:\r\n",
    "        movie_index = list_of_columns.index(movie_id)\r\n",
    "        distances , indices = knn.kneighbors(csr_data[movie_index],n_neighbors= no_of_similars + 1)\r\n",
    "        tmp = zip(list(distances[0]), list(indices[0]))\r\n",
    "\r\n",
    "        for item in tmp:\r\n",
    "            recommended_movies_with_dist.append(item)\r\n",
    "        \r\n",
    "    except:\r\n",
    "        # failed to find a movie\r\n",
    "        # print(\"failed to find a movie\")\r\n",
    "        pass\r\n",
    "            \r\n",
    "    recommended_movies_with_dist = sorted(list(set(recommended_movies_with_dist)))\r\n",
    "\r\n",
    "    for item in recommended_movies_with_dist:\r\n",
    "        movie_idx = item[1]\r\n",
    "        new_movie_id = list_of_columns[movie_idx]\r\n",
    "\r\n",
    "        if new_movie_id == movie_id: continue\r\n",
    "\r\n",
    "        recommended_movie_name = movies[movies[\"movieId\"] == new_movie_id][\"title\"].values[0]\r\n",
    "        recommended_movies.append({\"id\": new_movie_id, \"name\": recommended_movie_name})\r\n",
    "\r\n",
    "    return recommended_movies"
   ],
   "outputs": [],
   "metadata": {}
  },
  {
   "cell_type": "markdown",
   "source": [
    "## Identify top categories of a movie"
   ],
   "metadata": {}
  },
  {
   "cell_type": "code",
   "execution_count": 11,
   "source": [
    "def get_top_categs_of_movie(movie_id, top_k = 5, is_dynamic_k=False):\r\n",
    "    # assumes a valid movie_id : int\r\n",
    "    # dynamic is for using a threshold for relevance not the static k\r\n",
    "    # returns df(tag_id, tag, relevance)\r\n",
    "\r\n",
    "    relevance_thr = 0.6 # used only in case of is_dynamic_k\r\n",
    "\r\n",
    "    categs_sorted_by_relevance = genome_scores[genome_scores[\"movieId\"] == movie_id].sort_values(by=['relevance'], ascending=False)\\\r\n",
    "                                 [[\"tagId\", \"tag\", \"relevance\"]]\r\n",
    "    \r\n",
    "    base_categs = categs_sorted_by_relevance[categs_sorted_by_relevance[\"tag\"].str.capitalize().isin(base_categs_list)]\r\n",
    "\r\n",
    "        \r\n",
    "    if is_dynamic_k == True:\r\n",
    "        return base_categs[base_categs[\"relevance\"] >= relevance_thr]\r\n",
    "\r\n",
    "    else:\r\n",
    "        top_k_categs = base_categs.iloc[:top_k]\r\n",
    "        return top_k_categs"
   ],
   "outputs": [],
   "metadata": {}
  },
  {
   "cell_type": "markdown",
   "source": [
    "## Category Recommendation : Based similar categories"
   ],
   "metadata": {}
  },
  {
   "cell_type": "code",
   "execution_count": 12,
   "source": [
    "def recommend_based_on_similar_categs(movie_id, top_k= 5, is_dynamic_k=True\r\n",
    "                                        , relevance_per_categ=0.8, min_mean_rating= 2.5\r\n",
    "                                        , k_movies_per_categ=3, sorting_order=[\"meanRating\", \"relevance\"]):\r\n",
    "    # assumes a valid movie_id : int\r\n",
    "    # return { categ1: [], categ2: [], .... }\r\n",
    "\r\n",
    "    recommendations = {}\r\n",
    "\r\n",
    "    top_categs = list(get_top_categs_of_movie(movie_id, top_k=top_k, is_dynamic_k=is_dynamic_k)[\"tag\"])\r\n",
    "    \r\n",
    "    # make a DF with movies within each top_categs, each movie has relevance >= relevance_per_categ\r\n",
    "    # sorted by the rating and relevance\r\n",
    "    valid_movies_categ_relevanve_rating_name = genome_scores[(genome_scores[\"tag\"].isin( top_categs )) & (genome_scores[\"relevance\"] >= relevance_per_categ)]\r\n",
    "    valid_movies_categ_relevanve_rating_name = pd.merge(valid_movies_categ_relevanve_rating_name\r\n",
    "                                                    , movies[[\"movieId\", \"title\", \"meanRating\"]]\r\n",
    "                                                    , on=\"movieId\")\r\n",
    "    \r\n",
    "    valid_movies_categ_relevanve_rating_name = valid_movies_categ_relevanve_rating_name.sort_values(by=sorting_order, ascending=False)\r\n",
    "\r\n",
    "    # fetching and fill k_movies_per_categ\r\n",
    "    gr_valid_movies = valid_movies_categ_relevanve_rating_name.groupby(by=\"tag\")\r\n",
    "\r\n",
    "    for tag, group in gr_valid_movies:\r\n",
    "        current_movies = []\r\n",
    "\r\n",
    "        for movie in group[:k_movies_per_categ][[\"movieId\", \"title\"]].values:\r\n",
    "            current_movies.append({\"id\": movie[0], \"name\": movie[1]})\r\n",
    "        recommendations[tag] = current_movies\r\n",
    "\r\n",
    "    return recommendations"
   ],
   "outputs": [],
   "metadata": {}
  },
  {
   "cell_type": "code",
   "execution_count": 14,
   "source": [
    "# tmp = recommend_based_on_similar_categs(2, is_dynamic_k=False, relevance_per_categ=0.9)\r\n",
    "# for key in tmp:\r\n",
    "#     print(\"\\n==== \",key,\" ====\\n\", tmp[key])"
   ],
   "outputs": [],
   "metadata": {}
  },
  {
   "cell_type": "markdown",
   "source": [
    "## General Recommendation : Based on similar ratings and similar categories"
   ],
   "metadata": {}
  },
  {
   "cell_type": "code",
   "execution_count": 15,
   "source": [
    "def general_recommendation(movie_id):\r\n",
    "    # assumes a valid movie_id : int\r\n",
    "    #* return { similar_movies: [], based_on_categs: { categ1: [], categ2: [], .... } }\r\n",
    "\r\n",
    "    similar_movies = recommend_based_on_similar_ratings(movie_id)\r\n",
    "    recommend_based_on_categs = recommend_based_on_similar_categs(movie_id)\r\n",
    "\r\n",
    "    return { \"similar_movies\": similar_movies, \"based_on_categs\": recommend_based_on_categs }"
   ],
   "outputs": [],
   "metadata": {}
  },
  {
   "cell_type": "markdown",
   "source": [
    "## Given a user state, recommend!"
   ],
   "metadata": {}
  },
  {
   "cell_type": "code",
   "execution_count": 16,
   "source": [
    "\r\n",
    "#TODO liked list movies by our user\r\n",
    "liked_movie_names = [\"Toy story\", \"lion king\"]"
   ],
   "outputs": [],
   "metadata": {}
  },
  {
   "cell_type": "markdown",
   "source": [
    "## Test"
   ],
   "metadata": {}
  },
  {
   "cell_type": "code",
   "execution_count": 17,
   "source": [
    "movie_name = \"Toy story\"\r\n",
    "recommendations = general_recommendation(get_movie_id(\"Toy story\")[0])\r\n",
    "\r\n",
    "print(f\"======= Movie: {movie_name} =======\\n\")\r\n",
    "print(\"Similar movies based on ratings\")\r\n",
    "for movie in recommendations[\"similar_movies\"]:\r\n",
    "    print(movie)\r\n",
    "print(\"-------------------------------\")\r\n",
    "\r\n",
    "print(\"Based on categories\")\r\n",
    "for category in recommendations[\"based_on_categs\"]:\r\n",
    "    print(category)\r\n",
    "    for movie in recommendations[\"based_on_categs\"][category]:\r\n",
    "        print(movie)\r\n",
    "    print(\"-------------------------------\")"
   ],
   "outputs": [
    {
     "output_type": "error",
     "ename": "KeyError",
     "evalue": "\"['meanRating'] not in index\"",
     "traceback": [
      "\u001b[1;31m---------------------------------------------------------------------------\u001b[0m",
      "\u001b[1;31mKeyError\u001b[0m                                  Traceback (most recent call last)",
      "\u001b[1;32m<ipython-input-17-d57bc393ec90>\u001b[0m in \u001b[0;36m<module>\u001b[1;34m\u001b[0m\n\u001b[0;32m      1\u001b[0m \u001b[0mmovie_name\u001b[0m \u001b[1;33m=\u001b[0m \u001b[1;34m\"Toy story\"\u001b[0m\u001b[1;33m\u001b[0m\u001b[1;33m\u001b[0m\u001b[0m\n\u001b[1;32m----> 2\u001b[1;33m \u001b[0mrecommendations\u001b[0m \u001b[1;33m=\u001b[0m \u001b[0mgeneral_recommendation\u001b[0m\u001b[1;33m(\u001b[0m\u001b[0mget_movie_id\u001b[0m\u001b[1;33m(\u001b[0m\u001b[1;34m\"Toy story\"\u001b[0m\u001b[1;33m)\u001b[0m\u001b[1;33m[\u001b[0m\u001b[1;36m0\u001b[0m\u001b[1;33m]\u001b[0m\u001b[1;33m)\u001b[0m\u001b[1;33m\u001b[0m\u001b[1;33m\u001b[0m\u001b[0m\n\u001b[0m\u001b[0;32m      3\u001b[0m \u001b[1;33m\u001b[0m\u001b[0m\n\u001b[0;32m      4\u001b[0m \u001b[0mprint\u001b[0m\u001b[1;33m(\u001b[0m\u001b[1;34mf\"======= Movie: {movie_name} =======\\n\"\u001b[0m\u001b[1;33m)\u001b[0m\u001b[1;33m\u001b[0m\u001b[1;33m\u001b[0m\u001b[0m\n\u001b[0;32m      5\u001b[0m \u001b[0mprint\u001b[0m\u001b[1;33m(\u001b[0m\u001b[1;34m\"Similar movies based on ratings\"\u001b[0m\u001b[1;33m)\u001b[0m\u001b[1;33m\u001b[0m\u001b[1;33m\u001b[0m\u001b[0m\n",
      "\u001b[1;32m<ipython-input-15-f1c085d1bffa>\u001b[0m in \u001b[0;36mgeneral_recommendation\u001b[1;34m(movie_id)\u001b[0m\n\u001b[0;32m      4\u001b[0m \u001b[1;33m\u001b[0m\u001b[0m\n\u001b[0;32m      5\u001b[0m     \u001b[0msimilar_movies\u001b[0m \u001b[1;33m=\u001b[0m \u001b[0mrecommend_based_on_similar_ratings\u001b[0m\u001b[1;33m(\u001b[0m\u001b[0mmovie_id\u001b[0m\u001b[1;33m)\u001b[0m\u001b[1;33m\u001b[0m\u001b[1;33m\u001b[0m\u001b[0m\n\u001b[1;32m----> 6\u001b[1;33m     \u001b[0mrecommend_based_on_categs\u001b[0m \u001b[1;33m=\u001b[0m \u001b[0mrecommend_based_on_similar_categs\u001b[0m\u001b[1;33m(\u001b[0m\u001b[0mmovie_id\u001b[0m\u001b[1;33m)\u001b[0m\u001b[1;33m\u001b[0m\u001b[1;33m\u001b[0m\u001b[0m\n\u001b[0m\u001b[0;32m      7\u001b[0m \u001b[1;33m\u001b[0m\u001b[0m\n\u001b[0;32m      8\u001b[0m     \u001b[1;32mreturn\u001b[0m \u001b[1;33m{\u001b[0m \u001b[1;34m\"similar_movies\"\u001b[0m\u001b[1;33m:\u001b[0m \u001b[0msimilar_movies\u001b[0m\u001b[1;33m,\u001b[0m \u001b[1;34m\"based_on_categs\"\u001b[0m\u001b[1;33m:\u001b[0m \u001b[0mrecommend_based_on_categs\u001b[0m \u001b[1;33m}\u001b[0m\u001b[1;33m\u001b[0m\u001b[1;33m\u001b[0m\u001b[0m\n",
      "\u001b[1;32m<ipython-input-12-7971e1f89222>\u001b[0m in \u001b[0;36mrecommend_based_on_similar_categs\u001b[1;34m(movie_id, top_k, is_dynamic_k, relevance_per_categ, min_mean_rating, k_movies_per_categ, sorting_order)\u001b[0m\n\u001b[0;32m     13\u001b[0m     \u001b[0mvalid_movies_categ_relevanve_rating_name\u001b[0m \u001b[1;33m=\u001b[0m \u001b[0mgenome_scores\u001b[0m\u001b[1;33m[\u001b[0m\u001b[1;33m(\u001b[0m\u001b[0mgenome_scores\u001b[0m\u001b[1;33m[\u001b[0m\u001b[1;34m\"tag\"\u001b[0m\u001b[1;33m]\u001b[0m\u001b[1;33m.\u001b[0m\u001b[0misin\u001b[0m\u001b[1;33m(\u001b[0m \u001b[0mtop_categs\u001b[0m \u001b[1;33m)\u001b[0m\u001b[1;33m)\u001b[0m \u001b[1;33m&\u001b[0m \u001b[1;33m(\u001b[0m\u001b[0mgenome_scores\u001b[0m\u001b[1;33m[\u001b[0m\u001b[1;34m\"relevance\"\u001b[0m\u001b[1;33m]\u001b[0m \u001b[1;33m>=\u001b[0m \u001b[0mrelevance_per_categ\u001b[0m\u001b[1;33m)\u001b[0m\u001b[1;33m]\u001b[0m\u001b[1;33m\u001b[0m\u001b[1;33m\u001b[0m\u001b[0m\n\u001b[0;32m     14\u001b[0m     valid_movies_categ_relevanve_rating_name = pd.merge(valid_movies_categ_relevanve_rating_name\n\u001b[1;32m---> 15\u001b[1;33m                                                     \u001b[1;33m,\u001b[0m \u001b[0mmovies\u001b[0m\u001b[1;33m[\u001b[0m\u001b[1;33m[\u001b[0m\u001b[1;34m\"movieId\"\u001b[0m\u001b[1;33m,\u001b[0m \u001b[1;34m\"title\"\u001b[0m\u001b[1;33m,\u001b[0m \u001b[1;34m\"meanRating\"\u001b[0m\u001b[1;33m]\u001b[0m\u001b[1;33m]\u001b[0m\u001b[1;33m\u001b[0m\u001b[1;33m\u001b[0m\u001b[0m\n\u001b[0m\u001b[0;32m     16\u001b[0m                                                     , on=\"movieId\")\n\u001b[0;32m     17\u001b[0m \u001b[1;33m\u001b[0m\u001b[0m\n",
      "\u001b[1;32mE:\\Anaconda3\\lib\\site-packages\\pandas\\core\\frame.py\u001b[0m in \u001b[0;36m__getitem__\u001b[1;34m(self, key)\u001b[0m\n\u001b[0;32m   2804\u001b[0m             \u001b[1;32mif\u001b[0m \u001b[0mis_iterator\u001b[0m\u001b[1;33m(\u001b[0m\u001b[0mkey\u001b[0m\u001b[1;33m)\u001b[0m\u001b[1;33m:\u001b[0m\u001b[1;33m\u001b[0m\u001b[1;33m\u001b[0m\u001b[0m\n\u001b[0;32m   2805\u001b[0m                 \u001b[0mkey\u001b[0m \u001b[1;33m=\u001b[0m \u001b[0mlist\u001b[0m\u001b[1;33m(\u001b[0m\u001b[0mkey\u001b[0m\u001b[1;33m)\u001b[0m\u001b[1;33m\u001b[0m\u001b[1;33m\u001b[0m\u001b[0m\n\u001b[1;32m-> 2806\u001b[1;33m             \u001b[0mindexer\u001b[0m \u001b[1;33m=\u001b[0m \u001b[0mself\u001b[0m\u001b[1;33m.\u001b[0m\u001b[0mloc\u001b[0m\u001b[1;33m.\u001b[0m\u001b[0m_get_listlike_indexer\u001b[0m\u001b[1;33m(\u001b[0m\u001b[0mkey\u001b[0m\u001b[1;33m,\u001b[0m \u001b[0maxis\u001b[0m\u001b[1;33m=\u001b[0m\u001b[1;36m1\u001b[0m\u001b[1;33m,\u001b[0m \u001b[0mraise_missing\u001b[0m\u001b[1;33m=\u001b[0m\u001b[1;32mTrue\u001b[0m\u001b[1;33m)\u001b[0m\u001b[1;33m[\u001b[0m\u001b[1;36m1\u001b[0m\u001b[1;33m]\u001b[0m\u001b[1;33m\u001b[0m\u001b[1;33m\u001b[0m\u001b[0m\n\u001b[0m\u001b[0;32m   2807\u001b[0m \u001b[1;33m\u001b[0m\u001b[0m\n\u001b[0;32m   2808\u001b[0m         \u001b[1;31m# take() does not accept boolean indexers\u001b[0m\u001b[1;33m\u001b[0m\u001b[1;33m\u001b[0m\u001b[1;33m\u001b[0m\u001b[0m\n",
      "\u001b[1;32mE:\\Anaconda3\\lib\\site-packages\\pandas\\core\\indexing.py\u001b[0m in \u001b[0;36m_get_listlike_indexer\u001b[1;34m(self, key, axis, raise_missing)\u001b[0m\n\u001b[0;32m   1550\u001b[0m             \u001b[0mkeyarr\u001b[0m\u001b[1;33m,\u001b[0m \u001b[0mindexer\u001b[0m\u001b[1;33m,\u001b[0m \u001b[0mnew_indexer\u001b[0m \u001b[1;33m=\u001b[0m \u001b[0max\u001b[0m\u001b[1;33m.\u001b[0m\u001b[0m_reindex_non_unique\u001b[0m\u001b[1;33m(\u001b[0m\u001b[0mkeyarr\u001b[0m\u001b[1;33m)\u001b[0m\u001b[1;33m\u001b[0m\u001b[1;33m\u001b[0m\u001b[0m\n\u001b[0;32m   1551\u001b[0m \u001b[1;33m\u001b[0m\u001b[0m\n\u001b[1;32m-> 1552\u001b[1;33m         self._validate_read_indexer(\n\u001b[0m\u001b[0;32m   1553\u001b[0m             \u001b[0mkeyarr\u001b[0m\u001b[1;33m,\u001b[0m \u001b[0mindexer\u001b[0m\u001b[1;33m,\u001b[0m \u001b[0mo\u001b[0m\u001b[1;33m.\u001b[0m\u001b[0m_get_axis_number\u001b[0m\u001b[1;33m(\u001b[0m\u001b[0maxis\u001b[0m\u001b[1;33m)\u001b[0m\u001b[1;33m,\u001b[0m \u001b[0mraise_missing\u001b[0m\u001b[1;33m=\u001b[0m\u001b[0mraise_missing\u001b[0m\u001b[1;33m\u001b[0m\u001b[1;33m\u001b[0m\u001b[0m\n\u001b[0;32m   1554\u001b[0m         )\n",
      "\u001b[1;32mE:\\Anaconda3\\lib\\site-packages\\pandas\\core\\indexing.py\u001b[0m in \u001b[0;36m_validate_read_indexer\u001b[1;34m(self, key, indexer, axis, raise_missing)\u001b[0m\n\u001b[0;32m   1644\u001b[0m             \u001b[1;32mif\u001b[0m \u001b[1;32mnot\u001b[0m \u001b[1;33m(\u001b[0m\u001b[0mself\u001b[0m\u001b[1;33m.\u001b[0m\u001b[0mname\u001b[0m \u001b[1;33m==\u001b[0m \u001b[1;34m\"loc\"\u001b[0m \u001b[1;32mand\u001b[0m \u001b[1;32mnot\u001b[0m \u001b[0mraise_missing\u001b[0m\u001b[1;33m)\u001b[0m\u001b[1;33m:\u001b[0m\u001b[1;33m\u001b[0m\u001b[1;33m\u001b[0m\u001b[0m\n\u001b[0;32m   1645\u001b[0m                 \u001b[0mnot_found\u001b[0m \u001b[1;33m=\u001b[0m \u001b[0mlist\u001b[0m\u001b[1;33m(\u001b[0m\u001b[0mset\u001b[0m\u001b[1;33m(\u001b[0m\u001b[0mkey\u001b[0m\u001b[1;33m)\u001b[0m \u001b[1;33m-\u001b[0m \u001b[0mset\u001b[0m\u001b[1;33m(\u001b[0m\u001b[0max\u001b[0m\u001b[1;33m)\u001b[0m\u001b[1;33m)\u001b[0m\u001b[1;33m\u001b[0m\u001b[1;33m\u001b[0m\u001b[0m\n\u001b[1;32m-> 1646\u001b[1;33m                 \u001b[1;32mraise\u001b[0m \u001b[0mKeyError\u001b[0m\u001b[1;33m(\u001b[0m\u001b[1;34mf\"{not_found} not in index\"\u001b[0m\u001b[1;33m)\u001b[0m\u001b[1;33m\u001b[0m\u001b[1;33m\u001b[0m\u001b[0m\n\u001b[0m\u001b[0;32m   1647\u001b[0m \u001b[1;33m\u001b[0m\u001b[0m\n\u001b[0;32m   1648\u001b[0m             \u001b[1;31m# we skip the warning on Categorical/Interval\u001b[0m\u001b[1;33m\u001b[0m\u001b[1;33m\u001b[0m\u001b[1;33m\u001b[0m\u001b[0m\n",
      "\u001b[1;31mKeyError\u001b[0m: \"['meanRating'] not in index\""
     ]
    }
   ],
   "metadata": {}
  },
  {
   "cell_type": "code",
   "execution_count": 27,
   "source": [
    "movies.to_csv(data_path + \"movies.csv\", encoding='utf-8', index=False)"
   ],
   "outputs": [],
   "metadata": {}
  }
 ],
 "metadata": {
  "orig_nbformat": 4,
  "language_info": {
   "name": "python",
   "version": "3.8.3",
   "mimetype": "text/x-python",
   "codemirror_mode": {
    "name": "ipython",
    "version": 3
   },
   "pygments_lexer": "ipython3",
   "nbconvert_exporter": "python",
   "file_extension": ".py"
  },
  "kernelspec": {
   "name": "python3",
   "display_name": "Python 3.8.3 64-bit ('base': conda)"
  },
  "interpreter": {
   "hash": "4905652b14e4b7eb92899b78ac499a22c488804455b27940a322fd82aaf71031"
  }
 },
 "nbformat": 4,
 "nbformat_minor": 2
}