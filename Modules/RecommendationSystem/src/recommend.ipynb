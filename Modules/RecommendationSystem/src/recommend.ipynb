{
 "cells": [
  {
   "cell_type": "code",
   "execution_count": 1,
   "source": [
    "import numpy as np\r\n",
    "import pandas as pd\r\n",
    "from scipy.sparse import csr_matrix\r\n",
    "from sklearn.neighbors import NearestNeighbors"
   ],
   "outputs": [],
   "metadata": {}
  },
  {
   "cell_type": "markdown",
   "source": [
    "# Prepare data"
   ],
   "metadata": {}
  },
  {
   "cell_type": "code",
   "execution_count": 2,
   "source": [
    "data_path = \"../Data/ml-25m/\"\r\n",
    "movies = pd.read_csv(data_path + \"movies.csv\")\r\n",
    "ratings = pd.read_csv(data_path + \"usable_ratings.csv\")\r\n",
    "genome_tags = pd.read_csv(data_path + \"genome-tags.csv\")\r\n",
    "genome_scores = pd.read_csv(data_path + \"genome-scores.csv\")\r\n",
    "genome_scores = pd.merge(genome_scores, genome_tags, on='tagId', how='inner')\r\n",
    "\r\n",
    "print(f\"# Movies = {ratings['movieId'].nunique()}\")\r\n",
    "print(f\"# Users = {ratings['userId'].nunique()}\")\r\n",
    "print(f\"# Ratings = {len(ratings)}\")\r\n",
    "print(f\"# Tags = {len(genome_tags)}\")"
   ],
   "outputs": [
    {
     "output_type": "stream",
     "name": "stdout",
     "text": [
      "# Movies = 2613\n",
      "# Users = 13671\n",
      "# Ratings = 7762927\n",
      "# Tags = 1128\n"
     ]
    }
   ],
   "metadata": {}
  },
  {
   "cell_type": "markdown",
   "source": [
    "## Set avg rating column for each movie in movies DF"
   ],
   "metadata": {}
  },
  {
   "cell_type": "code",
   "execution_count": 3,
   "source": [
    "# mean is about all users including those who did't vote for that movie\r\n",
    "gr_movie_ratings = ratings.groupby(by=\"movieId\")\r\n",
    "no_users = ratings['userId'].nunique()\r\n",
    "mean_rating_df = pd.DataFrame([], columns=[\"movieId\", \"meanRating\"])\r\n",
    "tmp_data = [[], []]\r\n",
    "\r\n",
    "for name, group in gr_movie_ratings:\r\n",
    "    mean_rating = group[\"rating\"].sum() / no_users\r\n",
    "    tmp_data[0].append(name)\r\n",
    "    tmp_data[1].append(mean_rating)\r\n",
    "\r\n",
    "mean_rating_df[\"movieId\"] = tmp_data[0]\r\n",
    "mean_rating_df[\"meanRating\"] = tmp_data[1]\r\n",
    "\r\n",
    "movies = pd.merge(movies, mean_rating_df, on=\"movieId\", how=\"left\")"
   ],
   "outputs": [],
   "metadata": {}
  },
  {
   "cell_type": "markdown",
   "source": [
    "## Extract base movie categories"
   ],
   "metadata": {}
  },
  {
   "cell_type": "code",
   "execution_count": 88,
   "source": [
    "categs_col_strs = list(movies[\"genres\"])\r\n",
    "categs_col_strs = [categ_str.split(\"|\") for categ_str in categs_col_strs]\r\n",
    "base_categs_list = []\r\n",
    "for categs_str in categs_col_strs:\r\n",
    "    base_categs_list += categs_str\r\n",
    "\r\n",
    "\r\n",
    "base_categs_list = list(set(base_categs_list))\r\n",
    "base_categs_list.remove(\"(no genres listed)\")\r\n",
    "base_categs_list.sort()\r\n",
    "base_categs_list = [categ.lower() for categ in base_categs_list]\r\n",
    "\r\n",
    "del categs_col_strs\r\n",
    "\r\n",
    "print(\"Number of usable categories = \", len(base_categs_list))"
   ],
   "outputs": [
    {
     "output_type": "stream",
     "name": "stdout",
     "text": [
      "Number of usable categories =  19\n"
     ]
    },
    {
     "output_type": "execute_result",
     "data": {
      "text/plain": [
       "['action',\n",
       " 'adventure',\n",
       " 'animation',\n",
       " 'children',\n",
       " 'comedy',\n",
       " 'crime',\n",
       " 'documentary',\n",
       " 'drama',\n",
       " 'fantasy',\n",
       " 'film-noir',\n",
       " 'horror',\n",
       " 'imax',\n",
       " 'musical',\n",
       " 'mystery',\n",
       " 'romance',\n",
       " 'sci-fi',\n",
       " 'thriller',\n",
       " 'war',\n",
       " 'western']"
      ]
     },
     "metadata": {},
     "execution_count": 88
    }
   ],
   "metadata": {}
  },
  {
   "cell_type": "markdown",
   "source": [
    "## Prepare data for KNN the classifier"
   ],
   "metadata": {}
  },
  {
   "cell_type": "code",
   "execution_count": 5,
   "source": [
    "# piv_matrix = valid_ratings.pivot(index=\"movieId\", columns=\"userId\", values=\"rating\")\r\n",
    "piv_matrix = ratings.pivot(index=\"userId\", columns=\"movieId\", values=\"rating\")\r\n",
    "piv_matrix.fillna(0, inplace=True)"
   ],
   "outputs": [],
   "metadata": {}
  },
  {
   "cell_type": "code",
   "execution_count": 6,
   "source": [
    "# fill NaN's with the mean\r\n",
    "\r\n",
    "# for col in list(piv_matrix.columns):\r\n",
    "#     mean = piv_matrix[col].mean()\r\n",
    "#     piv_matrix[col].fillna(mean, inplace=True)"
   ],
   "outputs": [],
   "metadata": {}
  },
  {
   "cell_type": "code",
   "execution_count": 7,
   "source": [
    "csr_data = csr_matrix(piv_matrix)\r\n",
    "csr_data = csr_data.transpose() #! issue in col and row"
   ],
   "outputs": [],
   "metadata": {}
  },
  {
   "cell_type": "code",
   "execution_count": 8,
   "source": [
    "knn = NearestNeighbors(metric='cosine', algorithm='brute', n_neighbors=20, n_jobs=-1)\r\n",
    "knn.fit(csr_data)"
   ],
   "outputs": [
    {
     "output_type": "execute_result",
     "data": {
      "text/plain": [
       "NearestNeighbors(algorithm='brute', metric='cosine', n_jobs=-1, n_neighbors=20)"
      ]
     },
     "metadata": {},
     "execution_count": 8
    }
   ],
   "metadata": {}
  },
  {
   "cell_type": "markdown",
   "source": [
    "# Recommendation"
   ],
   "metadata": {}
  },
  {
   "cell_type": "code",
   "execution_count": 9,
   "source": [
    "def get_movie_id(movie_name):\r\n",
    "    try:\r\n",
    "        ids = movies[movies['title'].str.lower().str.contains(movie_name.lower().strip())][\"movieId\"].values\r\n",
    "        return ids\r\n",
    "    except:\r\n",
    "        # if does not exist reutrn []\r\n",
    "        print(\"ERR\")\r\n",
    "        return []"
   ],
   "outputs": [],
   "metadata": {}
  },
  {
   "cell_type": "markdown",
   "source": [
    "## Rating Recommendation : Based similar ratings by all users (similar combination of ratings)"
   ],
   "metadata": {}
  },
  {
   "cell_type": "code",
   "execution_count": 10,
   "source": [
    "def recommend_based_on_similar_ratings(movie_id, no_of_similars = 5):\r\n",
    "    # assumes a valid movie_id : int\r\n",
    "\r\n",
    "    recommended_movies = []\r\n",
    "    recommended_movies_with_dist = []\r\n",
    "    list_of_columns = list(piv_matrix.columns)\r\n",
    "    \r\n",
    "    try:\r\n",
    "        movie_index = list_of_columns.index(movie_id)\r\n",
    "        distances , indices = knn.kneighbors(csr_data[movie_index],n_neighbors= no_of_similars + 1)\r\n",
    "        tmp = zip(list(distances[0]), list(indices[0]))\r\n",
    "\r\n",
    "        for item in tmp:\r\n",
    "            recommended_movies_with_dist.append(item)\r\n",
    "        \r\n",
    "    except:\r\n",
    "        # failed to find a movie\r\n",
    "        # print(\"failed to find a movie\")\r\n",
    "        pass\r\n",
    "            \r\n",
    "    recommended_movies_with_dist = sorted(list(set(recommended_movies_with_dist)))\r\n",
    "\r\n",
    "    for item in recommended_movies_with_dist:\r\n",
    "        movie_idx = item[1]\r\n",
    "        new_movie_id = list_of_columns[movie_idx]\r\n",
    "\r\n",
    "        if new_movie_id == movie_id: continue\r\n",
    "\r\n",
    "        recommended_movie_name = movies[movies[\"movieId\"] == new_movie_id][\"title\"].values[0]\r\n",
    "        recommended_movies.append({\"id\": new_movie_id, \"name\": recommended_movie_name})\r\n",
    "\r\n",
    "    return recommended_movies"
   ],
   "outputs": [],
   "metadata": {}
  },
  {
   "cell_type": "markdown",
   "source": [
    "## Identify top categories of a movie"
   ],
   "metadata": {}
  },
  {
   "cell_type": "code",
   "execution_count": 11,
   "source": [
    "def get_top_categs_of_movie(movie_id, top_k = 5, is_dynamic_k=False):\r\n",
    "    # assumes a valid movie_id : int\r\n",
    "    # dynamic is for using a threshold for relevance not the static k\r\n",
    "    # returns df(tag_id, tag, relevance)\r\n",
    "\r\n",
    "    relevance_thr = 0.6 # used only in case of is_dynamic_k\r\n",
    "\r\n",
    "    categs_sorted_by_relevance = genome_scores[genome_scores[\"movieId\"] == movie_id].sort_values(by=['relevance'], ascending=False)\\\r\n",
    "                                 [[\"tagId\", \"tag\", \"relevance\"]]\r\n",
    "    \r\n",
    "    base_categs = categs_sorted_by_relevance[categs_sorted_by_relevance[\"tag\"].str.capitalize().isin(base_categs_list)]\r\n",
    "\r\n",
    "        \r\n",
    "    if is_dynamic_k == True:\r\n",
    "        return base_categs[base_categs[\"relevance\"] >= relevance_thr]\r\n",
    "\r\n",
    "    else:\r\n",
    "        top_k_categs = base_categs.iloc[:top_k]\r\n",
    "        return top_k_categs"
   ],
   "outputs": [],
   "metadata": {}
  },
  {
   "cell_type": "markdown",
   "source": [
    "## Category Recommendation : Based similar categories"
   ],
   "metadata": {}
  },
  {
   "cell_type": "code",
   "execution_count": 12,
   "source": [
    "def recommend_based_on_similar_categs(movie_id, top_k= 5, is_dynamic_k=True\r\n",
    "                                        , relevance_per_categ=0.8, min_mean_rating= 2.5\r\n",
    "                                        , k_movies_per_categ=3, sorting_order=[\"meanRating\", \"relevance\"]):\r\n",
    "    # assumes a valid movie_id : int\r\n",
    "    # return { categ1: [], categ2: [], .... }\r\n",
    "\r\n",
    "    recommendations = {}\r\n",
    "\r\n",
    "    top_categs = list(get_top_categs_of_movie(movie_id, top_k=top_k, is_dynamic_k=is_dynamic_k)[\"tag\"])\r\n",
    "    \r\n",
    "    # make a DF with movies within each top_categs, each movie has relevance >= relevance_per_categ\r\n",
    "    # sorted by the rating and relevance\r\n",
    "    valid_movies_categ_relevanve_rating_name = genome_scores[(genome_scores[\"tag\"].isin( top_categs )) & (genome_scores[\"relevance\"] >= relevance_per_categ)]\r\n",
    "    valid_movies_categ_relevanve_rating_name = pd.merge(valid_movies_categ_relevanve_rating_name\r\n",
    "                                                    , movies[[\"movieId\", \"title\", \"meanRating\"]]\r\n",
    "                                                    , on=\"movieId\")\r\n",
    "    \r\n",
    "    valid_movies_categ_relevanve_rating_name = valid_movies_categ_relevanve_rating_name.sort_values(by=sorting_order, ascending=False)\r\n",
    "\r\n",
    "    # fetching and fill k_movies_per_categ\r\n",
    "    gr_valid_movies = valid_movies_categ_relevanve_rating_name.groupby(by=\"tag\")\r\n",
    "\r\n",
    "    for tag, group in gr_valid_movies:\r\n",
    "        current_movies = []\r\n",
    "\r\n",
    "        for movie in group[:k_movies_per_categ][[\"movieId\", \"title\"]].values:\r\n",
    "            current_movies.append({\"id\": movie[0], \"name\": movie[1]})\r\n",
    "        recommendations[tag] = current_movies\r\n",
    "\r\n",
    "    return recommendations"
   ],
   "outputs": [],
   "metadata": {}
  },
  {
   "cell_type": "code",
   "execution_count": 13,
   "source": [
    "# tmp = recommend_based_on_similar_categs(2, is_dynamic_k=False, relevance_per_categ=0.9)\r\n",
    "# for key in tmp:\r\n",
    "#     print(\"\\n==== \",key,\" ====\\n\", tmp[key])"
   ],
   "outputs": [],
   "metadata": {}
  },
  {
   "cell_type": "markdown",
   "source": [
    "## General Recommendation : Based on similar ratings and similar categories"
   ],
   "metadata": {}
  },
  {
   "cell_type": "code",
   "execution_count": 14,
   "source": [
    "def general_recommendation(movie_id):\r\n",
    "    # assumes a valid movie_id : int\r\n",
    "    #* return { similar_movies: [], based_on_categs: { categ1: [], categ2: [], .... } }\r\n",
    "\r\n",
    "    similar_movies = recommend_based_on_similar_ratings(movie_id)\r\n",
    "    recommend_based_on_categs = recommend_based_on_similar_categs(movie_id)\r\n",
    "\r\n",
    "    return { \"similar_movies\": similar_movies, \"based_on_categs\": recommend_based_on_categs }"
   ],
   "outputs": [],
   "metadata": {}
  },
  {
   "cell_type": "markdown",
   "source": [
    "## Given set of categories, recommend!"
   ],
   "metadata": {}
  },
  {
   "cell_type": "code",
   "execution_count": null,
   "source": [
    "# recommend movies based on one categ\r\n",
    "def get_movies_df_in_categ(categ, min_categ_relevance = 0.5, min_mean_rating = 2.5):\r\n",
    "    good_movies_with_rating_categ =  movies[(movies[\"genres\"].str.lower().str.find(categ.lower()) > -1) &\r\n",
    "                                            (movies[\"meanRating\"] >= min_mean_rating)]\r\n",
    "    \r\n",
    "    good_scores = genome_scores[(genome_scores[\"relevance\"] >= min_categ_relevance) & \r\n",
    "                            (genome_scores[\"tag\"] == categ.lower()) &\r\n",
    "                            (genome_scores[\"movieId\"].isin(list(good_movies_with_rating_categ[\"movieId\"])))]\r\n",
    "    \r\n",
    "    ret = pd.merge(good_movies_with_rating_categ[[\"movieId\", \"title\", \"meanRating\"]], good_scores[[\"movieId\",\"relevance\", \"tag\"]], on=\"movieId\", how=\"inner\")\r\n",
    "    return ret"
   ],
   "outputs": [],
   "metadata": {}
  },
  {
   "cell_type": "code",
   "execution_count": 62,
   "source": [
    "# recommend movies based on a set of categ\r\n",
    "def recommend_given_categories(categs, min_categ_relevances = [], default_relevance = 0.5, top_k= 15):\r\n",
    "    # returns top_k movies with a combination of categories with relevances to each categ and sorted by rating\r\n",
    "    #@ categs : categs from \" base_categs_list \"\r\n",
    "    #@ min_categ_relevances : minimum relevance for each categ, default is [ default_relevance, default_relevance, default_relevance, .... ]\r\n",
    "\r\n",
    "    while len(min_categ_relevances) < len(categs):\r\n",
    "        min_categ_relevances.append(default_relevance)\r\n",
    "\r\n",
    "    good_relevance_ids = []\r\n",
    "    gr_movies = genome_scores[genome_scores[\"tag\"].str.lower().isin(categs) &\r\n",
    "                              (genome_scores[\"relevance\"] >= min(min_categ_relevances))\r\n",
    "                             ].groupby(by=\"movieId\")\r\n",
    "\r\n",
    "    for movie_id, group in gr_movies:\r\n",
    "        is_good_movie = True\r\n",
    "        for idx in range(len(categs)):\r\n",
    "            categ = categs[idx]\r\n",
    "            relev = min_categ_relevances[idx]\r\n",
    "            if len(group.query(f\"tag == '{categ}' and relevance >= {relev}\")) == 0: \r\n",
    "                is_good_movie = False\r\n",
    "                break\r\n",
    "\r\n",
    "        if is_good_movie == True:\r\n",
    "            good_relevance_ids.append(movie_id)\r\n",
    "\r\n",
    "    selected_movies = movies[movies[\"movieId\"].isin(good_relevance_ids)]\\\r\n",
    "        .sort_values(by=[\"meanRating\"], ascending=False)[:top_k]\r\n",
    "    return selected_movies\r\n"
   ],
   "outputs": [],
   "metadata": {}
  },
  {
   "cell_type": "code",
   "execution_count": 84,
   "source": [
    "recommend_given_categories([\"musical\", \"children\"], default_relevance=0.7)\r\n",
    "# lengenome_scores.query(f\"tag == '{'action'}' and relevance >= {0.9}\")"
   ],
   "outputs": [
    {
     "output_type": "execute_result",
     "data": {
      "text/plain": [
       "       movieId                        title  \\\n",
       "359        364        The Lion King, (1994)   \n",
       "580        588               Aladdin (1992)   \n",
       "898        919     The Wizard of Oz, (1939)   \n",
       "587        595  Beauty and the Beast (1991)   \n",
       "1992      2081   The Little Mermaid, (1989)   \n",
       "1005      1028          Mary Poppins (1964)   \n",
       "1012      1035   The Sound of Music, (1965)   \n",
       "1818      1907                 Mulan (1998)   \n",
       "588        596             Pinocchio (1940)   \n",
       "1929      2018                 Bambi (1942)   \n",
       "1006      1029                 Dumbo (1941)   \n",
       "10248    37729          Corpse Bride (2005)   \n",
       "47          48            Pocahontas (1995)   \n",
       "1510      1566              Hercules (1997)   \n",
       "20638   106696                Frozen (2013)   \n",
       "\n",
       "                                                  genres  meanRating  \n",
       "359      Adventure|Animation|Children|Drama|Musical|IMAX    2.556470  \n",
       "580          Adventure|Animation|Children|Comedy|Musical    2.296028  \n",
       "898                   Adventure|Children|Fantasy|Musical    2.289006  \n",
       "587      Animation|Children|Fantasy|Musical|Romance|IMAX    1.969132  \n",
       "1992           Animation|Children|Comedy|Musical|Romance    1.504681  \n",
       "1005                     Children|Comedy|Fantasy|Musical    1.504462  \n",
       "1012                                     Musical|Romance    1.440494  \n",
       "1818   Adventure|Animation|Children|Comedy|Drama|Musi...    1.137225  \n",
       "588                   Animation|Children|Fantasy|Musical    1.082474  \n",
       "1929                            Animation|Children|Drama    0.998976  \n",
       "1006                    Animation|Children|Drama|Musical    0.997586  \n",
       "10248           Animation|Comedy|Fantasy|Musical|Romance    0.911747  \n",
       "47              Animation|Children|Drama|Musical|Romance    0.810804  \n",
       "1510         Adventure|Animation|Children|Comedy|Musical    0.764172  \n",
       "20638  Adventure|Animation|Comedy|Fantasy|Musical|Rom...    0.690659  "
      ],
      "text/html": [
       "<div>\n",
       "<style scoped>\n",
       "    .dataframe tbody tr th:only-of-type {\n",
       "        vertical-align: middle;\n",
       "    }\n",
       "\n",
       "    .dataframe tbody tr th {\n",
       "        vertical-align: top;\n",
       "    }\n",
       "\n",
       "    .dataframe thead th {\n",
       "        text-align: right;\n",
       "    }\n",
       "</style>\n",
       "<table border=\"1\" class=\"dataframe\">\n",
       "  <thead>\n",
       "    <tr style=\"text-align: right;\">\n",
       "      <th></th>\n",
       "      <th>movieId</th>\n",
       "      <th>title</th>\n",
       "      <th>genres</th>\n",
       "      <th>meanRating</th>\n",
       "    </tr>\n",
       "  </thead>\n",
       "  <tbody>\n",
       "    <tr>\n",
       "      <th>359</th>\n",
       "      <td>364</td>\n",
       "      <td>The Lion King, (1994)</td>\n",
       "      <td>Adventure|Animation|Children|Drama|Musical|IMAX</td>\n",
       "      <td>2.556470</td>\n",
       "    </tr>\n",
       "    <tr>\n",
       "      <th>580</th>\n",
       "      <td>588</td>\n",
       "      <td>Aladdin (1992)</td>\n",
       "      <td>Adventure|Animation|Children|Comedy|Musical</td>\n",
       "      <td>2.296028</td>\n",
       "    </tr>\n",
       "    <tr>\n",
       "      <th>898</th>\n",
       "      <td>919</td>\n",
       "      <td>The Wizard of Oz, (1939)</td>\n",
       "      <td>Adventure|Children|Fantasy|Musical</td>\n",
       "      <td>2.289006</td>\n",
       "    </tr>\n",
       "    <tr>\n",
       "      <th>587</th>\n",
       "      <td>595</td>\n",
       "      <td>Beauty and the Beast (1991)</td>\n",
       "      <td>Animation|Children|Fantasy|Musical|Romance|IMAX</td>\n",
       "      <td>1.969132</td>\n",
       "    </tr>\n",
       "    <tr>\n",
       "      <th>1992</th>\n",
       "      <td>2081</td>\n",
       "      <td>The Little Mermaid, (1989)</td>\n",
       "      <td>Animation|Children|Comedy|Musical|Romance</td>\n",
       "      <td>1.504681</td>\n",
       "    </tr>\n",
       "    <tr>\n",
       "      <th>1005</th>\n",
       "      <td>1028</td>\n",
       "      <td>Mary Poppins (1964)</td>\n",
       "      <td>Children|Comedy|Fantasy|Musical</td>\n",
       "      <td>1.504462</td>\n",
       "    </tr>\n",
       "    <tr>\n",
       "      <th>1012</th>\n",
       "      <td>1035</td>\n",
       "      <td>The Sound of Music, (1965)</td>\n",
       "      <td>Musical|Romance</td>\n",
       "      <td>1.440494</td>\n",
       "    </tr>\n",
       "    <tr>\n",
       "      <th>1818</th>\n",
       "      <td>1907</td>\n",
       "      <td>Mulan (1998)</td>\n",
       "      <td>Adventure|Animation|Children|Comedy|Drama|Musi...</td>\n",
       "      <td>1.137225</td>\n",
       "    </tr>\n",
       "    <tr>\n",
       "      <th>588</th>\n",
       "      <td>596</td>\n",
       "      <td>Pinocchio (1940)</td>\n",
       "      <td>Animation|Children|Fantasy|Musical</td>\n",
       "      <td>1.082474</td>\n",
       "    </tr>\n",
       "    <tr>\n",
       "      <th>1929</th>\n",
       "      <td>2018</td>\n",
       "      <td>Bambi (1942)</td>\n",
       "      <td>Animation|Children|Drama</td>\n",
       "      <td>0.998976</td>\n",
       "    </tr>\n",
       "    <tr>\n",
       "      <th>1006</th>\n",
       "      <td>1029</td>\n",
       "      <td>Dumbo (1941)</td>\n",
       "      <td>Animation|Children|Drama|Musical</td>\n",
       "      <td>0.997586</td>\n",
       "    </tr>\n",
       "    <tr>\n",
       "      <th>10248</th>\n",
       "      <td>37729</td>\n",
       "      <td>Corpse Bride (2005)</td>\n",
       "      <td>Animation|Comedy|Fantasy|Musical|Romance</td>\n",
       "      <td>0.911747</td>\n",
       "    </tr>\n",
       "    <tr>\n",
       "      <th>47</th>\n",
       "      <td>48</td>\n",
       "      <td>Pocahontas (1995)</td>\n",
       "      <td>Animation|Children|Drama|Musical|Romance</td>\n",
       "      <td>0.810804</td>\n",
       "    </tr>\n",
       "    <tr>\n",
       "      <th>1510</th>\n",
       "      <td>1566</td>\n",
       "      <td>Hercules (1997)</td>\n",
       "      <td>Adventure|Animation|Children|Comedy|Musical</td>\n",
       "      <td>0.764172</td>\n",
       "    </tr>\n",
       "    <tr>\n",
       "      <th>20638</th>\n",
       "      <td>106696</td>\n",
       "      <td>Frozen (2013)</td>\n",
       "      <td>Adventure|Animation|Comedy|Fantasy|Musical|Rom...</td>\n",
       "      <td>0.690659</td>\n",
       "    </tr>\n",
       "  </tbody>\n",
       "</table>\n",
       "</div>"
      ]
     },
     "metadata": {},
     "execution_count": 84
    }
   ],
   "metadata": {}
  },
  {
   "cell_type": "markdown",
   "source": [
    "## Given a user state, recommend!"
   ],
   "metadata": {}
  },
  {
   "cell_type": "code",
   "execution_count": 18,
   "source": [
    "\r\n",
    "#TODO liked list movies by our user\r\n",
    "liked_movie_names = [\"Toy story\", \"lion king\"]"
   ],
   "outputs": [],
   "metadata": {}
  },
  {
   "cell_type": "markdown",
   "source": [
    "## Test"
   ],
   "metadata": {}
  },
  {
   "cell_type": "code",
   "execution_count": 19,
   "source": [
    "movie_name = \"Toy story\"\r\n",
    "recommendations = general_recommendation(get_movie_id(\"Toy story\")[0])\r\n",
    "\r\n",
    "print(f\"======= Movie: {movie_name} =======\\n\")\r\n",
    "print(\"Similar movies based on ratings\")\r\n",
    "for movie in recommendations[\"similar_movies\"]:\r\n",
    "    print(movie)\r\n",
    "print(\"-------------------------------\")\r\n",
    "\r\n",
    "print(\"Based on categories\")\r\n",
    "for category in recommendations[\"based_on_categs\"]:\r\n",
    "    print(category)\r\n",
    "    for movie in recommendations[\"based_on_categs\"][category]:\r\n",
    "        print(movie)\r\n",
    "    # print(\"-------------------------------\")"
   ],
   "outputs": [
    {
     "output_type": "stream",
     "name": "stdout",
     "text": [
      "======= Movie: Toy story =======\n",
      "\n",
      "Similar movies based on ratings\n",
      "{'id': 1270, 'name': 'Back to the Future (1985)'}\n",
      "{'id': 356, 'name': 'Forrest Gump (1994)'}\n",
      "{'id': 480, 'name': 'Jurassic Park (1993)'}\n",
      "{'id': 3114, 'name': 'Toy Story 2 (1999)'}\n",
      "{'id': 2571, 'name': 'The Matrix, (1999)'}\n",
      "-------------------------------\n",
      "Based on categories\n",
      "action\n",
      "{'id': 2571, 'name': 'The Matrix, (1999)'}\n",
      "{'id': 260, 'name': 'Star Wars: Episode IV - A New Hope (1977)'}\n",
      "{'id': 1196, 'name': 'Star Wars: Episode V - The Empire Strikes Back (1980)'}\n",
      "adventure\n",
      "{'id': 260, 'name': 'Star Wars: Episode IV - A New Hope (1977)'}\n",
      "{'id': 1196, 'name': 'Star Wars: Episode V - The Empire Strikes Back (1980)'}\n",
      "{'id': 1198, 'name': 'Raiders of the Lost Ark (Indiana Jones and the Raiders of the Lost Ark) (1981)'}\n",
      "animation\n",
      "{'id': 1, 'name': 'Toy Story (1995)'}\n",
      "{'id': 4306, 'name': 'Shrek (2001)'}\n",
      "{'id': 364, 'name': 'The Lion King, (1994)'}\n",
      "children\n",
      "{'id': 480, 'name': 'Jurassic Park (1993)'}\n",
      "{'id': 1, 'name': 'Toy Story (1995)'}\n",
      "{'id': 4306, 'name': 'Shrek (2001)'}\n",
      "comedy\n",
      "{'id': 1270, 'name': 'Back to the Future (1985)'}\n",
      "{'id': 1265, 'name': 'Groundhog Day (1993)'}\n",
      "{'id': 1580, 'name': 'Men in Black (a.k.a. MIB) (1997)'}\n"
     ]
    }
   ],
   "metadata": {}
  },
  {
   "cell_type": "code",
   "execution_count": null,
   "source": [],
   "outputs": [],
   "metadata": {}
  }
 ],
 "metadata": {
  "orig_nbformat": 4,
  "language_info": {
   "name": "python",
   "version": "3.8.3",
   "mimetype": "text/x-python",
   "codemirror_mode": {
    "name": "ipython",
    "version": 3
   },
   "pygments_lexer": "ipython3",
   "nbconvert_exporter": "python",
   "file_extension": ".py"
  },
  "kernelspec": {
   "name": "python3",
   "display_name": "Python 3.8.3 64-bit ('base': conda)"
  },
  "interpreter": {
   "hash": "4905652b14e4b7eb92899b78ac499a22c488804455b27940a322fd82aaf71031"
  }
 },
 "nbformat": 4,
 "nbformat_minor": 2
}