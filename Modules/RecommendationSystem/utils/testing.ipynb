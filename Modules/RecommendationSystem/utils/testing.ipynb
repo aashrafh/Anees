{
 "cells": [
  {
   "cell_type": "markdown",
   "metadata": {},
   "source": [
    "### Testing Location Recommender"
   ]
  },
  {
   "cell_type": "code",
   "execution_count": 5,
   "metadata": {},
   "outputs": [],
   "source": [
    "import dill as pickle\n",
    "\n",
    "path = \"./location_recommender\"\n",
    "res = None\n",
    "with open(path ,'rb') as f:\n",
    "    obj = pickle.load(f)\n",
    "    res = obj.search_by_text(\"مول في حلوان\")"
   ]
  },
  {
   "cell_type": "markdown",
   "metadata": {},
   "source": [
    "### Testing Movies Recommender"
   ]
  },
  {
   "cell_type": "code",
   "execution_count": 2,
   "metadata": {},
   "outputs": [
    {
     "name": "stdout",
     "output_type": "stream",
     "text": [
      "{'similar_movies': [{'id': 356.0, 'name': 'Forrest Gump (1994)'}, {'id': 1270.0, 'name': 'Back to the Future (1985)'}, {'id': 480.0, 'name': 'Jurassic Park (1993)'}, {'id': 3114.0, 'name': 'Toy Story 2 (1999)'}, {'id': 260.0, 'name': 'Star Wars: Episode IV - A New Hope (1977)'}], 'based_on_categs': {'action': [{'id': 2571, 'name': 'Matrix, The (1999)'}, {'id': 260, 'name': 'Star Wars: Episode IV - A New Hope (1977)'}, {'id': 1196, 'name': 'Star Wars: Episode V - The Empire Strikes Back (1980)'}], 'adventure': [{'id': 260, 'name': 'Star Wars: Episode IV - A New Hope (1977)'}, {'id': 1196, 'name': 'Star Wars: Episode V - The Empire Strikes Back (1980)'}, {'id': 1198, 'name': 'Raiders of the Lost Ark (Indiana Jones and the Raiders of the Lost Ark) (1981)'}], 'animation': [{'id': 1, 'name': 'Toy Story (1995)'}, {'id': 4306, 'name': 'Shrek (2001)'}, {'id': 364, 'name': 'Lion King, The (1994)'}], 'children': [{'id': 480, 'name': 'Jurassic Park (1993)'}, {'id': 1, 'name': 'Toy Story (1995)'}, {'id': 4306, 'name': 'Shrek (2001)'}], 'comedy': [{'id': 1270, 'name': 'Back to the Future (1985)'}, {'id': 1265, 'name': 'Groundhog Day (1993)'}, {'id': 1580, 'name': 'Men in Black (a.k.a. MIB) (1997)'}]}}\n"
     ]
    }
   ],
   "source": [
    "import dill as pickle\n",
    "path = \"movie_recommender\"\n",
    "with open(path ,'rb') as f:\n",
    "    obj = pickle.load(f)\n",
    "    #obj.recommend_given_categories([\"musical\", \"children\"], default_relevance=0.7)\n",
    "    recommendations = obj.general_recommendation(obj.get_movie_id(\"Toy story\")[0])\n",
    "    print(recommendations)\n",
    "    "
   ]
  }
 ],
 "metadata": {
  "kernelspec": {
   "display_name": "Python 3.10.1 64-bit",
   "language": "python",
   "name": "python3"
  },
  "language_info": {
   "codemirror_mode": {
    "name": "ipython",
    "version": 3
   },
   "file_extension": ".py",
   "mimetype": "text/x-python",
   "name": "python",
   "nbconvert_exporter": "python",
   "pygments_lexer": "ipython3",
   "version": "3.10.1"
  },
  "orig_nbformat": 4,
  "vscode": {
   "interpreter": {
    "hash": "369f2c481f4da34e4445cda3fffd2e751bd1c4d706f27375911949ba6bb62e1c"
   }
  }
 },
 "nbformat": 4,
 "nbformat_minor": 2
}
