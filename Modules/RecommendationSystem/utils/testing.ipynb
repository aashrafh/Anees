{
 "cells": [
  {
   "cell_type": "markdown",
   "metadata": {},
   "source": [
    "### Testing Location Recommender"
   ]
  },
  {
   "cell_type": "code",
   "execution_count": null,
   "metadata": {},
   "outputs": [],
   "source": [
    "import dill as pickle\n",
    "\n",
    "path = \"./location_recommender\"\n",
    "\n",
    "with open(path ,'rb') as f:\n",
    "    obj = pickle.load(f)\n",
    "    print(obj.recommend((30.0263349,31.2094813), \"restaurant\", 1000))"
   ]
  },
  {
   "cell_type": "markdown",
   "metadata": {},
   "source": [
    "### Testing Movies Recommender"
   ]
  },
  {
   "cell_type": "code",
   "execution_count": 8,
   "metadata": {},
   "outputs": [
    {
     "name": "stdout",
     "output_type": "stream",
     "text": [
      "{'similar_movies': [{'id': 1270, 'name': 'Back to the Future (1985)'}, {'id': 356, 'name': 'Forrest Gump (1994)'}, {'id': 480, 'name': 'Jurassic Park (1993)'}, {'id': 3114, 'name': 'Toy Story 2 (1999)'}, {'id': 2571, 'name': 'The Matrix, (1999)'}], 'based_on_categs': {'action': [{'id': 2571, 'name': 'The Matrix, (1999)'}, {'id': 260, 'name': 'Star Wars: Episode IV - A New Hope (1977)'}, {'id': 1196, 'name': 'Star Wars: Episode V - The Empire Strikes Back (1980)'}], 'adventure': [{'id': 260, 'name': 'Star Wars: Episode IV - A New Hope (1977)'}, {'id': 1196, 'name': 'Star Wars: Episode V - The Empire Strikes Back (1980)'}, {'id': 1198, 'name': 'Raiders of the Lost Ark (Indiana Jones and the Raiders of the Lost Ark) (1981)'}], 'animation': [{'id': 1, 'name': 'Toy Story (1995)'}, {'id': 4306, 'name': 'Shrek (2001)'}, {'id': 364, 'name': 'The Lion King, (1994)'}], 'children': [{'id': 480, 'name': 'Jurassic Park (1993)'}, {'id': 1, 'name': 'Toy Story (1995)'}, {'id': 4306, 'name': 'Shrek (2001)'}], 'comedy': [{'id': 1270, 'name': 'Back to the Future (1985)'}, {'id': 1265, 'name': 'Groundhog Day (1993)'}, {'id': 1580, 'name': 'Men in Black (a.k.a. MIB) (1997)'}]}}\n"
     ]
    }
   ],
   "source": [
    "import dill as pickle\n",
    "\n",
    "path = \"./movie_recommender\"\n",
    "\n",
    "with open(path ,'rb') as f:\n",
    "    obj = pickle.load(f)\n",
    "    print(obj.general_recommendation(1))\n",
    "    # obj.recommend_given_categories([\"musical\", \"children\"], default_relevance=0.7)\n",
    "    "
   ]
  }
 ],
 "metadata": {
  "kernelspec": {
   "display_name": "Python 3.8.3 ('base')",
   "language": "python",
   "name": "python3"
  },
  "language_info": {
   "codemirror_mode": {
    "name": "ipython",
    "version": 3
   },
   "file_extension": ".py",
   "mimetype": "text/x-python",
   "name": "python",
   "nbconvert_exporter": "python",
   "pygments_lexer": "ipython3",
   "version": "3.8.3"
  },
  "orig_nbformat": 4,
  "vscode": {
   "interpreter": {
    "hash": "c9737f0fd231914ce5b863bcf6b33187c6845d0de7a6b488ce9f1b231df7a0b0"
   }
  }
 },
 "nbformat": 4,
 "nbformat_minor": 2
}
