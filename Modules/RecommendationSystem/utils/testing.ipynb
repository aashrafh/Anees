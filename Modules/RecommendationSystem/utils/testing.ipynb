{
 "cells": [
  {
   "cell_type": "markdown",
   "metadata": {},
   "source": [
    "### Testing Location Recommender"
   ]
  },
  {
   "cell_type": "code",
   "execution_count": 5,
   "metadata": {},
   "outputs": [],
   "source": [
    "import dill as pickle\n",
    "\n",
    "path = \"./location_recommender\"\n",
    "res = None\n",
    "with open(path ,'rb') as f:\n",
    "    obj = pickle.load(f)\n",
    "    res = obj.search_by_text(\"مول في حلوان\")"
   ]
  },
  {
   "cell_type": "markdown",
   "metadata": {},
   "source": [
    "### Testing Movies Recommender"
   ]
  },
  {
   "cell_type": "code",
   "execution_count": null,
   "metadata": {},
   "outputs": [],
   "source": [
    "import dill as pickle\n",
    "\n",
    "path = \"./movie_recommender\"\n",
    "\n",
    "with open(path ,'rb') as f:\n",
    "    obj = pickle.load(f)\n",
    "    print(obj.general_recommendation(1))\n",
    "    # obj.recommend_given_categories([\"musical\", \"children\"], default_relevance=0.7)\n",
    "    "
   ]
  }
 ],
 "metadata": {
  "kernelspec": {
   "display_name": "Python 3.8.3 ('base')",
   "language": "python",
   "name": "python3"
  },
  "language_info": {
   "codemirror_mode": {
    "name": "ipython",
    "version": 3
   },
   "file_extension": ".py",
   "mimetype": "text/x-python",
   "name": "python",
   "nbconvert_exporter": "python",
   "pygments_lexer": "ipython3",
   "version": "3.8.3"
  },
  "orig_nbformat": 4,
  "vscode": {
   "interpreter": {
    "hash": "c9737f0fd231914ce5b863bcf6b33187c6845d0de7a6b488ce9f1b231df7a0b0"
   }
  }
 },
 "nbformat": 4,
 "nbformat_minor": 2
}
