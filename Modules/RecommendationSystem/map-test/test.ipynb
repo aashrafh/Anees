{
 "cells": [
  {
   "cell_type": "code",
   "execution_count": 2,
   "source": [
    "import googlemaps"
   ],
   "outputs": [
    {
     "output_type": "stream",
     "name": "stderr",
     "text": [
      "E:\\Anaconda3\\lib\\site-packages\\requests\\__init__.py:89: RequestsDependencyWarning: urllib3 (1.26.9) or chardet (3.0.4) doesn't match a supported version!\n",
      "  warnings.warn(\"urllib3 ({}) or chardet ({}) doesn't match a supported \"\n"
     ]
    }
   ],
   "metadata": {}
  },
  {
   "cell_type": "code",
   "execution_count": 3,
   "source": [
    "API_KEY = open(\"./API_KEY.txt\").read()\r\n",
    "map_client = googlemaps.Client(API_KEY)"
   ],
   "outputs": [],
   "metadata": {}
  },
  {
   "cell_type": "code",
   "execution_count": 4,
   "source": [
    "my_location = map_client.geolocate()"
   ],
   "outputs": [],
   "metadata": {}
  },
  {
   "cell_type": "code",
   "execution_count": 5,
   "source": [
    "my_location"
   ],
   "outputs": [
    {
     "output_type": "execute_result",
     "data": {
      "text/plain": [
       "{'location': {'lat': 29.8096685, 'lng': 31.2652185},\n",
       " 'accuracy': 1941.01286099322}"
      ]
     },
     "metadata": {},
     "execution_count": 5
    }
   ],
   "metadata": {}
  },
  {
   "cell_type": "code",
   "execution_count": 22,
   "source": [
    "# map_client.places(query=\"cairo\")"
   ],
   "outputs": [],
   "metadata": {}
  },
  {
   "cell_type": "code",
   "execution_count": 13,
   "source": [
    "colleg_loc = (30.0263349,31.2094813) # الكلية\r\n",
    "helwan_metro_loc = (29.8489866,31.3320422) # مترو حلوان\r\n",
    "helwan_mac_loc = (29.84965650000001, 31.3312885)"
   ],
   "outputs": [],
   "metadata": {}
  },
  {
   "cell_type": "code",
   "execution_count": 45,
   "source": [
    "'''\r\n",
    "Useful params in places_nearby\r\n",
    "    max_price [0 , 4] \"4 is most expensive\"\r\n",
    "    type\r\n",
    "    radius\r\n",
    "'''\r\n",
    "# my_loc = (my_location[\"location\"][\"lat\"], my_location[\"location\"][\"lng\"])\r\n",
    "res = map_client.places_nearby(location=(29.8489139,31.3360409), radius=1000, type=\"clothing_store\")\r\n",
    "# res = map_client.places_nearby(location=helwan_metro_loc, type=\"restaurant\", rank_by=\"distance\")"
   ],
   "outputs": [],
   "metadata": {}
  },
  {
   "cell_type": "code",
   "execution_count": 42,
   "source": [
    "'''\r\n",
    "distance API:\r\n",
    "    destination_addresses\r\n",
    "    distance in km\r\n",
    "    duration\r\n",
    "'''\r\n",
    "# map_client.distance_matrix((29.8131478,31.3031655), helwan_metro_loc)"
   ],
   "outputs": [
    {
     "output_type": "execute_result",
     "data": {
      "text/plain": [
       "{'destination_addresses': ['شارع Ahmed Enci, Helwan, Cairo Governorate 4035210, Egypt'],\n",
       " 'origin_addresses': ['الفرع الاول: حلوان _ 25 ش رياض تقاطع ش المراغي، امام اولاد ىجب وصيدلية د.عزه محمود، الدور الاول الفرع،، Helwan Sharkeya, Helwan, Cairo Governorate 4036431, Egypt'],\n",
       " 'rows': [{'elements': [{'distance': {'text': '0.6 km', 'value': 593},\n",
       "     'duration': {'text': '5 mins', 'value': 281},\n",
       "     'status': 'OK'}]}],\n",
       " 'status': 'OK'}"
      ]
     },
     "metadata": {},
     "execution_count": 42
    }
   ],
   "metadata": {}
  },
  {
   "cell_type": "code",
   "execution_count": null,
   "source": [
    "# diff_keys = set()\r\n",
    "\r\n",
    "# for loc in res[\"results\"]:\r\n",
    "#     print(f\"{loc['name']}\")\r\n",
    "#     for k in loc:\r\n",
    "#         diff_keys.add(k)\r\n",
    "#         if k == \"photos\":\r\n",
    "#             print(f\"{k} : {loc[k]} / {loc['user_ratings_total']}\")\r\n",
    "\r\n",
    "#     print(\"-------------------------------------------\")"
   ],
   "outputs": [],
   "metadata": {}
  },
  {
   "cell_type": "code",
   "execution_count": null,
   "source": [
    "'''\r\n",
    "name\r\n",
    "opening_hours : {'open_now': True}\r\n",
    "vicinity\r\n",
    "rating\r\n",
    "user_ratings_total\r\n",
    "geometry\r\n",
    "price_level\r\n",
    "'''"
   ],
   "outputs": [],
   "metadata": {}
  },
  {
   "cell_type": "code",
   "execution_count": 47,
   "source": [
    "for x in res[\"results\"]:\r\n",
    "    if \"restaurant\" in x[\"types\"]:\r\n",
    "        print(\"Restaurant: \", x[\"name\"])\r\n",
    "    # elif \"clothis\" in x[\"types\"]:\r\n",
    "    #     print(\"Clothes: \", x[\"name\"])\r\n",
    "    elif \"hospital\" in x[\"types\"]:\r\n",
    "        print(\"Hospital: \", x[\"name\"])\r\n",
    "    elif \"lodging\" in x[\"types\"]:\r\n",
    "        print(\"Lodging: \", x[\"name\"])\r\n",
    "    elif \"university\" in x[\"types\"]:\r\n",
    "        print(\"University: \", x[\"name\"])\r\n",
    "    elif \"travel_agency\" in x[\"types\"]:\r\n",
    "        print(\"Travel agency: \", x[\"name\"])\r\n",
    "    elif \"doctor\" in x[\"types\"]:\r\n",
    "        print(\"Doctor: \", x[\"name\"])\r\n",
    "    elif \"clothing_store\" in x[\"types\"]:\r\n",
    "        print(\"Clothes: \", x[\"name\"])\r\n"
   ],
   "outputs": [
    {
     "output_type": "stream",
     "name": "stdout",
     "text": [
      "Clothes:  Nana\n",
      "Clothes:  Roma\n",
      "Clothes:  DR AHMED El Ezaby Pharmacy\n",
      "Clothes:  العصر الحديث سنتر\n",
      "Clothes:  Cottonil Vega\n",
      "Clothes:  Fabulous\n",
      "Clothes:  Embrator\n",
      "Clothes:  Premoda\n",
      "Clothes:  BUZZARD\n",
      "Clothes:  Behery jeans\n",
      "Clothes:  Golden Man House\n",
      "Clothes:  Active Abou Alaa\n",
      "Clothes:  NEW FLANSH\n",
      "Clothes:  TiE HOUSE\n",
      "Clothes:  RAVIN\n",
      "Clothes:  El Ezaby Pharmacy\n",
      "Clothes:  الشيماء\n",
      "Clothes:  سنيوريتا\n",
      "Clothes:  Abo Osama\n",
      "Clothes:  أيام زمان\n"
     ]
    }
   ],
   "metadata": {}
  },
  {
   "cell_type": "code",
   "execution_count": null,
   "source": [
    "'''\r\n",
    "    - get nearby ( restaurants | clothes shops )\r\n",
    "\r\n",
    "    - recommend based on rating\r\n",
    "\r\n",
    "    - \r\n",
    "\r\n",
    "'''"
   ],
   "outputs": [],
   "metadata": {}
  }
 ],
 "metadata": {
  "orig_nbformat": 4,
  "language_info": {
   "name": "python",
   "version": "3.8.3",
   "mimetype": "text/x-python",
   "codemirror_mode": {
    "name": "ipython",
    "version": 3
   },
   "pygments_lexer": "ipython3",
   "nbconvert_exporter": "python",
   "file_extension": ".py"
  },
  "kernelspec": {
   "name": "python3",
   "display_name": "Python 3.8.3 64-bit ('base': conda)"
  },
  "interpreter": {
   "hash": "4905652b14e4b7eb92899b78ac499a22c488804455b27940a322fd82aaf71031"
  }
 },
 "nbformat": 4,
 "nbformat_minor": 2
}