{
 "cells": [
  {
   "cell_type": "code",
   "execution_count": 1,
   "source": [
    "import numpy as np\r\n",
    "import pandas as pd \r\n",
    "import matplotlib.pyplot as plt"
   ],
   "outputs": [],
   "metadata": {}
  },
  {
   "cell_type": "code",
   "execution_count": 2,
   "source": [
    "data_path = \"../Data/ml-25m/\"\r\n",
    "movies = pd.read_csv(data_path + \"movies.csv\")\r\n",
    "ratings = pd.read_csv(data_path + \"ratings.csv\")\r\n",
    "print(f\"# Movies = {ratings['movieId'].nunique()}\")\r\n",
    "print(f\"# Users = {ratings['userId'].nunique()}\")\r\n",
    "print(f\"# Ratings = {len(ratings)}\")"
   ],
   "outputs": [
    {
     "output_type": "stream",
     "name": "stdout",
     "text": [
      "# Movies = 59047\n",
      "# Users = 162541\n",
      "# Ratings = 25000095\n"
     ]
    }
   ],
   "metadata": {}
  },
  {
   "cell_type": "code",
   "execution_count": 3,
   "source": [
    "no_users_voted_to_a_movie = ratings.groupby('movieId')['rating'].agg('count')\r\n",
    "no_movies_voted_by_a_user = ratings.groupby('userId')['rating'].agg('count')"
   ],
   "outputs": [],
   "metadata": {}
  },
  {
   "cell_type": "code",
   "execution_count": 4,
   "source": [
    "user_votes_thr = 250\r\n",
    "movie_votes_thr = 1600"
   ],
   "outputs": [],
   "metadata": {}
  },
  {
   "cell_type": "code",
   "execution_count": 5,
   "source": [
    "# # Number of movies are voted by each user (e.g. user activity and reliability)\r\n",
    "# f,ax = plt.subplots(1,1,figsize=(16,4))\r\n",
    "# plt.scatter(no_movies_voted_by_a_user.index,no_movies_voted_by_a_user,color='mediumseagreen')\r\n",
    "# plt.axhline(y=user_votes_thr,color='r')\r\n",
    "# plt.xlabel('UserId')\r\n",
    "# plt.ylabel('No. of moveis are voted to')\r\n",
    "# plt.show()"
   ],
   "outputs": [],
   "metadata": {}
  },
  {
   "cell_type": "code",
   "execution_count": 6,
   "source": [
    "# drop any user or movie with no. of votes less than the threshold\r\n",
    "list_of_active_users_idx = list(no_movies_voted_by_a_user[no_movies_voted_by_a_user >= user_votes_thr].index)\r\n",
    "list_of_popular_movies_idx = list(no_users_voted_to_a_movie[no_users_voted_to_a_movie >= movie_votes_thr].index)\r\n",
    "valid_ratings = ratings.query(f\"userId in {list_of_active_users_idx} and movieId in {list_of_popular_movies_idx}\")"
   ],
   "outputs": [],
   "metadata": {}
  },
  {
   "cell_type": "code",
   "execution_count": 7,
   "source": [
    "print(f\"# Movies = {valid_ratings['movieId'].nunique()}\")\r\n",
    "print(f\"# Users = {valid_ratings['userId'].nunique()}\")\r\n",
    "print(f\"# Ratings = {len(valid_ratings)}\")"
   ],
   "outputs": [
    {
     "output_type": "stream",
     "name": "stdout",
     "text": [
      "# Movies = 3214\n",
      "# Users = 25491\n",
      "# Ratings = 11624205\n"
     ]
    }
   ],
   "metadata": {}
  },
  {
   "cell_type": "code",
   "execution_count": 8,
   "source": [
    "valid_ratings.to_csv(data_path + \"usable_ratings.csv\", encoding='utf-8', index=False)"
   ],
   "outputs": [],
   "metadata": {}
  }
 ],
 "metadata": {
  "orig_nbformat": 4,
  "language_info": {
   "name": "python",
   "version": "3.8.3",
   "mimetype": "text/x-python",
   "codemirror_mode": {
    "name": "ipython",
    "version": 3
   },
   "pygments_lexer": "ipython3",
   "nbconvert_exporter": "python",
   "file_extension": ".py"
  },
  "kernelspec": {
   "name": "python3",
   "display_name": "Python 3.8.3 64-bit ('base': conda)"
  },
  "interpreter": {
   "hash": "4905652b14e4b7eb92899b78ac499a22c488804455b27940a322fd82aaf71031"
  }
 },
 "nbformat": 4,
 "nbformat_minor": 2
}