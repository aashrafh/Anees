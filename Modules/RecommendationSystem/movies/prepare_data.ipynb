{
 "cells": [
  {
   "cell_type": "code",
   "execution_count": 1,
   "metadata": {},
   "outputs": [],
   "source": [
    "import numpy as np\n",
    "import pandas as pd \n",
    "import matplotlib.pyplot as plt"
   ]
  },
  {
   "cell_type": "code",
   "execution_count": 2,
   "metadata": {},
   "outputs": [
    {
     "name": "stdout",
     "output_type": "stream",
     "text": [
      "# Movies = 59047\n",
      "# Users = 162541\n",
      "# Ratings = 25000095\n"
     ]
    }
   ],
   "source": [
    "data_path = \"../Data/ml-25m/\"\n",
    "movies = pd.read_csv(data_path + \"movies.csv\")\n",
    "ratings = pd.read_csv(data_path + \"ratings.csv\")\n",
    "print(f\"# Movies = {ratings['movieId'].nunique()}\")\n",
    "print(f\"# Users = {ratings['userId'].nunique()}\")\n",
    "print(f\"# Ratings = {len(ratings)}\")"
   ]
  },
  {
   "cell_type": "code",
   "execution_count": 3,
   "metadata": {},
   "outputs": [],
   "source": [
    "no_users_voted_to_a_movie = ratings.groupby('movieId')['rating'].agg('count')\n",
    "no_movies_voted_by_a_user = ratings.groupby('userId')['rating'].agg('count')"
   ]
  },
  {
   "cell_type": "code",
   "execution_count": 4,
   "metadata": {},
   "outputs": [],
   "source": [
    "user_votes_thr = 250\n",
    "movie_votes_thr = 1600"
   ]
  },
  {
   "cell_type": "code",
   "execution_count": 5,
   "metadata": {},
   "outputs": [],
   "source": [
    "# # Number of movies are voted by each user (e.g. user activity and reliability)\n",
    "# f,ax = plt.subplots(1,1,figsize=(16,4))\n",
    "# plt.scatter(no_movies_voted_by_a_user.index,no_movies_voted_by_a_user,color='mediumseagreen')\n",
    "# plt.axhline(y=user_votes_thr,color='r')\n",
    "# plt.xlabel('UserId')\n",
    "# plt.ylabel('No. of moveis are voted to')\n",
    "# plt.show()"
   ]
  },
  {
   "cell_type": "code",
   "execution_count": 6,
   "metadata": {},
   "outputs": [],
   "source": [
    "# drop any user or movie with no. of votes less than the threshold\n",
    "list_of_active_users_idx = list(no_movies_voted_by_a_user[no_movies_voted_by_a_user >= user_votes_thr].index)\n",
    "list_of_popular_movies_idx = list(no_users_voted_to_a_movie[no_users_voted_to_a_movie >= movie_votes_thr].index)\n",
    "valid_ratings = ratings.query(f\"userId in {list_of_active_users_idx} and movieId in {list_of_popular_movies_idx}\")"
   ]
  },
  {
   "cell_type": "code",
   "execution_count": 7,
   "metadata": {},
   "outputs": [
    {
     "name": "stdout",
     "output_type": "stream",
     "text": [
      "# Movies = 2827\n",
      "# Users = 25491\n",
      "# Ratings = 11216850\n"
     ]
    }
   ],
   "source": [
    "print(f\"# Movies = {valid_ratings['movieId'].nunique()}\")\n",
    "print(f\"# Users = {valid_ratings['userId'].nunique()}\")\n",
    "print(f\"# Ratings = {len(valid_ratings)}\")"
   ]
  },
  {
   "cell_type": "code",
   "execution_count": 8,
   "metadata": {},
   "outputs": [],
   "source": [
    "valid_ratings.to_csv(data_path + \"usable_ratings.csv\", encoding='utf-8', index=False)"
   ]
  }
 ],
 "metadata": {
  "kernelspec": {
   "display_name": "Python 3.10.1 64-bit",
   "language": "python",
   "name": "python3"
  },
  "language_info": {
   "codemirror_mode": {
    "name": "ipython",
    "version": 3
   },
   "file_extension": ".py",
   "mimetype": "text/x-python",
   "name": "python",
   "nbconvert_exporter": "python",
   "pygments_lexer": "ipython3",
   "version": "3.10.1"
  },
  "orig_nbformat": 4,
  "vscode": {
   "interpreter": {
    "hash": "369f2c481f4da34e4445cda3fffd2e751bd1c4d706f27375911949ba6bb62e1c"
   }
  }
 },
 "nbformat": 4,
 "nbformat_minor": 2
}
