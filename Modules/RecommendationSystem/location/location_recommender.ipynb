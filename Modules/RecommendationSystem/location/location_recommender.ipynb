{
 "cells": [
  {
   "cell_type": "code",
   "execution_count": 5,
   "metadata": {},
   "outputs": [],
   "source": [
    "import googlemaps"
   ]
  },
  {
   "cell_type": "code",
   "execution_count": 6,
   "metadata": {},
   "outputs": [],
   "source": [
    "API_KEY = open(\"./API_KEY.txt\").read()\n",
    "map_client = googlemaps.Client(API_KEY)"
   ]
  },
  {
   "cell_type": "code",
   "execution_count": 7,
   "metadata": {},
   "outputs": [],
   "source": [
    "my_location = map_client.geolocate()"
   ]
  },
  {
   "cell_type": "code",
   "execution_count": 8,
   "metadata": {},
   "outputs": [],
   "source": [
    "colleg_loc = (30.0263349,31.2094813) # الكلية\n",
    "helwan_metro_loc = (29.8489866,31.3320422) # مترو حلوان"
   ]
  },
  {
   "cell_type": "code",
   "execution_count": null,
   "metadata": {},
   "outputs": [],
   "source": [
    "'''\n",
    "Useful params in places_nearby\n",
    "    max_price [0 , 4] \"4 is most expensive\"\n",
    "    type\n",
    "    radius\n",
    "'''\n",
    "res = map_client.places_nearby(location=(29.8489139,31.3360409), radius=1000, type=\"clothing_store\")"
   ]
  },
  {
   "cell_type": "code",
   "execution_count": 10,
   "metadata": {},
   "outputs": [
    {
     "data": {
      "text/plain": [
       "'\\ndistance API:\\n    destination_addresses\\n    distance in km\\n    duration\\n'"
      ]
     },
     "execution_count": 10,
     "metadata": {},
     "output_type": "execute_result"
    }
   ],
   "source": [
    "'''\n",
    "distance API:\n",
    "    destination_addresses\n",
    "    distance in km\n",
    "    duration\n",
    "'''\n",
    "# map_client.distance_matrix((29.8131478,31.3031655), helwan_metro_loc)"
   ]
  },
  {
   "cell_type": "code",
   "execution_count": 11,
   "metadata": {},
   "outputs": [
    {
     "data": {
      "text/plain": [
       "\"\\nname\\nopening_hours : {'open_now': True}\\nvicinity\\nrating\\nuser_ratings_total\\ngeometry\\nprice_level\\n\""
      ]
     },
     "execution_count": 11,
     "metadata": {},
     "output_type": "execute_result"
    }
   ],
   "source": [
    "'''\n",
    "name\n",
    "opening_hours : {'open_now': True}\n",
    "vicinity\n",
    "rating\n",
    "user_ratings_total\n",
    "geometry\n",
    "price_level\n",
    "'''"
   ]
  },
  {
   "cell_type": "code",
   "execution_count": 12,
   "metadata": {},
   "outputs": [],
   "source": [
    "# for x in res[\"results\"]:\n",
    "#     if \"restaurant\" in x[\"types\"]:\n",
    "#         print(\"Restaurant: \", x[\"name\"])\n",
    "#     elif \"hospital\" in x[\"types\"]:\n",
    "#         print(\"Hospital: \", x[\"name\"])\n",
    "#     elif \"lodging\" in x[\"types\"]:\n",
    "#         print(\"Lodging: \", x[\"name\"])\n",
    "#     elif \"university\" in x[\"types\"]:\n",
    "#         print(\"University: \", x[\"name\"])\n",
    "#     elif \"travel_agency\" in x[\"types\"]:\n",
    "#         print(\"Travel agency: \", x[\"name\"])\n",
    "#     elif \"doctor\" in x[\"types\"]:\n",
    "#         print(\"Doctor: \", x[\"name\"])\n",
    "#     elif \"clothing_store\" in x[\"types\"]:\n",
    "#         print(\"Clothes: \", x[\"name\"])\n"
   ]
  },
  {
   "cell_type": "code",
   "execution_count": 19,
   "metadata": {},
   "outputs": [],
   "source": [
    "class location_recommender:\n",
    "    def __init__(self) -> None:\n",
    "        self._API_KEY = open(\"./API_KEY.txt\").read()\n",
    "        self.map_client = googlemaps.Client(self._API_KEY)\n",
    "        pass\n",
    "\n",
    "    def recommend(self, my_location, categ, radius=1000, is_rankby_distange= False):\n",
    "        # @categ => [restaurant, clothing_store, hospital, doctor, ...]\n",
    "\n",
    "        results = []\n",
    "        query = None\n",
    "\n",
    "        try:\n",
    "            if is_rankby_distange == False:\n",
    "                query = self.map_client.places_nearby(my_location, radius=radius, type=categ)\n",
    "            else:\n",
    "                query = self.map_client.places_nearby(my_location, type=categ, rank_by=\"distance\")\n",
    "\n",
    "            query = query[\"results\"]\n",
    "\n",
    "            for res in query:\n",
    "                new_location = (res[\"geometry\"][\"location\"][\"lat\"], res[\"geometry\"][\"location\"][\"lng\"])\n",
    "                new_entry = {\n",
    "                    \"geometry\": res[\"geometry\"],\n",
    "                    \"name\": res[\"name\"],\n",
    "                    \"distance\": self.map_client.distance_matrix(my_location, new_location),\n",
    "                    \"business_status\": res[\"business_status\"],\n",
    "                    \"types\": res[\"types\"],\n",
    "                    \"vicinity\": res[\"vicinity\"]\n",
    "                }\n",
    "\n",
    "                if \"price_level\" in res.keys(): new_entry[\"price_level\"] = res[\"price_level\"]\n",
    "                if \"rating\" in res.keys(): new_entry[\"rating\"] = res[\"rating\"]\n",
    "                if \"user_ratings_total\" in res.keys(): new_entry[\"user_ratings_total\"] = res[\"user_ratings_total\"]\n",
    "\n",
    "                results.append(new_entry)\n",
    "\n",
    "            return results\n",
    "\n",
    "        except:\n",
    "            return []\n"
   ]
  },
  {
   "cell_type": "code",
   "execution_count": 20,
   "metadata": {},
   "outputs": [],
   "source": [
    "model = location_recommender()\n",
    "# res = model.recommend(colleg_loc, \"restaurant\", 1000)"
   ]
  },
  {
   "cell_type": "code",
   "execution_count": 21,
   "metadata": {},
   "outputs": [],
   "source": [
    "import dill as pickle\n",
    "\n",
    "path = \"../utils/location_recommender\"\n",
    "\n",
    "with open(path ,'wb') as f:\n",
    "    pickle.dump(model, f)"
   ]
  },
  {
   "cell_type": "code",
   "execution_count": null,
   "metadata": {},
   "outputs": [],
   "source": []
  }
 ],
 "metadata": {
  "kernelspec": {
   "display_name": "Python 3.8.3 ('base')",
   "language": "python",
   "name": "python3"
  },
  "language_info": {
   "codemirror_mode": {
    "name": "ipython",
    "version": 3
   },
   "file_extension": ".py",
   "mimetype": "text/x-python",
   "name": "python",
   "nbconvert_exporter": "python",
   "pygments_lexer": "ipython3",
   "version": "3.8.3"
  },
  "orig_nbformat": 4,
  "vscode": {
   "interpreter": {
    "hash": "c9737f0fd231914ce5b863bcf6b33187c6845d0de7a6b488ce9f1b231df7a0b0"
   }
  }
 },
 "nbformat": 4,
 "nbformat_minor": 2
}
