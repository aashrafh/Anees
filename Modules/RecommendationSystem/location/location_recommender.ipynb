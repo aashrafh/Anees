{
 "cells": [
  {
   "cell_type": "code",
   "execution_count": 1,
   "metadata": {},
   "outputs": [],
   "source": [
    "import googlemaps\n",
    "import requests"
   ]
  },
  {
   "cell_type": "code",
   "execution_count": 2,
   "metadata": {},
   "outputs": [],
   "source": [
    "API_KEY = open(\"./API_KEY.txt\").read()\n",
    "map_client = googlemaps.Client(API_KEY)"
   ]
  },
  {
   "cell_type": "code",
   "execution_count": 5,
   "metadata": {},
   "outputs": [
    {
     "data": {
      "text/plain": [
       "{'location': {'lat': 29.7482228, 'lng': 31.2511796},\n",
       " 'accuracy': 1574.3131999248544}"
      ]
     },
     "execution_count": 5,
     "metadata": {},
     "output_type": "execute_result"
    }
   ],
   "source": [
    "my_location = map_client.geolocate()"
   ]
  },
  {
   "cell_type": "code",
   "execution_count": 4,
   "metadata": {},
   "outputs": [],
   "source": [
    "colleg_loc = (30.0263349,31.2094813) # الكلية\n",
    "helwan_metro_loc = (29.8489866,31.3320422) # مترو حلوان"
   ]
  },
  {
   "cell_type": "code",
   "execution_count": null,
   "metadata": {},
   "outputs": [],
   "source": [
    "# TESTING !!!\n",
    "# def search_by_text(text, location=None, is_next= False):\n",
    "#     url = \"https://maps.googleapis.com/maps/api/place/textsearch/json?query=\"+ text +\"&key=\" + API_KEY\n",
    "\n",
    "#     payload={}\n",
    "#     headers = {}\n",
    "\n",
    "#     response = requests.request(\"GET\", url, headers=headers, data=payload)\n",
    "    \n",
    "#     json_res = response.json()\n",
    "#     query = json_res[\"results\"]\n",
    "\n",
    "#     return query\n",
    "\n",
    "\n",
    "# search_by_text(\"عايز مطاعم\", my_location)"
   ]
  },
  {
   "cell_type": "code",
   "execution_count": 6,
   "metadata": {},
   "outputs": [],
   "source": [
    "'''\n",
    "Useful params in places_nearby\n",
    "    max_price [0 , 4] \"4 is most expensive\"\n",
    "    type\n",
    "    radius\n",
    "'''\n",
    "res = map_client.places_nearby(location=(29.8489139,31.3360409), radius=1000, type=\"clothing_store\")"
   ]
  },
  {
   "cell_type": "code",
   "execution_count": 10,
   "metadata": {},
   "outputs": [
    {
     "data": {
      "text/plain": [
       "'\\ndistance API:\\n    destination_addresses\\n    distance in km\\n    duration\\n'"
      ]
     },
     "execution_count": 10,
     "metadata": {},
     "output_type": "execute_result"
    }
   ],
   "source": [
    "'''\n",
    "distance API:\n",
    "    destination_addresses\n",
    "    distance in km\n",
    "    duration\n",
    "'''\n",
    "# map_client.distance_matrix((29.8131478,31.3031655), helwan_metro_loc)"
   ]
  },
  {
   "cell_type": "code",
   "execution_count": 11,
   "metadata": {},
   "outputs": [
    {
     "data": {
      "text/plain": [
       "\"\\nname\\nopening_hours : {'open_now': True}\\nvicinity\\nrating\\nuser_ratings_total\\ngeometry\\nprice_level\\n\""
      ]
     },
     "execution_count": 11,
     "metadata": {},
     "output_type": "execute_result"
    }
   ],
   "source": [
    "'''\n",
    "name\n",
    "opening_hours : {'open_now': True}\n",
    "vicinity\n",
    "rating\n",
    "user_ratings_total\n",
    "geometry\n",
    "price_level\n",
    "'''"
   ]
  },
  {
   "cell_type": "code",
   "execution_count": 12,
   "metadata": {},
   "outputs": [],
   "source": [
    "# for x in res[\"results\"]:\n",
    "#     if \"restaurant\" in x[\"types\"]:\n",
    "#         print(\"Restaurant: \", x[\"name\"])\n",
    "#     elif \"hospital\" in x[\"types\"]:\n",
    "#         print(\"Hospital: \", x[\"name\"])\n",
    "#     elif \"lodging\" in x[\"types\"]:\n",
    "#         print(\"Lodging: \", x[\"name\"])\n",
    "#     elif \"university\" in x[\"types\"]:\n",
    "#         print(\"University: \", x[\"name\"])\n",
    "#     elif \"travel_agency\" in x[\"types\"]:\n",
    "#         print(\"Travel agency: \", x[\"name\"])\n",
    "#     elif \"doctor\" in x[\"types\"]:\n",
    "#         print(\"Doctor: \", x[\"name\"])\n",
    "#     elif \"clothing_store\" in x[\"types\"]:\n",
    "#         print(\"Clothes: \", x[\"name\"])\n"
   ]
  },
  {
   "cell_type": "code",
   "execution_count": 28,
   "metadata": {},
   "outputs": [],
   "source": [
    "class location_recommender:\n",
    "    def __init__(self) -> None:\n",
    "        self.__API_KEY = open(\"./API_KEY.txt\").read()\n",
    "        self.map_client = googlemaps.Client(self.__API_KEY)\n",
    "        self.requests = requests\n",
    "        pass\n",
    "\n",
    "    def __formating_results(self, query_results, my_location= None):\n",
    "\n",
    "        results = []\n",
    "\n",
    "        for res in query_results:\n",
    "            new_location = (res[\"geometry\"][\"location\"][\"lat\"], res[\"geometry\"][\"location\"][\"lng\"])\n",
    "            new_entry = {}\n",
    "\n",
    "            if my_location != None: new_entry[\"distance\"] = self.map_client.distance_matrix(my_location, new_location)\n",
    "\n",
    "            if \"name\" in res.keys(): new_entry[\"name\"] = res[\"name\"]\n",
    "            if \"types\" in res.keys(): new_entry[\"types\"] = res[\"types\"]\n",
    "            if \"vicinity\" in res.keys(): new_entry[\"vicinity\"] = res[\"vicinity\"]\n",
    "            if \"geometry\" in res.keys(): new_entry[\"geometry\"] = res[\"geometry\"]\n",
    "            if \"business_status\" in res.keys(): new_entry[\"business_status\"] = res[\"business_status\"]\n",
    "            if \"price_level\" in res.keys(): new_entry[\"price_level\"] = res[\"price_level\"]\n",
    "            if \"rating\" in res.keys(): new_entry[\"rating\"] = res[\"rating\"]\n",
    "            if \"user_ratings_total\" in res.keys(): new_entry[\"user_ratings_total\"] = res[\"user_ratings_total\"]\n",
    "            if \"formatted_address\" in res.keys(): new_entry[\"formatted_address\"] = res[\"formatted_address\"]\n",
    "\n",
    "            results.append(new_entry)\n",
    "\n",
    "        return results\n",
    "\n",
    "\n",
    "    def recommend(self, my_location, categ=None, keyword=None, radius=1000, is_rankby_distange= False):\n",
    "        # @categ => [restaurant, clothing_store, hospital, doctor, ...]\n",
    "\n",
    "        results = []\n",
    "        query = None\n",
    "\n",
    "        if categ == None and keyword == None:\n",
    "            return []\n",
    "\n",
    "        try:\n",
    "            if is_rankby_distange == False:\n",
    "                query = self.map_client.places_nearby(my_location, keyword=keyword, type=categ, radius=radius)\n",
    "            else:\n",
    "                query = self.map_client.places_nearby(my_location, keyword=keyword, type=categ, rank_by=\"distance\")\n",
    "\n",
    "            query = query[\"results\"]\n",
    "\n",
    "            results = self.__formating_results(query, my_location)\n",
    "            return results\n",
    "\n",
    "        except:\n",
    "            return []\n",
    "\n",
    "    def search_by_text(self, text, is_next= False):\n",
    "        url = \"https://maps.googleapis.com/maps/api/place/textsearch/json?query=\"+ text +\"&key=\" + self.__API_KEY\n",
    "\n",
    "        payload={}\n",
    "        headers = {}\n",
    "\n",
    "        response = self.requests.request(\"GET\", url, headers=headers, data=payload)\n",
    "        \n",
    "        json_res = response.json()\n",
    "        query = json_res[\"results\"]\n",
    "\n",
    "        results = self.__formating_results(query)\n",
    "        return results\n",
    "    \n",
    "    def get_my_location(self):\n",
    "        location = self.map_client.geolocate()\n",
    "        return location[\"location\"]"
   ]
  },
  {
   "cell_type": "code",
   "execution_count": 29,
   "metadata": {},
   "outputs": [],
   "source": [
    "model = location_recommender()\n",
    "# res = model.recommend(colleg_loc, \"restaurant\", 1000)"
   ]
  },
  {
   "cell_type": "code",
   "execution_count": 32,
   "metadata": {},
   "outputs": [],
   "source": [
    "# model.recommend(colleg_loc, \"restaurant\")"
   ]
  },
  {
   "cell_type": "code",
   "execution_count": null,
   "metadata": {},
   "outputs": [],
   "source": [
    "# model.recommend(helwan_metro_loc, keyword=\"مطاعم بيتزا\")"
   ]
  },
  {
   "cell_type": "code",
   "execution_count": 12,
   "metadata": {},
   "outputs": [],
   "source": [
    "# tmp = model.search_by_text(\"مطعم في حلوان\")"
   ]
  },
  {
   "cell_type": "code",
   "execution_count": 16,
   "metadata": {},
   "outputs": [],
   "source": [
    "import dill as pickle\n",
    "\n",
    "path = \"../utils/location_recommender\"\n",
    "\n",
    "with open(path ,'wb') as f:\n",
    "    pickle.dump(model, f)"
   ]
  }
 ],
 "metadata": {
  "kernelspec": {
   "display_name": "Python 3.10.5 64-bit",
   "language": "python",
   "name": "python3"
  },
  "language_info": {
   "codemirror_mode": {
    "name": "ipython",
    "version": 3
   },
   "file_extension": ".py",
   "mimetype": "text/x-python",
   "name": "python",
   "nbconvert_exporter": "python",
   "pygments_lexer": "ipython3",
   "version": "3.10.5"
  },
  "orig_nbformat": 4,
  "vscode": {
   "interpreter": {
    "hash": "4982952474bf64129aafd2550d409bfcd9a59a18db82acd5ab4638d87074edc6"
   }
  }
 },
 "nbformat": 4,
 "nbformat_minor": 2
}
