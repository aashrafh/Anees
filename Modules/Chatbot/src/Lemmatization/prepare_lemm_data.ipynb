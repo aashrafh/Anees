{
 "cells": [
  {
   "cell_type": "code",
   "execution_count": 1,
   "source": [
    "headers={\r\n",
    "\"Accept\": \"application/json, text/plain, */*\",\r\n",
    "\"Accept-Encoding\": \"gzip, deflate, br\",\r\n",
    "\"Accept-Language\": \"en-US,en;q=0.9\",\r\n",
    "# \"Cache-Control\": no-cache\r\n",
    "\"Connection\": \"keep-alive\",\r\n",
    "\"Content-Length\": \"197\",\r\n",
    "\"Content-Type\": \"application/json\",\r\n",
    "\"Host\": \"qutrub.arabeyes.org\",\r\n",
    "\"Origin\": \"https://qutrub.arabeyes.org\",\r\n",
    "\"Pragma\": \"no-cache\",\r\n",
    "# \"Referer\": \"https://qutrub.arabeyes.org/?verb=%D8%B3%D9%85%D8%AD\",\r\n",
    "\"Sec-Fetch-Dest\": \"empty\",\r\n",
    "\"Sec-Fetch-Mode\": \"cors\",\r\n",
    "\"Sec-Fetch-Site\": \"same-origin\",\r\n",
    "\"Sec-GPC\": \"1\",\r\n",
    "\"User-Agent\": \"Mozilla/5.0 (Windows NT 10.0; Win64; x64) AppleWebKit/537.36 (KHTML, like Gecko) Chrome/101.0.4951.54 Safari/537.36\"\r\n",
    "}\r\n",
    "\r\n",
    "req_body =  '{\"data\": {\"text\":\"لعب\", \"action\":\"Conjugate\",\"all\":true,\"transitive\":true,\"past\":true,\"future\":true,\"imperative\":true,\"future_moode\":true,\"confirmed\":true,\"passive\":true,\"future_type\":\"فتحة\"}}'\r\n",
    "\r\n"
   ],
   "outputs": [],
   "metadata": {}
  },
  {
   "cell_type": "code",
   "execution_count": 2,
   "source": [
    "import requests\r\n",
    "from bs4 import BeautifulSoup\r\n",
    "from itertools import zip_longest"
   ],
   "outputs": [
    {
     "output_type": "stream",
     "name": "stderr",
     "text": [
      "E:\\Anaconda3\\lib\\site-packages\\requests\\__init__.py:89: RequestsDependencyWarning: urllib3 (1.26.9) or chardet (3.0.4) doesn't match a supported version!\n",
      "  warnings.warn(\"urllib3 ({}) or chardet ({}) doesn't match a supported \"\n"
     ]
    }
   ],
   "metadata": {}
  },
  {
   "cell_type": "code",
   "execution_count": 3,
   "source": [
    "import sys\r\n",
    "import os\r\n",
    "\r\n",
    "module_path = os.path.abspath(os.path.join('..'))\r\n",
    "if module_path not in sys.path:\r\n",
    "    sys.path.append(module_path)\r\n",
    "\r\n",
    "import preprocess"
   ],
   "outputs": [],
   "metadata": {}
  },
  {
   "cell_type": "code",
   "execution_count": 26,
   "source": [
    "# load verbs to fetch their conjugs later\r\n",
    "def load_total_verbs():\r\n",
    "    lines = []\r\n",
    "    total_verbs = []\r\n",
    "\r\n",
    "    with open(\"../../Data/verb_dictionary.txt\", \"r\", encoding=\"utf-8\") as file:\r\n",
    "        lines = file.readlines()\r\n",
    "\r\n",
    "    total_verbs = lines[0].split(\" \")\r\n",
    "    return total_verbs"
   ],
   "outputs": [],
   "metadata": {}
  },
  {
   "cell_type": "code",
   "execution_count": 25,
   "source": [
    "# url = \"https://qutrub.arabeyes.org/ajaxGet\",\r\n",
    "verb = str(input()),\r\n",
    "req_body =  '{\"data\": {\"text\":\"%s\", \"action\":\"Conjugate\",\"all\":true,\"transitive\":true,\"past\":true,\"future\":true,\"imperative\":true,\"future_moode\":true,\"confirmed\":true,\"passive\":true,\"future_type\":\"فتحة\"}}'%verb\r\n",
    "\r\n",
    "res = requests.post(url= \"https://qutrub.arabeyes.org/ajaxGet\",  data= req_body.encode(\"utf-8\"), headers=headers)\r\n",
    "data = res.json()[\"result\"]"
   ],
   "outputs": [],
   "metadata": {}
  },
  {
   "cell_type": "code",
   "execution_count": 99,
   "source": [
    "def get_set_of_processed_conjugs(fetched_data):\r\n",
    "    # [0] : first row (نوع التصريف)\r\n",
    "    # first col in each other row is the pronoun, other cols are conjugations (تصريفات)\r\n",
    "    # use from data['1']\r\n",
    "    try:\r\n",
    "        set_of_conjugs = set([])\r\n",
    "        for key in fetched_data:\r\n",
    "            if key != \"0\":\r\n",
    "                for key2 in fetched_data[key]:\r\n",
    "                    processed_word = preprocess.pre_process(fetched_data[key][key2])\r\n",
    "                    if len(processed_word) and key2 != \"0\":\r\n",
    "                        # if key2 = 0 => pronoun\r\n",
    "                        set_of_conjugs.add(processed_word)\r\n",
    "    except:\r\n",
    "        #TODO there are some suggestions about the verb not a sure result, make a decision\r\n",
    "        pass\r\n",
    "\r\n",
    "    return set_of_conjugs\r\n",
    "\r\n",
    "def fetch_and_get_conjugs(verb):\r\n",
    "    req_body =  '{\"data\": {\"text\":\"%s\", \"action\":\"Conjugate\",\"all\":true,\"transitive\":true,\"past\":true,\"future\":true,\"imperative\":true,\"future_moode\":true,\"confirmed\":true,\"passive\":true,\"future_type\":\"فتحة\"}}'%verb\r\n",
    "    res = requests.post(url= \"https://qutrub.arabeyes.org/ajaxGet\",  data= req_body.encode(\"utf-8\"), headers=headers)\r\n",
    "    result = res.json()[\"result\"]\r\n",
    "    sugg = res.json()[\"suggest\"]\r\n",
    "\r\n",
    "    if len(result) == 0 and len(sugg) != 0:\r\n",
    "        #TODO, try to make a better decision about the choice\r\n",
    "        return fetch_and_get_conjugs(sugg[0][\"verb\"])\r\n",
    "    elif len(result) == 0 and len(sugg) == 0:\r\n",
    "        # no result, no suggestions\r\n",
    "        return set()\r\n",
    "    \r\n",
    "    # found a result\r\n",
    "    set_of_conjugs = get_set_of_processed_conjugs(result)\r\n",
    "    return set_of_conjugs\r\n",
    "\r\n",
    "def get_valid_lemm_data(l, r, verbs, lemm_data, lone_verbs):\r\n",
    "    # return list of tuples => [ (verb , [conjugs]) ]\r\n",
    "\r\n",
    "    for verb in verbs[l:r]:\r\n",
    "        l = list(fetch_and_get_conjugs(verb))\r\n",
    "        if len(l) != 0:\r\n",
    "            lemm_data.append((verb, l))\r\n",
    "        else:\r\n",
    "            lone_verbs.append(verb)\r\n"
   ],
   "outputs": [],
   "metadata": {}
  },
  {
   "cell_type": "code",
   "execution_count": 100,
   "source": [
    "lemm_data = []\r\n",
    "lone_verbs = []\r\n",
    "\r\n",
    "# load verbs to fetch their conjugs later\r\n",
    "verbs = load_total_verbs()"
   ],
   "outputs": [],
   "metadata": {}
  },
  {
   "cell_type": "code",
   "execution_count": 101,
   "source": [
    "get_valid_lemm_data(0, 100, verbs, lemm_data, lone_verbs)"
   ],
   "outputs": [],
   "metadata": {}
  },
  {
   "cell_type": "code",
   "execution_count": 103,
   "source": [
    "get_valid_lemm_data(100, 1000, verbs, lemm_data, lone_verbs)"
   ],
   "outputs": [],
   "metadata": {}
  },
  {
   "cell_type": "code",
   "execution_count": null,
   "source": [
    "get_valid_lemm_data(1000, 2000, verbs, lemm_data, lone_verbs)"
   ],
   "outputs": [],
   "metadata": {}
  },
  {
   "cell_type": "code",
   "execution_count": null,
   "source": [
    "get_valid_lemm_data(2000, 3000, verbs, lemm_data, lone_verbs)"
   ],
   "outputs": [],
   "metadata": {}
  },
  {
   "cell_type": "code",
   "execution_count": null,
   "source": [
    "get_valid_lemm_data(3000, 4000, verbs, lemm_data, lone_verbs)"
   ],
   "outputs": [],
   "metadata": {}
  },
  {
   "cell_type": "code",
   "execution_count": null,
   "source": [
    "get_valid_lemm_data(4000, 5000, verbs, lemm_data, lone_verbs)"
   ],
   "outputs": [],
   "metadata": {}
  },
  {
   "cell_type": "code",
   "execution_count": null,
   "source": [
    "get_valid_lemm_data(5000, 6000, verbs, lemm_data, lone_verbs)"
   ],
   "outputs": [],
   "metadata": {}
  },
  {
   "cell_type": "code",
   "execution_count": null,
   "source": [
    "get_valid_lemm_data(6000, 7000, verbs, lemm_data, lone_verbs)"
   ],
   "outputs": [],
   "metadata": {}
  },
  {
   "cell_type": "code",
   "execution_count": null,
   "source": [
    "get_valid_lemm_data(7000, len(verbs), verbs, lemm_data, lone_verbs)"
   ],
   "outputs": [],
   "metadata": {}
  },
  {
   "cell_type": "code",
   "execution_count": 169,
   "source": [],
   "outputs": [
    {
     "output_type": "execute_result",
     "data": {
      "text/plain": [
       "980"
      ]
     },
     "metadata": {},
     "execution_count": 169
    }
   ],
   "metadata": {}
  },
  {
   "cell_type": "code",
   "execution_count": 146,
   "source": [
    "with open(\"../../Data/Lemmatization/lemm_data.txt\", \"w\", encoding=\"utf-8\") as f:\r\n",
    "    for item in lemm_data:\r\n",
    "        f.write( \"%s=>%s\\n\"%(item[0], \" \".join(item[1])))\r\n"
   ],
   "outputs": [],
   "metadata": {}
  },
  {
   "cell_type": "code",
   "execution_count": 168,
   "source": [
    "# load conjugs\r\n",
    "\r\n",
    "# data = []\r\n",
    "# with open(\"../../Data/Lemmatization/lemm_data.txt\", \"r\", encoding=\"utf-8\") as f:\r\n",
    "#     data = f.read()\r\n",
    "#     data = data.split(\"\\n\")\r\n",
    "#     data.pop()\r\n",
    "#     data = [line.split(\"=>\") for line in data]\r\n",
    "#     data = [(line[0], line[1].split(\" \")) for line in data]\r\n",
    "\r\n",
    "# data"
   ],
   "outputs": [
    {
     "output_type": "execute_result",
     "data": {
      "text/plain": [
       "[('امض',\n",
       "  ['امضتا',\n",
       "   'اءمضنان',\n",
       "   'امضتن',\n",
       "   'امضت',\n",
       "   'اءمضان',\n",
       "   'تامضا',\n",
       "   'اءمضن',\n",
       "   'يامض',\n",
       "   'امضتم',\n",
       "   'اءمض',\n",
       "   'نامض',\n",
       "   'يامضوا',\n",
       "   'يامضا',\n",
       "   'تامضنان',\n",
       "   'يامضن',\n",
       "   'امض',\n",
       "   'تامضن',\n",
       "   'امضا',\n",
       "   'اءمضوا',\n",
       "   'امضنا',\n",
       "   'تامض',\n",
       "   'يامضنان',\n",
       "   'امضن',\n",
       "   'يامضان',\n",
       "   'تامضان',\n",
       "   'تامضون',\n",
       "   'يامضون',\n",
       "   'امضتما',\n",
       "   'اءمضا',\n",
       "   'نامضن',\n",
       "   'اءمضي',\n",
       "   'تامضين',\n",
       "   'تامضوا',\n",
       "   'امضوا',\n",
       "   'تامضي']),\n",
       " ('صحف',\n",
       "  ['صحفتا',\n",
       "   'يصحفان',\n",
       "   'يصحفن',\n",
       "   'صحفوا',\n",
       "   'نصحف',\n",
       "   'يصحف',\n",
       "   'صحفا',\n",
       "   'صحف',\n",
       "   'تصحفين',\n",
       "   'صحفنا',\n",
       "   'صحفتما',\n",
       "   'صحفتن',\n",
       "   'تصحفنان',\n",
       "   'صحفن',\n",
       "   'اصحف',\n",
       "   'تصحفا',\n",
       "   'اصحفوا',\n",
       "   'تصحفان',\n",
       "   'يصحفا',\n",
       "   'اصحفنان',\n",
       "   'تصحفن',\n",
       "   'اصحفا',\n",
       "   'تصحفون',\n",
       "   'نصحفن',\n",
       "   'تصحفي',\n",
       "   'تصحف',\n",
       "   'يصحفوا',\n",
       "   'تصحفوا',\n",
       "   'يصحفنان',\n",
       "   'اصحفي',\n",
       "   'اصحفان',\n",
       "   'اصحفن',\n",
       "   'صحفت',\n",
       "   'صحفتم',\n",
       "   'يصحفون']),\n",
       " ('حجو',\n",
       "  ['تحجوان',\n",
       "   'يحجي',\n",
       "   'حجونا',\n",
       "   'حجون',\n",
       "   'حجي',\n",
       "   'احجون',\n",
       "   'احج',\n",
       "   'حجوا',\n",
       "   'احجوا',\n",
       "   'حجوتا',\n",
       "   'حجيت',\n",
       "   'يحجون',\n",
       "   'حجيتم',\n",
       "   'احجن',\n",
       "   'حجوتم',\n",
       "   'يحج',\n",
       "   'حجيتن',\n",
       "   'يحجوا',\n",
       "   'حجيتما',\n",
       "   'يحجوان',\n",
       "   'تحجونان',\n",
       "   'حجيتا',\n",
       "   'يحجونان',\n",
       "   'تحج',\n",
       "   'احجوي',\n",
       "   'حجينا',\n",
       "   'حجيا',\n",
       "   'تحجوي',\n",
       "   'نحجون',\n",
       "   'تحجي',\n",
       "   'نحج',\n",
       "   'احجونان',\n",
       "   'تحجون',\n",
       "   'حجوتن',\n",
       "   'تحجن',\n",
       "   'تحجوين',\n",
       "   'حجوت',\n",
       "   'احجوان',\n",
       "   'حجين',\n",
       "   'احجي',\n",
       "   'تحجوا',\n",
       "   'حجوتما',\n",
       "   'نحجي'])]"
      ]
     },
     "metadata": {},
     "execution_count": 168
    }
   ],
   "metadata": {}
  },
  {
   "cell_type": "code",
   "execution_count": null,
   "source": [
    "s = \"abds\"\r\n",
    "s."
   ],
   "outputs": [],
   "metadata": {}
  }
 ],
 "metadata": {
  "orig_nbformat": 4,
  "language_info": {
   "name": "python",
   "version": "3.8.3",
   "mimetype": "text/x-python",
   "codemirror_mode": {
    "name": "ipython",
    "version": 3
   },
   "pygments_lexer": "ipython3",
   "nbconvert_exporter": "python",
   "file_extension": ".py"
  },
  "kernelspec": {
   "name": "python3",
   "display_name": "Python 3.8.3 64-bit ('base': conda)"
  },
  "interpreter": {
   "hash": "4905652b14e4b7eb92899b78ac499a22c488804455b27940a322fd82aaf71031"
  }
 },
 "nbformat": 4,
 "nbformat_minor": 2
}