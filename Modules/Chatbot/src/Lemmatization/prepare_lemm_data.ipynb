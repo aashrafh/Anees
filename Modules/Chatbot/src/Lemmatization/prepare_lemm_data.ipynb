{
 "cells": [
  {
   "cell_type": "code",
   "execution_count": 2,
   "source": [
    "headers={\r\n",
    "\"Accept\": \"application/json, text/plain, */*\",\r\n",
    "\"Accept-Encoding\": \"gzip, deflate, br\",\r\n",
    "\"Accept-Language\": \"en-US,en;q=0.9\",\r\n",
    "# \"Cache-Control\": no-cache\r\n",
    "\"Connection\": \"keep-alive\",\r\n",
    "\"Content-Length\": \"197\",\r\n",
    "\"Content-Type\": \"application/json\",\r\n",
    "\"Host\": \"qutrub.arabeyes.org\",\r\n",
    "\"Origin\": \"https://qutrub.arabeyes.org\",\r\n",
    "\"Pragma\": \"no-cache\",\r\n",
    "# \"Referer\": \"https://qutrub.arabeyes.org/?verb=%D8%B3%D9%85%D8%AD\",\r\n",
    "\"Sec-Fetch-Dest\": \"empty\",\r\n",
    "\"Sec-Fetch-Mode\": \"cors\",\r\n",
    "\"Sec-Fetch-Site\": \"same-origin\",\r\n",
    "\"Sec-GPC\": \"1\",\r\n",
    "\"User-Agent\": \"Mozilla/5.0 (Windows NT 10.0; Win64; x64) AppleWebKit/537.36 (KHTML, like Gecko) Chrome/101.0.4951.54 Safari/537.36\"\r\n",
    "}\r\n",
    "\r\n",
    "req_body =  '{\"data\": {\"text\":\"لعب\", \"action\":\"Conjugate\",\"all\":true,\"transitive\":true,\"past\":true,\"future\":true,\"imperative\":true,\"future_moode\":true,\"confirmed\":true,\"passive\":true,\"future_type\":\"فتحة\"}}'\r\n",
    "\r\n"
   ],
   "outputs": [],
   "metadata": {}
  },
  {
   "cell_type": "code",
   "execution_count": 1,
   "source": [
    "import requests"
   ],
   "outputs": [
    {
     "output_type": "stream",
     "name": "stderr",
     "text": [
      "E:\\Anaconda3\\lib\\site-packages\\requests\\__init__.py:89: RequestsDependencyWarning: urllib3 (1.26.9) or chardet (3.0.4) doesn't match a supported version!\n",
      "  warnings.warn(\"urllib3 ({}) or chardet ({}) doesn't match a supported \"\n"
     ]
    }
   ],
   "metadata": {}
  },
  {
   "cell_type": "code",
   "execution_count": 3,
   "source": [
    "import sys\r\n",
    "import os\r\n",
    "\r\n",
    "module_path = os.path.abspath(os.path.join('..'))\r\n",
    "if module_path not in sys.path:\r\n",
    "    sys.path.append(module_path)\r\n",
    "\r\n",
    "import preprocess"
   ],
   "outputs": [],
   "metadata": {}
  },
  {
   "cell_type": "code",
   "execution_count": 14,
   "source": [
    "# load verbs to fetch their conjugs later\r\n",
    "def load_total_verbs(path=\"../../Data/verb_dictionary.txt\"):\r\n",
    "    lines = []\r\n",
    "    total_verbs = []\r\n",
    "\r\n",
    "    with open(path, \"r\", encoding=\"utf-8\") as file:\r\n",
    "        lines = file.readlines()\r\n",
    "\r\n",
    "    total_verbs = lines[0].split(\" \")\r\n",
    "    return total_verbs"
   ],
   "outputs": [],
   "metadata": {}
  },
  {
   "cell_type": "code",
   "execution_count": 25,
   "source": [
    "# # url = \"https://qutrub.arabeyes.org/ajaxGet\",\r\n",
    "# verb = str(input()),\r\n",
    "# req_body =  '{\"data\": {\"text\":\"%s\", \"action\":\"Conjugate\",\"all\":true,\"transitive\":true,\"past\":true,\"future\":true,\"imperative\":true,\"future_moode\":true,\"confirmed\":true,\"passive\":true,\"future_type\":\"فتحة\"}}'%verb\r\n",
    "\r\n",
    "# res = requests.post(url= \"https://qutrub.arabeyes.org/ajaxGet\",  data= req_body.encode(\"utf-8\"), headers=headers)\r\n",
    "# data = res.json()[\"result\"]"
   ],
   "outputs": [],
   "metadata": {}
  },
  {
   "cell_type": "code",
   "execution_count": 5,
   "source": [
    "def get_set_of_processed_conjugs(fetched_data):\r\n",
    "    # [0] : first row (نوع التصريف)\r\n",
    "    # first col in each other row is the pronoun, other cols are conjugations (تصريفات)\r\n",
    "    # use from data['1']\r\n",
    "    try:\r\n",
    "        set_of_conjugs = set([])\r\n",
    "        for key in fetched_data:\r\n",
    "            if key != \"0\":\r\n",
    "                for key2 in fetched_data[key]:\r\n",
    "                    processed_word = preprocess.pre_process(fetched_data[key][key2])\r\n",
    "                    if len(processed_word) and key2 != \"0\":\r\n",
    "                        # if key2 = 0 => pronoun\r\n",
    "                        set_of_conjugs.add(processed_word)\r\n",
    "    except:\r\n",
    "        #TODO there are some suggestions about the verb not a sure result, make a decision\r\n",
    "        pass\r\n",
    "\r\n",
    "    return set_of_conjugs\r\n",
    "\r\n",
    "def fetch_and_get_conjugs(verb):\r\n",
    "    req_body =  '{\"data\": {\"text\":\"%s\", \"action\":\"Conjugate\",\"all\":true,\"transitive\":true,\"past\":true,\"future\":true,\"imperative\":true,\"future_moode\":true,\"confirmed\":true,\"passive\":true,\"future_type\":\"فتحة\"}}'%verb\r\n",
    "    res = requests.post(url= \"https://qutrub.arabeyes.org/ajaxGet\",  data= req_body.encode(\"utf-8\"), headers=headers)\r\n",
    "    result = res.json()[\"result\"]\r\n",
    "    sugg = res.json()[\"suggest\"]\r\n",
    "\r\n",
    "    if len(result) == 0 and len(sugg) != 0:\r\n",
    "        #TODO, try to make a better decision about the choice\r\n",
    "        return fetch_and_get_conjugs(sugg[0][\"verb\"])\r\n",
    "    elif len(result) == 0 and len(sugg) == 0:\r\n",
    "        # no result, no suggestions\r\n",
    "        return set()\r\n",
    "    \r\n",
    "    # found a result\r\n",
    "    set_of_conjugs = get_set_of_processed_conjugs(result)\r\n",
    "    return set_of_conjugs\r\n",
    "\r\n",
    "def get_valid_lemm_data(l, r, verbs, lemm_data, lone_verbs):\r\n",
    "    # return list of tuples => [ (verb , [conjugs]) ]\r\n",
    "\r\n",
    "    for verb in verbs[l:r]:\r\n",
    "        l = list(fetch_and_get_conjugs(verb))\r\n",
    "        if len(l) != 0:\r\n",
    "            lemm_data.append((verb, l))\r\n",
    "        else:\r\n",
    "            lone_verbs.append(verb)\r\n"
   ],
   "outputs": [],
   "metadata": {}
  },
  {
   "cell_type": "code",
   "execution_count": 6,
   "source": [
    "lemm_data = []\r\n",
    "lone_verbs = []\r\n",
    "\r\n",
    "# load verbs to fetch their conjugs later\r\n",
    "verbs = load_total_verbs()"
   ],
   "outputs": [],
   "metadata": {}
  },
  {
   "cell_type": "code",
   "execution_count": 101,
   "source": [
    "get_valid_lemm_data(0, 100, verbs, lemm_data, lone_verbs)"
   ],
   "outputs": [],
   "metadata": {}
  },
  {
   "cell_type": "code",
   "execution_count": 103,
   "source": [
    "get_valid_lemm_data(100, 1000, verbs, lemm_data, lone_verbs)"
   ],
   "outputs": [],
   "metadata": {}
  },
  {
   "cell_type": "code",
   "execution_count": 170,
   "source": [
    "get_valid_lemm_data(1000, 2000, verbs, lemm_data, lone_verbs)"
   ],
   "outputs": [],
   "metadata": {}
  },
  {
   "cell_type": "code",
   "execution_count": 172,
   "source": [
    "get_valid_lemm_data(2000, 3000, verbs, lemm_data, lone_verbs)"
   ],
   "outputs": [],
   "metadata": {}
  },
  {
   "cell_type": "code",
   "execution_count": 174,
   "source": [
    "get_valid_lemm_data(3000, 4000, verbs, lemm_data, lone_verbs)"
   ],
   "outputs": [],
   "metadata": {}
  },
  {
   "cell_type": "code",
   "execution_count": 177,
   "source": [
    "get_valid_lemm_data(4000, 5000, verbs, lemm_data, lone_verbs)"
   ],
   "outputs": [],
   "metadata": {}
  },
  {
   "cell_type": "code",
   "execution_count": 181,
   "source": [
    "get_valid_lemm_data(5000, 6000, verbs, lemm_data, lone_verbs)"
   ],
   "outputs": [],
   "metadata": {}
  },
  {
   "cell_type": "code",
   "execution_count": 182,
   "source": [
    "get_valid_lemm_data(6000, 7000, verbs, lemm_data, lone_verbs)"
   ],
   "outputs": [],
   "metadata": {}
  },
  {
   "cell_type": "code",
   "execution_count": 183,
   "source": [
    "get_valid_lemm_data(7000, len(verbs), verbs, lemm_data, lone_verbs)"
   ],
   "outputs": [],
   "metadata": {}
  },
  {
   "cell_type": "code",
   "execution_count": 184,
   "source": [
    " #! Warning,overwriting the main file of conjug data\r\n",
    " #! Warning,overwriting the main file of conjug data\r\n",
    " #! Warning,overwriting the main file of conjug data\r\n",
    " \r\n",
    "# with open(\"../../Data/Lemmatization/lemm_data.txt\", \"w\", encoding=\"utf-8\") as f:\r\n",
    "#     for item in lemm_data:\r\n",
    "#         f.write( \"%s=>%s\\n\"%(item[0], \" \".join(item[1])))\r\n"
   ],
   "outputs": [],
   "metadata": {}
  },
  {
   "cell_type": "code",
   "execution_count": 28,
   "source": [
    "# ## read conjugs\r\n",
    "\r\n",
    "# data = []\r\n",
    "# with open(\"../../Data/Lemmatization/lemm_data.txt\", \"r\", encoding=\"utf-8\") as f:\r\n",
    "#     data = f.read()\r\n",
    "#     data = data.split(\"\\n\")\r\n",
    "#     data.pop()\r\n",
    "#     data = [line.split(\"=>\") for line in data]\r\n",
    "#     data = [(line[0], line[1].split(\" \")) for line in data]"
   ],
   "outputs": [],
   "metadata": {}
  },
  {
   "cell_type": "code",
   "execution_count": 26,
   "source": [
    "# # temp, dealing with vague verbs (done)\r\n",
    "\r\n",
    "# lemm_data = []\r\n",
    "# lone_verbs = []\r\n",
    "\r\n",
    "# # load verbs to fetch their conjugs later\r\n",
    "# verbs = load_total_verbs(\"../../Data/Lemmatization/lemm_lone_data.txt\")\r\n",
    "# get_valid_lemm_data(0, len(verbs), verbs, lemm_data, lone_verbs)\r\n",
    "\r\n",
    "# with open(\"../../Data/Lemmatization/tmp.txt\", \"w\", encoding=\"utf-8\") as f:\r\n",
    "#     for item in lemm_data:\r\n",
    "#         f.write( \"%s=>%s\\n\"%(item[0], \" \".join(item[1])))"
   ],
   "outputs": [],
   "metadata": {}
  }
 ],
 "metadata": {
  "orig_nbformat": 4,
  "language_info": {
   "name": "python",
   "version": "3.8.3",
   "mimetype": "text/x-python",
   "codemirror_mode": {
    "name": "ipython",
    "version": 3
   },
   "pygments_lexer": "ipython3",
   "nbconvert_exporter": "python",
   "file_extension": ".py"
  },
  "kernelspec": {
   "name": "python3",
   "display_name": "Python 3.8.3 64-bit ('base': conda)"
  },
  "interpreter": {
   "hash": "4905652b14e4b7eb92899b78ac499a22c488804455b27940a322fd82aaf71031"
  }
 },
 "nbformat": 4,
 "nbformat_minor": 2
}