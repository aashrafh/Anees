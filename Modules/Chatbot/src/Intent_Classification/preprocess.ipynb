{
 "cells": [
  {
   "cell_type": "code",
   "execution_count": 21,
   "metadata": {},
   "outputs": [],
   "source": [
    "import pandas as pd\n",
    "import json"
   ]
  },
  {
   "cell_type": "code",
   "execution_count": 22,
   "metadata": {},
   "outputs": [],
   "source": [
    "text = list()\n",
    "intent = list()"
   ]
  },
  {
   "cell_type": "code",
   "execution_count": 23,
   "metadata": {},
   "outputs": [
    {
     "name": "stdout",
     "output_type": "stream",
     "text": [
      "Evening, General.\n"
     ]
    }
   ],
   "source": [
    "with open(\"Data/greetings.txt\", \"r\") as f:\n",
    "    lines = f.readlines()\n",
    "    for line in lines:\n",
    "        text.append(line[:-1])\n",
    "        intent.append('greeting')\n",
    "print(text[-1])"
   ]
  },
  {
   "cell_type": "code",
   "execution_count": 24,
   "metadata": {},
   "outputs": [
    {
     "name": "stdout",
     "output_type": "stream",
     "text": [
      "thanks\n"
     ]
    }
   ],
   "source": [
    "with open(\"Data/thanks.txt\", \"r\") as f:\n",
    "    lines = f.readlines()\n",
    "    for line in lines:\n",
    "        text.append(line[:-1])\n",
    "        intent.append('thank')\n",
    "print(text[-1])"
   ]
  },
  {
   "cell_type": "code",
   "execution_count": 25,
   "metadata": {},
   "outputs": [
    {
     "name": "stdout",
     "output_type": "stream",
     "text": [
      "Will we have a white Christmas?\n"
     ]
    }
   ],
   "source": [
    "with open(\"Data/weather.txt\", \"r\") as f:\n",
    "    lines = f.readlines()\n",
    "    for line in lines:\n",
    "        text.append(line[:-1])\n",
    "        intent.append('weather')\n",
    "print(text[-1])"
   ]
  },
  {
   "cell_type": "code",
   "execution_count": 26,
   "metadata": {},
   "outputs": [
    {
     "name": "stdout",
     "output_type": "stream",
     "text": [
      "Index(['message', 'intent'], dtype='object')\n",
      "['navigate' 'schedule' 'weather']\n",
      "2424\n",
      "1624\n",
      "Schedule a swimming activity with Ana for the 1st at 2pm.\n",
      "schedule\n"
     ]
    }
   ],
   "source": [
    "mixed = pd.read_csv('Data/mixed.txt')\n",
    "print(mixed.columns)\n",
    "print(mixed.intent.unique())\n",
    "print(len(mixed))\n",
    "mixed = mixed[mixed['intent']!='navigate']\n",
    "print(len(mixed))\n",
    "mixed_text = list(mixed['message'])\n",
    "mixed_intent = list(mixed['intent'])\n",
    "for index in range(len(mixed_text)):\n",
    "    text.append(mixed_text[index])\n",
    "    intent.append(mixed_intent[index])\n",
    "print(text[-1])\n",
    "print(intent[-1])"
   ]
  },
  {
   "cell_type": "code",
   "execution_count": 27,
   "metadata": {},
   "outputs": [
    {
     "name": "stdout",
     "output_type": "stream",
     "text": [
      "341\n",
      "Alright, fine. I would like for another alarm to be added for 16:30, and for the alarm to be titled Music Practice.\n"
     ]
    }
   ],
   "source": [
    "alarm_file = open('Data/Alarm.json')\n",
    "alarm = json.load(alarm_file)\n",
    "for index in range(len(alarm)):\n",
    "    text.append(alarm[index][\"utterance\"])\n",
    "    intent.append('schedule')\n",
    "print(len(alarm))\n",
    "print(text[-1])"
   ]
  },
  {
   "cell_type": "code",
   "execution_count": 28,
   "metadata": {},
   "outputs": [
    {
     "name": "stdout",
     "output_type": "stream",
     "text": [
      "30\n",
      "Don't add it, but let's schedule the apartment visit.\n"
     ]
    }
   ],
   "source": [
    "calendar0_file = open('Data/Calendar_Homes.json')\n",
    "calendar0 = json.load(calendar0_file)\n",
    "for index in range(len(calendar0)):\n",
    "    text.append(calendar0[index][\"utterance\"])\n",
    "    intent.append('schedule')\n",
    "print(len(calendar0))\n",
    "print(text[-1])"
   ]
  },
  {
   "cell_type": "code",
   "execution_count": 29,
   "metadata": {},
   "outputs": [
    {
     "name": "stdout",
     "output_type": "stream",
     "text": [
      "16\n",
      "Seems nice. Now I want this event to be added on my calendar, and I want it to be named Movie at Century. The address of the event is 7000 Northgate Drive. The time for this event is 22:00.\n"
     ]
    }
   ],
   "source": [
    "calendar1_file = open('Data/Calendar_Movies.json')\n",
    "calendar1 = json.load(calendar1_file)\n",
    "for index in range(len(calendar1)):\n",
    "    text.append(calendar1[index][\"utterance\"])\n",
    "    intent.append('schedule')\n",
    "print(len(calendar1))\n",
    "print(text[-1])"
   ]
  },
  {
   "cell_type": "code",
   "execution_count": 30,
   "metadata": {},
   "outputs": [
    {
     "name": "stdout",
     "output_type": "stream",
     "text": [
      "68\n",
      "Thanks. When am I free that day?\n"
     ]
    }
   ],
   "source": [
    "calendar2_file = open('Data/Calendar_Services.json')\n",
    "calendar2 = json.load(calendar2_file)\n",
    "for index in range(len(calendar2)):\n",
    "    text.append(calendar2[index][\"utterance\"])\n",
    "    intent.append('schedule')\n",
    "print(len(calendar2))\n",
    "print(text[-1])"
   ]
  },
  {
   "cell_type": "code",
   "execution_count": 31,
   "metadata": {},
   "outputs": [
    {
     "name": "stdout",
     "output_type": "stream",
     "text": [
      "1156\n",
      "Yes, and name it Movie at Cinelux almaden cinema\n"
     ]
    }
   ],
   "source": [
    "calendar3_file = open('Data/Calendar.json')\n",
    "calendar3 = json.load(calendar3_file)\n",
    "for index in range(len(calendar3)):\n",
    "    text.append(calendar3[index][\"utterance\"])\n",
    "    intent.append('schedule')\n",
    "print(len(calendar3))\n",
    "print(text[-1])"
   ]
  },
  {
   "cell_type": "code",
   "execution_count": 32,
   "metadata": {},
   "outputs": [
    {
     "name": "stdout",
     "output_type": "stream",
     "text": [
      "300\n",
      "can you tell me which movie is going on in the nearby multiple <unk>\n"
     ]
    }
   ],
   "source": [
    "recommendation_file = open('Data/recommendation.json')\n",
    "recommendation = json.load(recommendation_file)\n",
    "for index in range(len(recommendation)):\n",
    "    text.append(recommendation[index][\"utterance\"])\n",
    "    intent.append('recommendation')\n",
    "print(len(recommendation))\n",
    "print(text[-1])"
   ]
  },
  {
   "cell_type": "code",
   "execution_count": 33,
   "metadata": {},
   "outputs": [
    {
     "name": "stdout",
     "output_type": "stream",
     "text": [
      "2606\n",
      "I like to know the Kansas City Royals, are they in first place? What are they playing right now? Who are they playing right now?\n"
     ]
    }
   ],
   "source": [
    "sports_file = open('Data/sports.json')\n",
    "sports = json.load(sports_file)\n",
    "for index in range(len(sports)):\n",
    "    text.append(sports[index][\"utterance\"])\n",
    "    intent.append('sports')\n",
    "print(len(sports))\n",
    "print(text[-1])"
   ]
  },
  {
   "cell_type": "code",
   "execution_count": 34,
   "metadata": {},
   "outputs": [
    {
     "name": "stdout",
     "output_type": "stream",
     "text": [
      "731\n",
      "Date today please and wind condition.\n"
     ]
    }
   ],
   "source": [
    "weather_file = open('Data/Weather.json')\n",
    "weather = json.load(weather_file)\n",
    "for index in range(len(weather)):\n",
    "    text.append(weather[index][\"utterance\"])\n",
    "    intent.append('weather')\n",
    "print(len(weather))\n",
    "print(text[-1])"
   ]
  },
  {
   "cell_type": "code",
   "execution_count": 35,
   "metadata": {},
   "outputs": [
    {
     "data": {
      "text/plain": [
       "7052"
      ]
     },
     "execution_count": 35,
     "metadata": {},
     "output_type": "execute_result"
    }
   ],
   "source": [
    "len(text)"
   ]
  },
  {
   "cell_type": "code",
   "execution_count": 36,
   "metadata": {},
   "outputs": [
    {
     "data": {
      "text/plain": [
       "7052"
      ]
     },
     "execution_count": 36,
     "metadata": {},
     "output_type": "execute_result"
    }
   ],
   "source": [
    "len(intent)"
   ]
  },
  {
   "cell_type": "code",
   "execution_count": 37,
   "metadata": {},
   "outputs": [
    {
     "name": "stdout",
     "output_type": "stream",
     "text": [
      "What's the problem here?\n"
     ]
    }
   ],
   "source": [
    "with open(\"Data/smalltalk.txt\", \"r\") as f:\n",
    "    lines = f.readlines()\n",
    "    for line in lines:\n",
    "        text.append(line[:-1])\n",
    "        intent.append('general')\n",
    "print(text[-1])"
   ]
  },
  {
   "cell_type": "code",
   "execution_count": 38,
   "metadata": {},
   "outputs": [
    {
     "name": "stdout",
     "output_type": "stream",
     "text": [
      "The thermostat reads a room temperature of thirty two point two degrees Celsius. How much is that in Fahrenheit?\n"
     ]
    }
   ],
   "source": [
    "with open(\"Data/unitconversion.txt\", \"r\") as f:\n",
    "    lines = f.readlines()\n",
    "    for line in lines:\n",
    "        text.append(line[:-1])\n",
    "        intent.append('general')\n",
    "print(text[-1])"
   ]
  },
  {
   "cell_type": "code",
   "execution_count": 39,
   "metadata": {},
   "outputs": [
    {
     "name": "stdout",
     "output_type": "stream",
     "text": [
      "How is indigo harvested?\n"
     ]
    }
   ],
   "source": [
    "with open(\"Data/factoid.txt\", \"r\") as f:\n",
    "    lines = f.readlines()\n",
    "    for line in lines:\n",
    "        text.append(line[:-1])\n",
    "        intent.append('general')\n",
    "print(text[-1])"
   ]
  },
  {
   "cell_type": "code",
   "execution_count": 40,
   "metadata": {},
   "outputs": [
    {
     "name": "stdout",
     "output_type": "stream",
     "text": [
      "1500\n",
      "what organization do you work for\n"
     ]
    }
   ],
   "source": [
    "smalltalk_file = open('Data/small_talk.json')\n",
    "smalltalk = json.load(smalltalk_file)\n",
    "for index in range(len(smalltalk)):\n",
    "    text.append(smalltalk[index][\"utterance\"])\n",
    "    intent.append('general')\n",
    "print(len(smalltalk))\n",
    "print(text[-1])"
   ]
  },
  {
   "cell_type": "code",
   "execution_count": 41,
   "metadata": {},
   "outputs": [],
   "source": [
    "import numpy as np\n",
    "data = pd.DataFrame({'text':np.array(text),'intent':np.array(intent)})\n",
    "data = data.sample(frac = 1)\n",
    "data.to_csv('Data/main.csv',index=False)"
   ]
  },
  {
   "cell_type": "code",
   "execution_count": 42,
   "metadata": {},
   "outputs": [
    {
     "data": {
      "text/plain": [
       "8752"
      ]
     },
     "execution_count": 42,
     "metadata": {},
     "output_type": "execute_result"
    }
   ],
   "source": [
    "len(data)"
   ]
  }
 ],
 "metadata": {
  "interpreter": {
   "hash": "369f2c481f4da34e4445cda3fffd2e751bd1c4d706f27375911949ba6bb62e1c"
  },
  "kernelspec": {
   "display_name": "Python 3.10.1 64-bit",
   "language": "python",
   "name": "python3"
  },
  "language_info": {
   "codemirror_mode": {
    "name": "ipython",
    "version": 3
   },
   "file_extension": ".py",
   "mimetype": "text/x-python",
   "name": "python",
   "nbconvert_exporter": "python",
   "pygments_lexer": "ipython3",
   "version": "3.10.1"
  },
  "orig_nbformat": 4
 },
 "nbformat": 4,
 "nbformat_minor": 2
}
