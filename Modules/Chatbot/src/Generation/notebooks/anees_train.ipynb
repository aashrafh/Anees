{
  "nbformat": 4,
  "nbformat_minor": 0,
  "metadata": {
    "colab": {
      "name": "anees_train.ipynb",
      "provenance": []
    },
    "kernelspec": {
      "name": "python3",
      "display_name": "Python 3"
    },
    "language_info": {
      "name": "python"
    }
  },
  "cells": [
    {
      "cell_type": "code",
      "execution_count": 1,
      "metadata": {
        "colab": {
          "base_uri": "https://localhost:8080/"
        },
        "id": "hS4zcb0I_L1B",
        "outputId": "489ff0d2-3d8a-436c-8ccd-504a7e256ae2"
      },
      "outputs": [
        {
          "output_type": "stream",
          "name": "stdout",
          "text": [
            "Mounted at /content/drive\n"
          ]
        }
      ],
      "source": [
        "from google.colab import drive\n",
        "drive.mount(\"/content/drive\")"
      ]
    },
    {
      "cell_type": "code",
      "source": [
        "import os\n",
        "os.chdir(\"/content/drive/MyDrive/anees\")"
      ],
      "metadata": {
        "id": "iTZ3O0Mt_Y98"
      },
      "execution_count": 7,
      "outputs": []
    },
    {
      "cell_type": "code",
      "source": [
        "MODEL_NAME = '/content/drive/MyDrive/run_clm_hageen'"
      ],
      "metadata": {
        "id": "dHdg-L9AAt5Z"
      },
      "execution_count": 8,
      "outputs": []
    },
    {
      "cell_type": "code",
      "source": [
        "!pip install -r requirements.txt --quiet"
      ],
      "metadata": {
        "colab": {
          "base_uri": "https://localhost:8080/"
        },
        "id": "mhtTykltB8GN",
        "outputId": "901e010d-bfc3-4e65-84e6-e6f6f53425e3"
      },
      "execution_count": 10,
      "outputs": [
        {
          "output_type": "stream",
          "name": "stdout",
          "text": [
            "\u001b[K     |████████████████████████████████| 776.7 MB 3.3 kB/s \n",
            "\u001b[K     |████████████████████████████████| 3.1 MB 34.1 MB/s \n",
            "\u001b[K     |████████████████████████████████| 298 kB 33.0 MB/s \n",
            "\u001b[K     |████████████████████████████████| 1.2 MB 33.5 MB/s \n",
            "\u001b[K     |████████████████████████████████| 5.8 MB 9.8 MB/s \n",
            "\u001b[K     |████████████████████████████████| 596 kB 34.9 MB/s \n",
            "\u001b[K     |████████████████████████████████| 880 kB 40.7 MB/s \n",
            "\u001b[K     |████████████████████████████████| 3.3 MB 42.2 MB/s \n",
            "\u001b[K     |████████████████████████████████| 101 kB 10.3 MB/s \n",
            "\u001b[K     |████████████████████████████████| 140 kB 57.2 MB/s \n",
            "\u001b[K     |████████████████████████████████| 212 kB 44.5 MB/s \n",
            "\u001b[K     |████████████████████████████████| 1.1 MB 41.0 MB/s \n",
            "\u001b[K     |████████████████████████████████| 271 kB 45.7 MB/s \n",
            "\u001b[K     |████████████████████████████████| 144 kB 48.1 MB/s \n",
            "\u001b[K     |████████████████████████████████| 94 kB 2.8 MB/s \n",
            "\u001b[?25h  Building wheel for sacremoses (setup.py) ... \u001b[?25l\u001b[?25hdone\n",
            "\u001b[31mERROR: pip's dependency resolver does not currently take into account all the packages that are installed. This behaviour is the source of the following dependency conflicts.\n",
            "torchvision 0.12.0+cu113 requires torch==1.11.0, but you have torch 1.7.0 which is incompatible.\n",
            "torchtext 0.12.0 requires torch==1.11.0, but you have torch 1.7.0 which is incompatible.\n",
            "torchaudio 0.11.0+cu113 requires torch==1.11.0, but you have torch 1.7.0 which is incompatible.\n",
            "tensorflow 2.8.2+zzzcolab20220527125636 requires tensorboard<2.9,>=2.8, but you have tensorboard 2.7.0 which is incompatible.\u001b[0m\n"
          ]
        }
      ]
    },
    {
      "cell_type": "code",
      "source": [
        "!sh train.sh"
      ],
      "metadata": {
        "colab": {
          "base_uri": "https://localhost:8080/"
        },
        "id": "nfGcBt5rBm0W",
        "outputId": "10ccb2d8-ce61-42d4-c361-f91c3cd1acd9"
      },
      "execution_count": null,
      "outputs": [
        {
          "output_type": "stream",
          "name": "stdout",
          "text": [
            "Loading the tokenizer...\n",
            "Loading the model...\n",
            "Loading the optimizer...\n",
            "Loading train & valid data...\n",
            "Loading egy_train_id.json...\n",
            "Processing egy_train data...\n",
            "100% 800/800 [00:00<00:00, 87721.71it/s]\n",
            "Loading egy_test_id.json...\n",
            "Processing egy_test data...\n",
            "100% 200/200 [00:00<00:00, 96810.25it/s]\n",
            "Starting the training...\n",
            "##################################################Epoch: 1##################################################\n",
            "  6% 6/100 [00:31<08:02,  5.13s/it]"
          ]
        }
      ]
    }
  ]
}