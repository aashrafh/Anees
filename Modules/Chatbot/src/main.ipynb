{
 "cells": [
  {
   "cell_type": "code",
   "execution_count": 1,
   "metadata": {},
   "outputs": [],
   "source": [
    "import main"
   ]
  },
  {
   "cell_type": "code",
   "execution_count": 5,
   "metadata": {},
   "outputs": [
    {
     "name": "stderr",
     "output_type": "stream",
     "text": [
      "c:\\Python310\\lib\\site-packages\\sklearn\\base.py:329: UserWarning: Trying to unpickle estimator CountVectorizer from version 0.23.1 when using version 1.0.2. This might lead to breaking code or invalid results. Use at your own risk. For more info please refer to:\n",
      "https://scikit-learn.org/stable/modules/model_persistence.html#security-maintainability-limitations\n",
      "  warnings.warn(\n",
      "c:\\Python310\\lib\\site-packages\\sklearn\\base.py:329: UserWarning: Trying to unpickle estimator LinearSVC from version 0.23.1 when using version 1.0.2. This might lead to breaking code or invalid results. Use at your own risk. For more info please refer to:\n",
      "https://scikit-learn.org/stable/modules/model_persistence.html#security-maintainability-limitations\n",
      "  warnings.warn(\n",
      "c:\\Python310\\lib\\site-packages\\sklearn\\base.py:329: UserWarning: Trying to unpickle estimator TfidfTransformer from version 0.23.1 when using version 1.0.2. This might lead to breaking code or invalid results. Use at your own risk. For more info please refer to:\n",
      "https://scikit-learn.org/stable/modules/model_persistence.html#security-maintainability-limitations\n",
      "  warnings.warn(\n"
     ]
    }
   ],
   "source": [
    "stopwords, ner_instance, verbs, nouns, emotions_model, emotions_tf_idf, intent_model, tokenizer, recomm_intent_model, recomm_tokenizer, location_recomm, movie_recomm,q_not_model , tf_idf_q_not = main.get_models()"
   ]
  },
  {
   "cell_type": "code",
   "execution_count": 22,
   "metadata": {},
   "outputs": [
    {
     "name": "stdout",
     "output_type": "stream",
     "text": [
      "---------------------------------------------------------------------------------------\n",
      "Input                          | محمد يذهب الى المدرسة كل يوم\n",
      "----------------------------------------------------------------------------------------\n",
      "Text after Preprocessing       | محمد يذهب الي المدرسه كل يوم\n",
      "Tokens                         | [محمد , يذهب , المدرسه , يوم ]\n",
      "NER                            | محمد B-PERS\n",
      "Text after  Stemming           | محمد ذهب مدرسه يوم\n",
      "POS                            \n",
      "[['محمد' 'B-PERS']\n",
      " ['ذهب' 'vPresent']\n",
      " ['مدرسه' 'n']\n",
      " ['يوم' 'n']]\n",
      "----------------------------------------------------------------------------------------\n"
     ]
    }
   ],
   "source": [
    "import numpy as np\n",
    "input_text = \"محمد يذهب الى المدرسة كل يوم\"\n",
    "text, tokens, ents, tokens_verb_noun = main.NLU(input_text, stopwords, ner_instance, verbs, nouns)\n",
    "tokens_verb_noun = np.array(tokens_verb_noun)\n",
    "print(\"---------------------------------------------------------------------------------------\")\n",
    "print(\"Input                          |\"+\" \"+ input_text)\n",
    "print(\"----------------------------------------------------------------------------------------\")\n",
    "print(\"Text after Preprocessing       |\"+\" \"+ text)\n",
    "print(\"Tokens                         |\"+\" [\"+ \" , \".join(tokens)+\" ]\")\n",
    "print(\"NER                            |\"+\" \"+ str(\"\".join(ents.keys())) + \" \" + str(\"\".join(ents.values())))\n",
    "print(\"Text after  Stemming           |\"+\" \"+ \" \".join(tokens_verb_noun[:,0]))\n",
    "print(\"POS                            \")\n",
    "print(tokens_verb_noun)\n",
    "print(\"----------------------------------------------------------------------------------------\")"
   ]
  }
 ],
 "metadata": {
  "kernelspec": {
   "display_name": "Python 3.10.1 64-bit",
   "language": "python",
   "name": "python3"
  },
  "language_info": {
   "codemirror_mode": {
    "name": "ipython",
    "version": 3
   },
   "file_extension": ".py",
   "mimetype": "text/x-python",
   "name": "python",
   "nbconvert_exporter": "python",
   "pygments_lexer": "ipython3",
   "version": "3.10.1"
  },
  "orig_nbformat": 4,
  "vscode": {
   "interpreter": {
    "hash": "369f2c481f4da34e4445cda3fffd2e751bd1c4d706f27375911949ba6bb62e1c"
   }
  }
 },
 "nbformat": 4,
 "nbformat_minor": 2
}
