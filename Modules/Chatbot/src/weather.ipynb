{
 "cells": [
  {
   "cell_type": "code",
   "execution_count": 14,
   "metadata": {},
   "outputs": [],
   "source": [
    "#to be translated to python script after fininshing\n",
    "import pandas as pd\n",
    "\n",
    "import tokenization\n",
    "import preprocess\n",
    "import ner\n",
    "import verb_extraction\n",
    "import stemming\n"
   ]
  },
  {
   "cell_type": "code",
   "execution_count": 15,
   "metadata": {},
   "outputs": [
    {
     "name": "stderr",
     "output_type": "stream",
     "text": [
      "c:\\Python310\\lib\\site-packages\\sklearn\\base.py:329: UserWarning: Trying to unpickle estimator CountVectorizer from version 0.23.1 when using version 1.0.2. This might lead to breaking code or invalid results. Use at your own risk. For more info please refer to:\n",
      "https://scikit-learn.org/stable/modules/model_persistence.html#security-maintainability-limitations\n",
      "  warnings.warn(\n",
      "c:\\Python310\\lib\\site-packages\\sklearn\\base.py:329: UserWarning: Trying to unpickle estimator LinearSVC from version 0.23.1 when using version 1.0.2. This might lead to breaking code or invalid results. Use at your own risk. For more info please refer to:\n",
      "https://scikit-learn.org/stable/modules/model_persistence.html#security-maintainability-limitations\n",
      "  warnings.warn(\n",
      "c:\\Python310\\lib\\site-packages\\sklearn\\base.py:329: UserWarning: Trying to unpickle estimator TfidfTransformer from version 0.23.1 when using version 1.0.2. This might lead to breaking code or invalid results. Use at your own risk. For more info please refer to:\n",
      "https://scikit-learn.org/stable/modules/model_persistence.html#security-maintainability-limitations\n",
      "  warnings.warn(\n"
     ]
    }
   ],
   "source": [
    "cities = pd.read_csv('Weather_data/weather_cities.csv',encoding='utf-8')\n",
    "\n",
    "text = input()\n",
    "# #Preprocessing\n",
    "text = preprocess.pre_process(text)\n",
    "# #Tokenization\n",
    "tokens = tokenization.get_tokens(text)\n",
    "# # NER\n",
    "ents = ner.get_ents(tokens)\n",
    "# #Part of Speech and Stemming\n",
    "tokens_verb_noun = verb_extraction.extract_stem_verb(tokens,ents)\n",
    "tokens_verb_noun = stemming.stem(tokens_verb_noun)\n"
   ]
  },
  {
   "cell_type": "code",
   "execution_count": 16,
   "metadata": {},
   "outputs": [],
   "source": [
    "#if the text not a question then we have to generate a text if we agree or not\n",
    "#defaults\n",
    "time = 0\n",
    "location = \"Cairo\"\n",
    "#extract features from text -> location & Time\n",
    "for ent,value in ents.items():\n",
    "    if value == 'B-LOC':\n",
    "        if ent in list(cities['Arabic Name']):\n",
    "        \tlocation = cities[cities['Arabic Name'] == ent]['capital'].values[0]\n",
    "        else:\n",
    "            location = ent\n"
   ]
  },
  {
   "cell_type": "code",
   "execution_count": 17,
   "metadata": {},
   "outputs": [],
   "source": [
    "#weather_api\n",
    "import requests\n",
    "import json\n",
    "import math\n",
    "\n",
    "api_key = \"acc2137340c0aeb19d563cf85cf78595\"\n",
    "\n",
    "def get_weather(city_name,time):\n",
    "\tapi_url = \"http://api.openweathermap.org/data/2.5/forecast?q={}&appid={}&units=metric&lang=ar\".format(city_name, api_key)\n",
    "\n",
    "\tresponse = requests.get(api_url)\n",
    "\tresponse_dict = json.loads(response.text)\n",
    "\t\n",
    "\tday = math.floor(time)\n",
    "\tweather = response_dict[\"list\"][day]['weather'][0][\"description\"]\n",
    "\ttemperature = round(response_dict[\"list\"][day][\"main\"][\"temp\"])\n",
    "\n",
    "\tif response.status_code == 200:\n",
    "\t\treturn str(temperature) + chr(176) +\"C\" + \" الجو \" + str(weather) + \" درجة الحرارة \"\n",
    "\telse:\n",
    "\t\tprint('[!] HTTP {0} calling [{1}]'.format(response.status_code, api_url))\n",
    "\t\treturn None\n"
   ]
  },
  {
   "cell_type": "code",
   "execution_count": 18,
   "metadata": {},
   "outputs": [
    {
     "name": "stdout",
     "output_type": "stream",
     "text": [
      "28°C الجو غيوم متناثرة درجة الحرارة \n"
     ]
    }
   ],
   "source": [
    "#if time <= 5 days then finish else get past weather and make a model to forcast the weather\n",
    "if time < 5:\n",
    "\tprint(get_weather(location,time))\n",
    "else:\n",
    "    #predict weather\n",
    "\tpass"
   ]
  }
 ],
 "metadata": {
  "interpreter": {
   "hash": "369f2c481f4da34e4445cda3fffd2e751bd1c4d706f27375911949ba6bb62e1c"
  },
  "kernelspec": {
   "display_name": "Python 3.10.1 64-bit",
   "language": "python",
   "name": "python3"
  },
  "language_info": {
   "codemirror_mode": {
    "name": "ipython",
    "version": 3
   },
   "file_extension": ".py",
   "mimetype": "text/x-python",
   "name": "python",
   "nbconvert_exporter": "python",
   "pygments_lexer": "ipython3",
   "version": "3.10.1"
  },
  "orig_nbformat": 4
 },
 "nbformat": 4,
 "nbformat_minor": 2
}
