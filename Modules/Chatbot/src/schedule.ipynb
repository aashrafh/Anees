{
 "cells": [
  {
   "cell_type": "code",
   "execution_count": 130,
   "metadata": {},
   "outputs": [],
   "source": [
    "from collections import Counter\n",
    "import tokenization\n",
    "import preprocess\n",
    "import ner\n",
    "import verb_extraction\n",
    "import stemming\n",
    "from datetime import datetime, timedelta"
   ]
  },
  {
   "cell_type": "code",
   "execution_count": 34,
   "metadata": {},
   "outputs": [],
   "source": [
    "def edit_distance (word1, word2, index1, index2):\n",
    "    dp = [[0 for x in range(index2 + 1)] for x in range(index1 + 1)]\n",
    "    for i in range (index1 + 1):\n",
    "        for j in range (index2 + 1):\n",
    "            if i == 0:\n",
    "                dp[i][j] == j\n",
    "            elif j == 0:\n",
    "                dp[i][j] == i\n",
    "            elif word1[i - 1] == word2[j - 1]:\n",
    "                dp[i][j] = dp[i-1][j-1]\n",
    "            else:\n",
    "                 dp[i][j] = 1 + min ( dp[i-1][j-1], #replace\n",
    "                                    dp[i-1][j],     #remove\n",
    "                                    dp[i][j-1])     #insert\n",
    "    return dp[index1][index2]\n",
    "    "
   ]
  },
  {
   "cell_type": "code",
   "execution_count": 139,
   "metadata": {},
   "outputs": [
    {
     "name": "stdout",
     "output_type": "stream",
     "text": [
      "['واحد', 'اتنين ', 'تلاته', 'اربعه', 'خمسه', 'سته', 'سبعه', 'تمانيه', 'تسعه', 'عشره', 'واحدعشر', 'اتنين عشر', 'تلاتهعشر', 'اربعهعشر', 'خمسهعشر', 'ستهعشر', 'سبعهعشر', 'تمانيهعشر', 'تسعهعشر', 'عشرين', 'واحدوعشرين', 'اتنين وعشرين', 'تلاتهوعشرين', 'اربعهوعشرين', 'خمسهوعشرين', 'ستهوعشرين', 'سبعهوعشرين', 'تمانيهوعشرين', 'تسعهوعشرين', 'تلاتين', 'واحدوتلاتين', 'اتنين وتلاتين', 'تلاتهوتلاتين', 'اربعهوتلاتين', 'خمسهوتلاتين', 'ستهوتلاتين', 'سبعهوتلاتين', 'تمانيهوتلاتين', 'تسعهوتلاتين', 'اربعين', 'واحدواربعين', 'اتنين واربعين', 'تلاتهواربعين', 'اربعهواربعين', 'خمسهواربعين', 'ستهواربعين', 'سبعهواربعين', 'تمانيهواربعين', 'تسعهواربعين', 'خمسين', 'واحدوخمسين', 'اتنين وخمسين', 'تلاتهوخمسين', 'اربعهوخمسين', 'خمسهوخمسين', 'ستهوخمسين', 'سبعهوخمسين', 'تمانيهوخمسين', 'تسعهوخمسين']\n"
     ]
    }
   ],
   "source": [
    "singleNumbers = [\"واحد\",\"اتنين \",\"تلاته\",\"اربعه\",\"خمسه\",\"سته\",\"سبعه\",\"تمانيه\",\"تسعه\"]\n",
    "higherNumbers = [\"عشر\",\"عشرين\",\"تلاتين\",\"اربعين\",\"خمسين\"]\n",
    "numbersBagOfWords = []\n",
    "for number in singleNumbers:\n",
    "    numbersBagOfWords.append(number)    \n",
    "\n",
    "for higher in higherNumbers:\n",
    "    if higher == \"عشر\":\n",
    "        numbersBagOfWords.append(higher + \"ه\")\n",
    "    else:\n",
    "        numbersBagOfWords.append(higher)\n",
    "    for number in singleNumbers:\n",
    "        if higher == \"عشر\" or higher == \"\":\n",
    "            numbersBagOfWords.append(number + higher)    \n",
    "        else:\n",
    "            numbersBagOfWords.append(number + \"و\" + higher)\n",
    "print(numbersBagOfWords)"
   ]
  },
  {
   "cell_type": "code",
   "execution_count": 132,
   "metadata": {},
   "outputs": [],
   "source": [
    "def textNumberToNumber(word):\n",
    "    if word.isnumeric():\n",
    "        return int(word)\n",
    "    editDistance = 1000\n",
    "    closestNumber = \"واحد\"\n",
    "    for index, number in enumerate(numbersBagOfWords):\n",
    "        editDistanceNew = edit_distance(word, number, len(word), len(number))\n",
    "        if (editDistanceNew < editDistance or \n",
    "        (editDistanceNew == editDistance and abs( len(number) - len(word)) < abs( len(closestTextualNumber) - len(word)))):\n",
    "            editDistance = editDistanceNew\n",
    "            closestTextualNumber = number\n",
    "            closestNumber = index + 1\n",
    "    print(closestNumber)\n",
    "    if editDistance >= 3:\n",
    "        return 0\n",
    "    return closestNumber\n",
    "    \n",
    "def bigrams (tokens):\n",
    "    grams = []\n",
    "    for index in range(len(tokens) - 1):\n",
    "        grams.append([tokens[index] , tokens[index + 1]])\n",
    "    return grams"
   ]
  },
  {
   "cell_type": "code",
   "execution_count": 178,
   "metadata": {},
   "outputs": [
    {
     "name": "stdout",
     "output_type": "stream",
     "text": [
      "['اجتماع', 'شهرين', 'مقطم', 'ساعه', '4', 'ونص', 'يوم', '25']\n"
     ]
    },
    {
     "name": "stderr",
     "output_type": "stream",
     "text": [
      "c:\\Users\\Ahmed Sherif\\anaconda3\\lib\\site-packages\\sklearn\\base.py:310: UserWarning: Trying to unpickle estimator CountVectorizer from version 0.23.1 when using version 0.24.2. This might lead to breaking code or invalid results. Use at your own risk.\n",
      "  warnings.warn(\n",
      "c:\\Users\\Ahmed Sherif\\anaconda3\\lib\\site-packages\\sklearn\\base.py:310: UserWarning: Trying to unpickle estimator LinearSVC from version 0.23.1 when using version 0.24.2. This might lead to breaking code or invalid results. Use at your own risk.\n",
      "  warnings.warn(\n",
      "c:\\Users\\Ahmed Sherif\\anaconda3\\lib\\site-packages\\sklearn\\base.py:310: UserWarning: Trying to unpickle estimator TfidfTransformer from version 0.23.1 when using version 0.24.2. This might lead to breaking code or invalid results. Use at your own risk.\n",
      "  warnings.warn(\n"
     ]
    }
   ],
   "source": [
    "def NLU(text):\n",
    "    #Preprocessing\n",
    "    text = preprocess.pre_process(text)\n",
    "    #Tokenization\n",
    "    tokens = tokenization.get_tokens(text)\n",
    "    # NER\n",
    "    ents = ner.get_ents(tokens)\n",
    "    #Part of Speech and Stemming\n",
    "    tokens_verb_noun = verb_extraction.extract_stem_verb(tokens,ents)\n",
    "    tokens_verb_noun = stemming.stem(tokens_verb_noun)\n",
    "    return text , tokens ,ents , tokens_verb_noun\n",
    "text = input()\n",
    "text , tokens ,ents , tokens_verb_noun = NLU(text)\n",
    "for index, token in enumerate(tokens):\n",
    "    if token[0] == 'ا' and token[1] == 'ل':\n",
    "        tokens[index] = token[2:]\n",
    "print(tokens)"
   ]
  },
  {
   "cell_type": "code",
   "execution_count": 182,
   "metadata": {},
   "outputs": [
    {
     "name": "stdout",
     "output_type": "stream",
     "text": [
      "30 4 25 2 1 1 0\n"
     ]
    }
   ],
   "source": [
    "now = datetime.now()\n",
    "overwriteHour, overwriteDay, overwriteMonth, morning, minuteEdit, hourEdit, dayEdit, monthEdit = 0, 0, 0, 0, 0, -2, 0, 0\n",
    "bigram = bigrams(tokens)\n",
    "bigram.reverse()\n",
    "for gram in bigram:\n",
    "\n",
    "    if gram[1] == \"ربع\" and gram[0] == \"الا\" and minuteEdit == 0:\n",
    "        hourEdit -= 1\n",
    "        minuteEdit = 45\n",
    "    elif (gram[0] == \"ربع\" or gram[0] == \"وربع\") and minuteEdit == 0:\n",
    "        minuteEdit = 15\n",
    "    if gram[1] == \"تلت\" and gram[0] == \"الا\" and minuteEdit == 0:\n",
    "        hourEdit -= 1\n",
    "        minuteEdit = 40\n",
    "    elif (gram[0] == \"تلت\" or gram[0] == \"وتلت\") and minuteEdit == 0:\n",
    "        minuteEdit = 20\n",
    "    elif (gram[0] == \"نص\" or gram[0] == \"ونص\") and minuteEdit == 0:\n",
    "        minuteEdit = 30\n",
    "    elif (gram[1] == \"دقيقه\" or gram[1] == \"دقايق\")and minuteEdit == 0:\n",
    "        minuteEdit = textNumberToNumber(gram[0])\n",
    "\n",
    "    if gram[0] == \"ساعه\" and hourEdit <= -2: \n",
    "        hourEdit += textNumberToNumber(gram[1]) + 2\n",
    "        overwriteHour = 1\n",
    "    elif gram[1] == \"ساعه\" and hourEdit <= -2:\n",
    "        hourEdit += 3\n",
    "    elif gram[1] == \"ساعتين\" and hourEdit <= -2:\n",
    "        hourEdit += 4\n",
    "    elif gram[1] == \"ساعات\" and hourEdit <= -2:\n",
    "        hourEdit += textNumberToNumber(gram[0]) + 2\n",
    "\n",
    "    if gram[0] == \"يوم\" and dayEdit == 0: \n",
    "        dayEdit = textNumberToNumber(gram[1]) \n",
    "        overwriteDay = 1\n",
    "    elif gram[1] == \"يوم\" and dayEdit == 0:\n",
    "        dayEdit = 1\n",
    "    elif gram[1] == \"يومين\" and dayEdit == 0:\n",
    "        dayEdit = 2\n",
    "    elif gram[1] == \"ايام\" and dayEdit == 0:\n",
    "        dayEdit = textNumberToNumber(gram[0]) \n",
    "\n",
    "    if gram[0] == \"شهر\" and monthEdit == 0: \n",
    "        monthEdit = textNumberToNumber(gram[1]) \n",
    "        overwriteMonth = 1\n",
    "    elif gram[1] == \"شهر\" and monthEdit == 0:\n",
    "        monthEdit = 1\n",
    "    elif gram[1] == \"شهرين\" and monthEdit == 0:\n",
    "        monthEdit = 2\n",
    "    elif gram[1] == \"شهور\" and monthEdit == 0:\n",
    "        monthEdit = textNumberToNumber(gram[0]) \n",
    "    \n",
    "print (minuteEdit ,hourEdit, dayEdit, monthEdit, overwriteHour, overwriteDay, overwriteMonth)\n",
    "\n",
    "\n",
    "# number without specifications should be an hour\n",
    "# need to add \"بكرة\" \"بعد بكرة\" \"الصبح\" \"بليل\" \n",
    "# cannot deiffrentiate between \"watch\" and \"hour\" both are \"ساعة\"\n",
    "# need to optimize the code \n",
    "# it is a static code any error will result into a distaster XD\n"
   ]
  }
 ],
 "metadata": {
  "interpreter": {
   "hash": "4416bc9836c12781b1e5ff1e266afc9f29e38369dcfeb27a2853c274cac55a02"
  },
  "kernelspec": {
   "display_name": "Python 3.9.7 ('base')",
   "language": "python",
   "name": "python3"
  },
  "language_info": {
   "codemirror_mode": {
    "name": "ipython",
    "version": 3
   },
   "file_extension": ".py",
   "mimetype": "text/x-python",
   "name": "python",
   "nbconvert_exporter": "python",
   "pygments_lexer": "ipython3",
   "version": "3.9.7"
  },
  "orig_nbformat": 4
 },
 "nbformat": 4,
 "nbformat_minor": 2
}
