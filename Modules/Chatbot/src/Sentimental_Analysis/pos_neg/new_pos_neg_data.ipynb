{
 "cells": [
  {
   "cell_type": "code",
   "execution_count": 19,
   "metadata": {},
   "outputs": [],
   "source": [
    "import pandas as pd"
   ]
  },
  {
   "cell_type": "code",
   "execution_count": 20,
   "metadata": {},
   "outputs": [
    {
     "name": "stdout",
     "output_type": "stream",
     "text": [
      "[ 1 -1  0]\n"
     ]
    },
    {
     "data": {
      "text/plain": [
       "Index(['text', 'polarity'], dtype='object')"
      ]
     },
     "execution_count": 20,
     "metadata": {},
     "output_type": "execute_result"
    }
   ],
   "source": [
    "data0 = pd.read_csv('new/MOV.csv',encoding='utf-8')\n",
    "print(data0.polarity.unique())\n",
    "data0.columns"
   ]
  },
  {
   "cell_type": "code",
   "execution_count": 21,
   "metadata": {},
   "outputs": [
    {
     "name": "stdout",
     "output_type": "stream",
     "text": [
      "[ 1. -1.]\n"
     ]
    },
    {
     "data": {
      "text/plain": [
       "Index(['text', 'polarity'], dtype='object')"
      ]
     },
     "execution_count": 21,
     "metadata": {},
     "output_type": "execute_result"
    }
   ],
   "source": [
    "data1 = pd.read_csv('new/ATT.csv',encoding='utf-8')\n",
    "data1.drop(['Unnamed: 0'],axis=1,inplace=True)\n",
    "print(data1.polarity.unique())\n",
    "data1.columns"
   ]
  },
  {
   "cell_type": "code",
   "execution_count": 22,
   "metadata": {},
   "outputs": [
    {
     "name": "stdout",
     "output_type": "stream",
     "text": [
      "[ 1  0 -1]\n"
     ]
    },
    {
     "data": {
      "text/plain": [
       "Index(['text', 'polarity'], dtype='object')"
      ]
     },
     "execution_count": 22,
     "metadata": {},
     "output_type": "execute_result"
    }
   ],
   "source": [
    "data2 = pd.read_csv('new/HTL.csv',encoding='utf-8')\n",
    "print(data2.polarity.unique())\n",
    "data2.columns"
   ]
  },
  {
   "cell_type": "code",
   "execution_count": 23,
   "metadata": {},
   "outputs": [
    {
     "name": "stdout",
     "output_type": "stream",
     "text": [
      "[ 1  0 -1]\n"
     ]
    },
    {
     "data": {
      "text/plain": [
       "Index(['text', 'polarity'], dtype='object')"
      ]
     },
     "execution_count": 23,
     "metadata": {},
     "output_type": "execute_result"
    }
   ],
   "source": [
    "data3 = pd.read_csv('new/PROD.csv',encoding='utf-8')\n",
    "print(data3.polarity.unique())\n",
    "data3.columns"
   ]
  },
  {
   "cell_type": "code",
   "execution_count": 24,
   "metadata": {},
   "outputs": [
    {
     "name": "stdout",
     "output_type": "stream",
     "text": [
      "[ 1  0 -1]\n"
     ]
    },
    {
     "data": {
      "text/plain": [
       "Index(['text', 'polarity'], dtype='object')"
      ]
     },
     "execution_count": 24,
     "metadata": {},
     "output_type": "execute_result"
    }
   ],
   "source": [
    "data4 = pd.read_csv('new/RES.csv',encoding='utf-8')\n",
    "print(data4.polarity.unique())\n",
    "data4.columns"
   ]
  },
  {
   "cell_type": "code",
   "execution_count": 25,
   "metadata": {},
   "outputs": [
    {
     "name": "stdout",
     "output_type": "stream",
     "text": [
      "[-1  1]\n"
     ]
    },
    {
     "data": {
      "text/plain": [
       "Index(['text', 'polarity'], dtype='object')"
      ]
     },
     "execution_count": 25,
     "metadata": {},
     "output_type": "execute_result"
    }
   ],
   "source": [
    "data5 = pd.read_csv('new/RES1.csv',encoding='utf-8')\n",
    "data5.drop(['restaurant_id', 'user_id'],axis=1,inplace=True)\n",
    "data5 =pd.DataFrame({'text':data5['text'],'polarity':data5['polarity']})\n",
    "print(data5.polarity.unique())\n",
    "data5.columns"
   ]
  },
  {
   "cell_type": "code",
   "execution_count": 26,
   "metadata": {},
   "outputs": [
    {
     "name": "stdout",
     "output_type": "stream",
     "text": [
      "[ 1  0 -1]\n"
     ]
    },
    {
     "data": {
      "text/plain": [
       "Index(['text', 'polarity'], dtype='object')"
      ]
     },
     "execution_count": 26,
     "metadata": {},
     "output_type": "execute_result"
    }
   ],
   "source": [
    "data6 = pd.read_csv('new/RES2.csv',encoding='utf-8')\n",
    "print(data6.polarity.unique())\n",
    "data6.columns"
   ]
  },
  {
   "cell_type": "code",
   "execution_count": 27,
   "metadata": {},
   "outputs": [],
   "source": [
    "data = pd.concat([data0,data1,data2,data3,data4,data5,data6])"
   ]
  },
  {
   "cell_type": "code",
   "execution_count": 28,
   "metadata": {},
   "outputs": [],
   "source": [
    "data['TWEET'] = data['text']\n",
    "data.drop(['text'],axis=1,inplace=True)"
   ]
  },
  {
   "cell_type": "code",
   "execution_count": 29,
   "metadata": {},
   "outputs": [],
   "source": [
    "def change(polar):\n",
    "    if polar == 1:\n",
    "        return 'pos'\n",
    "    elif polar == -1:\n",
    "        return 'neg'\n",
    "    else:\n",
    "        return 'neutral'"
   ]
  },
  {
   "cell_type": "code",
   "execution_count": 30,
   "metadata": {},
   "outputs": [],
   "source": [
    "data['pos_neg'] = data['polarity'].apply(change)\n",
    "data['LABEL'] = 'none'\n",
    "data.drop(['polarity'],axis=1,inplace=True)"
   ]
  },
  {
   "cell_type": "code",
   "execution_count": 31,
   "metadata": {},
   "outputs": [],
   "source": [
    "data = data[(data['pos_neg']!='neutral')]"
   ]
  },
  {
   "cell_type": "code",
   "execution_count": 32,
   "metadata": {},
   "outputs": [
    {
     "data": {
      "text/plain": [
       "array(['pos', 'neg'], dtype=object)"
      ]
     },
     "execution_count": 32,
     "metadata": {},
     "output_type": "execute_result"
    }
   ],
   "source": [
    "data['pos_neg'].unique()"
   ]
  },
  {
   "cell_type": "code",
   "execution_count": 33,
   "metadata": {},
   "outputs": [
    {
     "data": {
      "text/plain": [
       "42339"
      ]
     },
     "execution_count": 33,
     "metadata": {},
     "output_type": "execute_result"
    }
   ],
   "source": [
    "len(data)"
   ]
  },
  {
   "cell_type": "code",
   "execution_count": 35,
   "metadata": {},
   "outputs": [],
   "source": [
    "tweet = list(data['TWEET'])\n",
    "label = list(data['LABEL'])\n",
    "pos_neg = list(data['pos_neg'])"
   ]
  },
  {
   "cell_type": "code",
   "execution_count": 36,
   "metadata": {},
   "outputs": [],
   "source": [
    "import numpy as np\n",
    "import verb_extraction\n",
    "import stemming\n",
    "import re\n",
    "\n",
    "for i in range(len(tweet)):\n",
    "    tweet[i] = preprocess.pre_process(str(tweet[i]))\n",
    "    tokens = get_tokens(tweet[i])\n",
    "    tokens_verb_noun = verb_extraction.extract_stem_verb(tokens,{})\n",
    "    tokens_verb_noun = np.array(stemming.stem(tokens_verb_noun))\n",
    "    tweet[i] = ' '.join([str(elem) for elem,_ in tokens_verb_noun])\n"
   ]
  },
  {
   "cell_type": "code",
   "execution_count": 37,
   "metadata": {},
   "outputs": [],
   "source": [
    "for i in range(len(tweet)):    \n",
    "    tweet[i] = re.sub(\"[a-zA-Z]\", \" \", tweet[i]) # remove english letters\n",
    "    tweet[i] = re.sub('\\n', ' ', tweet[i]) # remove \\n from text\n",
    "    tweet[i] = re.sub(r'\\d+', '', tweet[i]) #remove number\n",
    "    tweet[i] = re.sub(r'http\\S+', '', tweet[i]) # remove links\n",
    "    tweet[i] = re.sub(' +', ' ',tweet[i]) # remove extra space\n",
    "    tweet[i] = tweet[i].strip() #remove whitespaces\n"
   ]
  },
  {
   "cell_type": "code",
   "execution_count": 38,
   "metadata": {},
   "outputs": [],
   "source": [
    "text = list()\n",
    "target = list()\n",
    "posneg = list()\n",
    "for i in range(len(tweet)):\n",
    "    if tweet[i] == '':\n",
    "        continue\n",
    "    text.append(tweet[i])\n",
    "    target.append(label[i])\n",
    "    posneg.append(pos_neg[i])\n",
    "data = pd.DataFrame({'TWEET':text,'LABEL':target,'pos_neg':posneg})\n"
   ]
  },
  {
   "cell_type": "code",
   "execution_count": 44,
   "metadata": {},
   "outputs": [],
   "source": [
    "data.to_csv('new/final.csv',index=False)"
   ]
  }
 ],
 "metadata": {
  "interpreter": {
   "hash": "f3a52463084db90f96d29dcfcfd9bf276dba3c521d76c4c38c835392b64a093b"
  },
  "kernelspec": {
   "display_name": "Python 3.8.8 ('base')",
   "language": "python",
   "name": "python3"
  },
  "language_info": {
   "codemirror_mode": {
    "name": "ipython",
    "version": 3
   },
   "file_extension": ".py",
   "mimetype": "text/x-python",
   "name": "python",
   "nbconvert_exporter": "python",
   "pygments_lexer": "ipython3",
   "version": "3.8.8"
  },
  "orig_nbformat": 4
 },
 "nbformat": 4,
 "nbformat_minor": 2
}
