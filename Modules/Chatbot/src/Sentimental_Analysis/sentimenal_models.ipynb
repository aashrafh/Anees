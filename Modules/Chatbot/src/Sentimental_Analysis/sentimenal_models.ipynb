{
 "cells": [
  {
   "cell_type": "code",
   "execution_count": 74,
   "metadata": {},
   "outputs": [],
   "source": [
    "import pandas as pd\n",
    "from sklearn.feature_extraction.text import TfidfVectorizer\n",
    "from sklearn.model_selection import train_test_split\n",
    "import sys\n",
    "import os\n",
    "\n",
    "module_path = os.path.abspath(os.path.join('..'))\n",
    "if module_path not in sys.path:\n",
    "    sys.path.append(module_path)\n",
    "\n",
    "import preprocess\n",
    "import numpy as np\n",
    "import verb_extraction\n",
    "import stemming\n",
    "import re\n"
   ]
  },
  {
   "cell_type": "code",
   "execution_count": 75,
   "metadata": {},
   "outputs": [],
   "source": [
    "data = pd.read_csv('../../Data/Sentimental_Analysis/main_preprocessed.csv',encoding='utf-8')"
   ]
  },
  {
   "cell_type": "code",
   "execution_count": 76,
   "metadata": {},
   "outputs": [],
   "source": [
    "file = open(\"../../Data/stopwords.txt\",\"r\",encoding=\"utf-8\")\n",
    "stopwords = file.read().split()\n",
    "file.close()\n",
    "def get_tokens(text):\n",
    "    dictionary = {'د':\"دكتور\"}#to be continued\n",
    "    words_after_split = text.split()\n",
    "    for index , word in enumerate(words_after_split):\n",
    "        if word in dictionary.keys():\n",
    "            w = dictionary[word]\n",
    "            words_after_split[index] = w\n",
    "    new_words = list()\n",
    "    for word in words_after_split:\n",
    "        if word not in stopwords:\n",
    "            new_words.append(word)\n",
    "    return new_words\n"
   ]
  },
  {
   "cell_type": "code",
   "execution_count": 77,
   "metadata": {},
   "outputs": [],
   "source": [
    "tweet = list(data['TWEET'])\n",
    "label = list(data['LABEL'])"
   ]
  },
  {
   "cell_type": "code",
   "execution_count": 78,
   "metadata": {},
   "outputs": [],
   "source": [
    "X_train, X_test, y_train, y_test = train_test_split(tweet, label, test_size=0.2, random_state=0)\n",
    "vectorizer = TfidfVectorizer(encoding='utf-8',ngram_range=(1,3),max_df=0.8,min_df=1)\n",
    "X_train = vectorizer.fit_transform(X_train)\n",
    "X_test = vectorizer.transform(X_test)\n"
   ]
  },
  {
   "cell_type": "code",
   "execution_count": 79,
   "metadata": {},
   "outputs": [
    {
     "data": {
      "text/plain": [
       "LinearSVC(C=0.9, random_state=0)"
      ]
     },
     "execution_count": 79,
     "metadata": {},
     "output_type": "execute_result"
    }
   ],
   "source": [
    "from sklearn.ensemble import RandomForestClassifier\n",
    "from sklearn.svm import LinearSVC\n",
    "#text_classifier = RandomForestClassifier(n_jobs=2, random_state=0)\n",
    "text_classifier = LinearSVC(random_state=0,C=0.9)\n",
    "text_classifier.fit(X_train, y_train)\n"
   ]
  },
  {
   "cell_type": "code",
   "execution_count": 80,
   "metadata": {},
   "outputs": [
    {
     "name": "stdout",
     "output_type": "stream",
     "text": [
      "0.5664797567002471\n"
     ]
    }
   ],
   "source": [
    "predictions = text_classifier.predict(X_test)\n",
    "from sklearn.metrics import accuracy_score\n",
    "print(accuracy_score(y_test, predictions))\n"
   ]
  },
  {
   "cell_type": "code",
   "execution_count": 81,
   "metadata": {},
   "outputs": [
    {
     "name": "stdout",
     "output_type": "stream",
     "text": [
      "['joy' 'anger' 'sadness' 'joy']\n"
     ]
    }
   ],
   "source": [
    "text_list = [\"انا استمتعت جدا باليوم\",\"انا اكرهك\",\"انا اريد ان انتحر\",\"انا سعيد\"]\n",
    "for index in range(len(text_list)):\n",
    "    text_list[index] = preprocess.pre_process(text_list[index])\n",
    "    tokens = get_tokens(text_list[index])\n",
    "    tokens_verb_noun = verb_extraction.extract_stem_verb(tokens,{})\n",
    "    tokens_verb_noun = np.array(stemming.stem(tokens_verb_noun))\n",
    "    text_list[index] = ' '.join([str(elem) for elem,_ in tokens_verb_noun])\n",
    "for i in range(len(text_list)):\n",
    "    text_list[i] = re.sub(\"[a-zA-Z]\", \" \", text_list[i]) # remove english letters\n",
    "    text_list[i] = re.sub('\\n', ' ', text_list[i]) # remove \\n from text\n",
    "    text_list[i] = re.sub(r'\\d+', '', text_list[i]) #remove number\n",
    "    text_list[i] = re.sub(r'http\\S+', '', text_list[i]) # remove links\n",
    "    text_list[i] = re.sub(' +', ' ',text_list[i]) # remove extra space\n",
    "    text_list[i] = text_list[i].strip() #remove whitespaces\n",
    "tweet = vectorizer.transform(text_list)\n",
    "prediction = text_classifier.predict(tweet)\n",
    "print(prediction)\n"
   ]
  },
  {
   "cell_type": "code",
   "execution_count": 82,
   "metadata": {},
   "outputs": [],
   "source": [
    "import pickle\n",
    "filename = f'../../utils/sentmental_all_model.sav'\n",
    "pickle.dump(text_classifier, open(filename, 'wb'))\n",
    "filename = f'../../utils/tfidf_all_model.sav'\n",
    "pickle.dump(vectorizer, open(filename, 'wb'))"
   ]
  }
 ],
 "metadata": {
  "interpreter": {
   "hash": "369f2c481f4da34e4445cda3fffd2e751bd1c4d706f27375911949ba6bb62e1c"
  },
  "kernelspec": {
   "display_name": "Python 3.10.1 64-bit",
   "language": "python",
   "name": "python3"
  },
  "language_info": {
   "codemirror_mode": {
    "name": "ipython",
    "version": 3
   },
   "file_extension": ".py",
   "mimetype": "text/x-python",
   "name": "python",
   "nbconvert_exporter": "python",
   "pygments_lexer": "ipython3",
   "version": "3.10.1"
  },
  "orig_nbformat": 4
 },
 "nbformat": 4,
 "nbformat_minor": 2
}
