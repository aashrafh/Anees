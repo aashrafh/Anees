{
 "cells": [
  {
   "cell_type": "code",
   "execution_count": 49,
   "metadata": {},
   "outputs": [],
   "source": [
    "import pandas as pd"
   ]
  },
  {
   "cell_type": "code",
   "execution_count": 50,
   "metadata": {},
   "outputs": [
    {
     "name": "stdout",
     "output_type": "stream",
     "text": [
      "Index(['TWEET', 'LABEL'], dtype='object')\n",
      "['joy' 'fear' 'sadness' 'anger' 'surprise']\n"
     ]
    }
   ],
   "source": [
    "data = pd.read_csv('../../Data/Sentimental_Analysis/feel.txt',sep=':',encoding='utf-8')\n",
    "print(data.columns)\n",
    "data = data[(data['LABEL']!='excited')&(data['LABEL']!='hurt')&(data['LABEL']!='depressed')]\n",
    "def change(emote):\n",
    "    if emote == 'afraid':\n",
    "        return 'fear'\n",
    "    elif emote == 'sad':\n",
    "        return 'sadness'\n",
    "    elif emote == 'happy':\n",
    "        return 'joy'\n",
    "    elif emote == 'surprised':\n",
    "        return 'surprise'\n",
    "    else:\n",
    "        return emote\n",
    "data['LABEL'] = data['LABEL'].apply(change)\n",
    "print(data.LABEL.unique())"
   ]
  },
  {
   "cell_type": "code",
   "execution_count": 51,
   "metadata": {},
   "outputs": [
    {
     "name": "stdout",
     "output_type": "stream",
     "text": [
      "Index(['TWEET', 'LABEL'], dtype='object')\n",
      "['sadness' 'anger' 'surprise' 'fear' 'joy']\n"
     ]
    }
   ],
   "source": [
    "data1 = pd.read_csv('../../Data/Sentimental_Analysis/train.txt',sep=';',encoding='utf-8')\n",
    "print(data1.columns)\n",
    "data1 = data1[data1['LABEL']!= 'love']\n",
    "print(data1.LABEL.unique())\n",
    "data = pd.concat([data,data1])"
   ]
  },
  {
   "cell_type": "code",
   "execution_count": 52,
   "metadata": {},
   "outputs": [
    {
     "name": "stdout",
     "output_type": "stream",
     "text": [
      "Index(['TWEET', 'LABEL'], dtype='object')\n",
      "['sadness' 'anger' 'joy' 'fear' 'surprise']\n"
     ]
    }
   ],
   "source": [
    "data2 = pd.read_csv('../../Data/Sentimental_Analysis/val.txt',sep=';',encoding='utf-8')\n",
    "print(data2.columns)\n",
    "data2 = data2[data2['LABEL']!= 'love']\n",
    "print(data2.LABEL.unique())\n",
    "data = pd.concat([data,data2])"
   ]
  },
  {
   "cell_type": "code",
   "execution_count": 53,
   "metadata": {},
   "outputs": [
    {
     "name": "stdout",
     "output_type": "stream",
     "text": [
      "Index(['TWEET', 'LABEL'], dtype='object')\n",
      "['sadness' 'anger' 'joy' 'fear' 'surprise']\n"
     ]
    }
   ],
   "source": [
    "data3= pd.read_csv('../../Data/Sentimental_Analysis/val.txt',sep=';',encoding='utf-8')\n",
    "print(data3.columns)\n",
    "data3 = data3[data3['LABEL']!= 'love']\n",
    "print(data3.LABEL.unique())\n",
    "data = pd.concat([data,data3])"
   ]
  },
  {
   "cell_type": "code",
   "execution_count": 54,
   "metadata": {},
   "outputs": [
    {
     "name": "stdout",
     "output_type": "stream",
     "text": [
      "Index(['TWEET', 'LABEL'], dtype='object')\n",
      "['sadness' 'joy' 'fear' 'anger' 'surprise']\n"
     ]
    }
   ],
   "source": [
    "data4= pd.read_csv('../../Data/Sentimental_Analysis/test.txt',sep=';',encoding='utf-8')\n",
    "print(data4.columns)\n",
    "data4 = data4[data4['LABEL']!= 'love']\n",
    "print(data4.LABEL.unique())\n",
    "data = pd.concat([data,data4])"
   ]
  },
  {
   "cell_type": "code",
   "execution_count": 55,
   "metadata": {},
   "outputs": [
    {
     "name": "stdout",
     "output_type": "stream",
     "text": [
      "Index(['TWEET', 'LABEL'], dtype='object')\n",
      "['surprise' 'sadness' 'joy' 'fear' 'anger']\n"
     ]
    }
   ],
   "source": [
    "data5= pd.read_csv('../../Data/Sentimental_Analysis/tweets_clean.txt',sep='\\t',encoding='utf-8')\n",
    "print(data5.columns)\n",
    "def change(emote):\n",
    "    if emote == ' fear':\n",
    "        return 'fear'\n",
    "    elif emote == ' sadness':\n",
    "        return 'sadness'\n",
    "    elif emote == ' joy':\n",
    "        return 'joy'\n",
    "    elif emote == ' surprise':\n",
    "        return 'surprise'\n",
    "    elif emote == ' anger':\n",
    "        return 'anger'\n",
    "data5 = data5[data5['LABEL']!= ' disgust']\n",
    "data5['LABEL'] = data5['LABEL'].apply(change)\n",
    "print(data5.LABEL.unique())\n",
    "data = pd.concat([data,data4])"
   ]
  },
  {
   "cell_type": "code",
   "execution_count": 67,
   "metadata": {},
   "outputs": [
    {
     "name": "stdout",
     "output_type": "stream",
     "text": [
      "Index(['LABEL', 'TWEET'], dtype='object')\n",
      "['joy' 'fear' 'anger' 'sadness']\n"
     ]
    }
   ],
   "source": [
    "data6= pd.read_csv('../../Data/Sentimental_Analysis/iseardataset.csv',encoding='utf-8')\n",
    "data6.drop(['Unnamed: 2'],axis=1,inplace=True)\n",
    "print(data6.columns)\n",
    "data6 = data6[(data6['LABEL']!='disgust')&(data6['LABEL']!='shame')&(data6['LABEL']!='guilt')]\n",
    "print(data6.LABEL.unique())\n",
    "data = pd.concat([data,data6])"
   ]
  },
  {
   "cell_type": "code",
   "execution_count": 71,
   "metadata": {},
   "outputs": [
    {
     "name": "stdout",
     "output_type": "stream",
     "text": [
      "Index(['TWEET', 'LABEL'], dtype='object')\n",
      "['sadness' 'joy' 'anger' 'fear']\n"
     ]
    }
   ],
   "source": [
    "data7= pd.read_csv('../../Data/Sentimental_Analysis/go_emotions_dataset_preprocessed.csv',encoding='utf-8')\n",
    "data7.drop(['id'],axis=1,inplace=True)\n",
    "print(data7.columns)\n",
    "data7 = data7[(data7['LABEL']!='love')]\n",
    "print(data7.LABEL.unique())\n",
    "data = pd.concat([data,data7])"
   ]
  },
  {
   "cell_type": "code",
   "execution_count": 77,
   "metadata": {},
   "outputs": [
    {
     "name": "stdout",
     "output_type": "stream",
     "text": [
      "Index(['TWEET', 'LABEL'], dtype='object')\n",
      "['sadness' 'surprise' 'joy' 'anger']\n"
     ]
    }
   ],
   "source": [
    "data8 = pd.read_csv('../../Data/Sentimental_Analysis/text_emotion.csv',encoding='utf-8')\n",
    "print(data8.columns)\n",
    "print(data8.LABEL.unique())\n",
    "data = pd.concat([data,data8])"
   ]
  },
  {
   "cell_type": "code",
   "execution_count": 78,
   "metadata": {},
   "outputs": [
    {
     "data": {
      "text/plain": [
       "64658"
      ]
     },
     "execution_count": 78,
     "metadata": {},
     "output_type": "execute_result"
    }
   ],
   "source": [
    "len(data)"
   ]
  },
  {
   "cell_type": "code",
   "execution_count": null,
   "metadata": {},
   "outputs": [],
   "source": [
    "data.to_csv('../../Data/Sentimental_Analysis/to_translate.csv', index=False)"
   ]
  }
 ],
 "metadata": {
  "interpreter": {
   "hash": "369f2c481f4da34e4445cda3fffd2e751bd1c4d706f27375911949ba6bb62e1c"
  },
  "kernelspec": {
   "display_name": "Python 3.10.1 64-bit",
   "language": "python",
   "name": "python3"
  },
  "language_info": {
   "codemirror_mode": {
    "name": "ipython",
    "version": 3
   },
   "file_extension": ".py",
   "mimetype": "text/x-python",
   "name": "python",
   "nbconvert_exporter": "python",
   "pygments_lexer": "ipython3",
   "version": "3.10.1"
  },
  "orig_nbformat": 4
 },
 "nbformat": 4,
 "nbformat_minor": 2
}
