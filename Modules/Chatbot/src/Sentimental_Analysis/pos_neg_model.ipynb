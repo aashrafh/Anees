{
 "cells": [
  {
   "cell_type": "code",
   "execution_count": 1,
   "metadata": {},
   "outputs": [],
   "source": [
    "import pickle\n",
    "import pandas as pd\n",
    "from sklearn.model_selection import train_test_split"
   ]
  },
  {
   "cell_type": "code",
   "execution_count": 2,
   "metadata": {},
   "outputs": [],
   "source": [
    "data = pd.read_csv('../../Data/Sentimental_Analysis/main_preprocessed.csv',encoding='utf-8')"
   ]
  },
  {
   "cell_type": "code",
   "execution_count": 3,
   "metadata": {},
   "outputs": [
    {
     "name": "stdout",
     "output_type": "stream",
     "text": [
      "0.6766\n"
     ]
    }
   ],
   "source": [
    "\n",
    "X_test = list(data['TWEET'][:10000])\n",
    "y_test = list(data['LABEL'][:10000])\n",
    "filename = f'../../utils/sentmental_+-_model.sav'\n",
    "model = pickle.load(open(filename, 'rb'))\n",
    "filename = f'../../utils/tfidf_+-_model.sav'\n",
    "tf_idf = pickle.load(open(filename, 'rb'))\n",
    "text = tf_idf.transform(X_test)\n",
    "emotion_list = model.predict(text)\n",
    "filename = f'../../utils/sentmental_pos_model.sav'\n",
    "model_pos = pickle.load(open(filename, 'rb'))\n",
    "filename = f'../../utils/tfidf_pos_model.sav'\n",
    "tf_idf_pos = pickle.load(open(filename, 'rb'))\n",
    "filename = f'../../utils/sentmental_neg_model.sav'\n",
    "model_neg = pickle.load(open(filename, 'rb'))\n",
    "filename = f'../../utils/tfidf_neg_model.sav'\n",
    "tf_idf_neg = pickle.load(open(filename, 'rb'))\n",
    "predict = list()\n",
    "for index in range(len(X_test)):\n",
    "    if emotion_list[index] == 'pos':\n",
    "        tweet = tf_idf_pos.transform([X_test[index]])\n",
    "        predict.append(model_pos.predict(tweet)[0])\n",
    "    else:\n",
    "        tweet = tf_idf_neg.transform([X_test[index]])\n",
    "        predict.append(model_neg.predict(tweet)[0])\n",
    "from sklearn.metrics import accuracy_score\n",
    "print(accuracy_score(y_test, predict))"
   ]
  }
 ],
 "metadata": {
  "interpreter": {
   "hash": "369f2c481f4da34e4445cda3fffd2e751bd1c4d706f27375911949ba6bb62e1c"
  },
  "kernelspec": {
   "display_name": "Python 3.10.1 64-bit",
   "language": "python",
   "name": "python3"
  },
  "language_info": {
   "codemirror_mode": {
    "name": "ipython",
    "version": 3
   },
   "file_extension": ".py",
   "mimetype": "text/x-python",
   "name": "python",
   "nbconvert_exporter": "python",
   "pygments_lexer": "ipython3",
   "version": "3.10.1"
  },
  "orig_nbformat": 4
 },
 "nbformat": 4,
 "nbformat_minor": 2
}
