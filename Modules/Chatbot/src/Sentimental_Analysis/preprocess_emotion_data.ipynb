{
 "cells": [
  {
   "cell_type": "code",
   "execution_count": 35,
   "metadata": {},
   "outputs": [],
   "source": [
    "import pandas as pd"
   ]
  },
  {
   "cell_type": "code",
   "execution_count": 36,
   "metadata": {},
   "outputs": [],
   "source": [
    "data = pd.read_csv('../../Data/Sentimental_Analysis/Emotional-Tone-Dataset.csv',encoding='utf-8')\n",
    "data_val = pd.read_csv('../../Data/Sentimental_Analysis/val.csv',encoding='utf-8')\n",
    "data = pd.concat([data,data_val])\n",
    "data = pd.read_csv('../../Data/Sentimental_Analysis/val.csv',encoding='utf-8')\n",
    "data_test = pd.read_csv('../../Data/Sentimental_Analysis/test.csv',encoding='utf-8')\n",
    "data = pd.concat([data,data_test])\n",
    "data_train = pd.read_csv('../../Data/Sentimental_Analysis/train.csv',encoding='utf-8')\n",
    "data = pd.concat([data,data_train])\n",
    "data_train_2 = pd.read_csv('../../Data/Sentimental_Analysis/train_arabic_new.csv',encoding='utf-8')\n",
    "data = pd.concat([data,data_train_2])\n",
    "data_train_3 = pd.read_csv('../../Data/Sentimental_Analysis/go_emotions_dataset_preprocessed_translated.csv',encoding='utf-8')\n",
    "data = pd.concat([data,data_train_3])\n",
    "data_train_4 = pd.read_csv('../../Data/Sentimental_Analysis/go_emotions_dataset_surprise_translated.csv',encoding='utf-8')\n",
    "data = pd.concat([data,data_train_4])\n",
    "data_train_5 = pd.read_csv('../../Data/Sentimental_Analysis/tweets_clean.csv',encoding='utf-8')\n",
    "data = pd.concat([data,data_train_5])\n",
    "data_train_6 = pd.read_csv('../../Data/Sentimental_Analysis/text_emotion_arabic.csv',encoding='utf-8')\n",
    "data = pd.concat([data,data_train_6])\n",
    "feel = pd.read_csv('../../Data/Sentimental_Analysis/feel.csv',encoding='utf-8')\n",
    "data = pd.concat([data,feel])"
   ]
  },
  {
   "cell_type": "code",
   "execution_count": 37,
   "metadata": {},
   "outputs": [],
   "source": [
    "data['LABEL'] = data[' LABEL']\n",
    "data['TWEET'] = data[' TWEET']\n",
    "# data = data.drop([' LABEL','ID',' TWEET'],axis=1)\n",
    "data = data.drop([' LABEL', ' TWEET'],axis=1)"
   ]
  },
  {
   "cell_type": "code",
   "execution_count": 38,
   "metadata": {},
   "outputs": [
    {
     "data": {
      "text/plain": [
       "TWEET    159\n",
       "LABEL    159\n",
       "dtype: int64"
      ]
     },
     "execution_count": 38,
     "metadata": {},
     "output_type": "execute_result"
    }
   ],
   "source": [
    "data.isna().sum()"
   ]
  },
  {
   "cell_type": "code",
   "execution_count": 39,
   "metadata": {},
   "outputs": [],
   "source": [
    "data.dropna(inplace=True)"
   ]
  },
  {
   "cell_type": "code",
   "execution_count": 40,
   "metadata": {},
   "outputs": [
    {
     "data": {
      "text/plain": [
       "0"
      ]
     },
     "execution_count": 40,
     "metadata": {},
     "output_type": "execute_result"
    }
   ],
   "source": [
    "data.isna().sum().sum()"
   ]
  },
  {
   "cell_type": "code",
   "execution_count": 41,
   "metadata": {},
   "outputs": [
    {
     "data": {
      "text/plain": [
       "150441"
      ]
     },
     "execution_count": 41,
     "metadata": {},
     "output_type": "execute_result"
    }
   ],
   "source": [
    "len(data)"
   ]
  },
  {
   "cell_type": "code",
   "execution_count": 42,
   "metadata": {},
   "outputs": [],
   "source": [
    "drop_emotions = ['none','love','sympathy']\n",
    "data = data[data[\"LABEL\"].isin(drop_emotions) == False]"
   ]
  },
  {
   "cell_type": "code",
   "execution_count": 43,
   "metadata": {},
   "outputs": [
    {
     "data": {
      "text/plain": [
       "119038"
      ]
     },
     "execution_count": 43,
     "metadata": {},
     "output_type": "execute_result"
    }
   ],
   "source": [
    "len(data)"
   ]
  },
  {
   "cell_type": "code",
   "execution_count": 44,
   "metadata": {},
   "outputs": [],
   "source": [
    "def pos_neg_change(emotion):\n",
    "    if emotion == 'joy' or emotion == 'surprise':\n",
    "        return 'pos'\n",
    "    else:\n",
    "        return 'neg'\n",
    "    "
   ]
  },
  {
   "cell_type": "code",
   "execution_count": 45,
   "metadata": {},
   "outputs": [],
   "source": [
    "data['pos_neg'] = 'neg'\n",
    "data['pos_neg'] = data['LABEL'].apply(pos_neg_change)"
   ]
  },
  {
   "cell_type": "code",
   "execution_count": 46,
   "metadata": {},
   "outputs": [
    {
     "data": {
      "text/plain": [
       "array(['neg', 'pos'], dtype=object)"
      ]
     },
     "execution_count": 46,
     "metadata": {},
     "output_type": "execute_result"
    }
   ],
   "source": [
    "data['pos_neg'].unique()"
   ]
  },
  {
   "cell_type": "code",
   "execution_count": 47,
   "metadata": {},
   "outputs": [
    {
     "data": {
      "text/plain": [
       "119038"
      ]
     },
     "execution_count": 47,
     "metadata": {},
     "output_type": "execute_result"
    }
   ],
   "source": [
    "len(data)"
   ]
  },
  {
   "cell_type": "code",
   "execution_count": 48,
   "metadata": {},
   "outputs": [
    {
     "data": {
      "text/plain": [
       "13351"
      ]
     },
     "execution_count": 48,
     "metadata": {},
     "output_type": "execute_result"
    }
   ],
   "source": [
    "data.TWEET.duplicated().sum()"
   ]
  },
  {
   "cell_type": "code",
   "execution_count": 49,
   "metadata": {},
   "outputs": [],
   "source": [
    "data = data.drop_duplicates('TWEET',keep='first')"
   ]
  },
  {
   "cell_type": "code",
   "execution_count": 50,
   "metadata": {},
   "outputs": [],
   "source": [
    "data.to_csv('../../Data/Sentimental_Analysis/main.csv', index=False)"
   ]
  }
 ],
 "metadata": {
  "interpreter": {
   "hash": "369f2c481f4da34e4445cda3fffd2e751bd1c4d706f27375911949ba6bb62e1c"
  },
  "kernelspec": {
   "display_name": "Python 3.10.1 64-bit",
   "language": "python",
   "name": "python3"
  },
  "language_info": {
   "codemirror_mode": {
    "name": "ipython",
    "version": 3
   },
   "file_extension": ".py",
   "mimetype": "text/x-python",
   "name": "python",
   "nbconvert_exporter": "python",
   "pygments_lexer": "ipython3",
   "version": "3.10.1"
  },
  "orig_nbformat": 4
 },
 "nbformat": 4,
 "nbformat_minor": 2
}
