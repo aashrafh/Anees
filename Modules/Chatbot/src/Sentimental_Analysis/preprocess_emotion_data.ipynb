{
 "cells": [
  {
   "cell_type": "code",
   "execution_count": 1,
   "metadata": {},
   "outputs": [],
   "source": [
    "import pandas as pd"
   ]
  },
  {
   "cell_type": "code",
   "execution_count": 2,
   "metadata": {},
   "outputs": [],
   "source": [
    "data = pd.read_csv('../../Data/Sentimental_Analysis/Emotional-Tone-Dataset.csv',encoding='utf-8')\n",
    "data_val = pd.read_csv('../../Data/Sentimental_Analysis/val.csv',encoding='utf-8')\n",
    "data = pd.concat([data,data_val])\n",
    "data_test = pd.read_csv('../../Data/Sentimental_Analysis/test.csv',encoding='utf-8')\n",
    "data = pd.concat([data,data_test])\n",
    "data_train = pd.read_csv('../../Data/Sentimental_Analysis/train.csv',encoding='utf-8')\n",
    "data = pd.concat([data,data_train])\n",
    "data_train_2 = pd.read_csv('../../Data/Sentimental_Analysis/train_arabic_new.csv',encoding='utf-8')\n",
    "data = pd.concat([data,data_train_2])\n",
    "data_train_3 = pd.read_csv('../../Data/Sentimental_Analysis/go_emotions_dataset_preprocessed_translated.csv',encoding='utf-8')\n",
    "data = pd.concat([data,data_train_3])\n",
    "data_train_4 = pd.read_csv('../../Data/Sentimental_Analysis/go_emotions_dataset_surprise_translated.csv',encoding='utf-8')\n",
    "data = pd.concat([data,data_train_4])\n",
    "data_train_5 = pd.read_csv('../../Data/Sentimental_Analysis/tweets_clean.csv',encoding='utf-8')\n",
    "data = pd.concat([data,data_train_5])\n",
    "data_train_6 = pd.read_csv('../../Data/Sentimental_Analysis/text_emotion_arabic.csv',encoding='utf-8')\n",
    "data = pd.concat([data,data_train_6])"
   ]
  },
  {
   "cell_type": "code",
   "execution_count": 3,
   "metadata": {},
   "outputs": [],
   "source": [
    "data['LABEL'] = data[' LABEL']\n",
    "data['TWEET'] = data[' TWEET']\n",
    "data = data.drop([' LABEL','ID',' TWEET'],axis=1)"
   ]
  },
  {
   "cell_type": "code",
   "execution_count": 4,
   "metadata": {},
   "outputs": [
    {
     "data": {
      "text/plain": [
       "1"
      ]
     },
     "execution_count": 4,
     "metadata": {},
     "output_type": "execute_result"
    }
   ],
   "source": [
    "data.isna().sum().sum()"
   ]
  },
  {
   "cell_type": "code",
   "execution_count": 5,
   "metadata": {},
   "outputs": [],
   "source": [
    "data.dropna(inplace=True)"
   ]
  },
  {
   "cell_type": "code",
   "execution_count": 6,
   "metadata": {},
   "outputs": [
    {
     "data": {
      "text/plain": [
       "0"
      ]
     },
     "execution_count": 6,
     "metadata": {},
     "output_type": "execute_result"
    }
   ],
   "source": [
    "data.isna().sum().sum()"
   ]
  },
  {
   "cell_type": "code",
   "execution_count": 7,
   "metadata": {},
   "outputs": [
    {
     "data": {
      "text/plain": [
       "160505"
      ]
     },
     "execution_count": 7,
     "metadata": {},
     "output_type": "execute_result"
    }
   ],
   "source": [
    "len(data)"
   ]
  },
  {
   "cell_type": "code",
   "execution_count": 8,
   "metadata": {},
   "outputs": [],
   "source": [
    "drop_emotions = ['none','love','sympathy']\n",
    "data = data[data[\"LABEL\"].isin(drop_emotions) == False]"
   ]
  },
  {
   "cell_type": "code",
   "execution_count": 9,
   "metadata": {},
   "outputs": [
    {
     "data": {
      "text/plain": [
       "125271"
      ]
     },
     "execution_count": 9,
     "metadata": {},
     "output_type": "execute_result"
    }
   ],
   "source": [
    "len(data)"
   ]
  },
  {
   "cell_type": "code",
   "execution_count": 10,
   "metadata": {},
   "outputs": [],
   "source": [
    "data.to_csv('../../Data/Sentimental_Analysis/main.csv', index=False)"
   ]
  }
 ],
 "metadata": {
  "interpreter": {
   "hash": "369f2c481f4da34e4445cda3fffd2e751bd1c4d706f27375911949ba6bb62e1c"
  },
  "kernelspec": {
   "display_name": "Python 3.10.1 64-bit",
   "language": "python",
   "name": "python3"
  },
  "language_info": {
   "codemirror_mode": {
    "name": "ipython",
    "version": 3
   },
   "file_extension": ".py",
   "mimetype": "text/x-python",
   "name": "python",
   "nbconvert_exporter": "python",
   "pygments_lexer": "ipython3",
   "version": "3.10.1"
  },
  "orig_nbformat": 4
 },
 "nbformat": 4,
 "nbformat_minor": 2
}
