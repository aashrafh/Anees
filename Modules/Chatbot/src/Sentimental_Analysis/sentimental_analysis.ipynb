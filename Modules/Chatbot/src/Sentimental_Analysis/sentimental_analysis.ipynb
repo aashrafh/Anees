{
 "cells": [
  {
   "cell_type": "code",
   "execution_count": 35,
   "metadata": {},
   "outputs": [],
   "source": [
    "import pandas as pd\n",
    "from sklearn.feature_extraction.text import TfidfVectorizer\n",
    "from sklearn.model_selection import train_test_split"
   ]
  },
  {
   "cell_type": "code",
   "execution_count": 36,
   "metadata": {},
   "outputs": [],
   "source": [
    "import sys\n",
    "import os\n",
    "\n",
    "module_path = os.path.abspath(os.path.join('..'))\n",
    "if module_path not in sys.path:\n",
    "    sys.path.append(module_path)\n",
    "\n",
    "import preprocess"
   ]
  },
  {
   "cell_type": "code",
   "execution_count": 37,
   "metadata": {},
   "outputs": [],
   "source": [
    "data = pd.read_csv('../../Data/Sentimental_Analysis/main.csv',encoding='utf-8')"
   ]
  },
  {
   "cell_type": "code",
   "execution_count": 38,
   "metadata": {},
   "outputs": [
    {
     "data": {
      "text/html": [
       "<div>\n",
       "<style scoped>\n",
       "    .dataframe tbody tr th:only-of-type {\n",
       "        vertical-align: middle;\n",
       "    }\n",
       "\n",
       "    .dataframe tbody tr th {\n",
       "        vertical-align: top;\n",
       "    }\n",
       "\n",
       "    .dataframe thead th {\n",
       "        text-align: right;\n",
       "    }\n",
       "</style>\n",
       "<table border=\"1\" class=\"dataframe\">\n",
       "  <thead>\n",
       "    <tr style=\"text-align: right;\">\n",
       "      <th></th>\n",
       "      <th>LABEL</th>\n",
       "      <th>TWEET</th>\n",
       "    </tr>\n",
       "  </thead>\n",
       "  <tbody>\n",
       "    <tr>\n",
       "      <th>0</th>\n",
       "      <td>none</td>\n",
       "      <td>الاوليمبياد الجايه هكون لسه ف الكليه ..</td>\n",
       "    </tr>\n",
       "  </tbody>\n",
       "</table>\n",
       "</div>"
      ],
      "text/plain": [
       "  LABEL                                    TWEET\n",
       "0  none  الاوليمبياد الجايه هكون لسه ف الكليه .."
      ]
     },
     "execution_count": 38,
     "metadata": {},
     "output_type": "execute_result"
    }
   ],
   "source": [
    "data.head(1)"
   ]
  },
  {
   "cell_type": "code",
   "execution_count": 39,
   "metadata": {},
   "outputs": [],
   "source": [
    "# tweet = list(data[(data['LABEL']!='none')&(data['LABEL']!='sympathy')][\"TWEET\"])\n",
    "# label = list(data[(data['LABEL']!='none')&(data['LABEL']!='sympathy')]['LABEL'])\n",
    "tweet = list(data[\"TWEET\"])\n",
    "label = list(data['LABEL'])"
   ]
  },
  {
   "cell_type": "code",
   "execution_count": 40,
   "metadata": {},
   "outputs": [
    {
     "data": {
      "text/plain": [
       "'الاوليمبياد الجايه هكون لسه ف الكليه ..'"
      ]
     },
     "execution_count": 40,
     "metadata": {},
     "output_type": "execute_result"
    }
   ],
   "source": [
    "tweet[0]"
   ]
  },
  {
   "cell_type": "code",
   "execution_count": 41,
   "metadata": {},
   "outputs": [],
   "source": [
    "for i in range(len(tweet)):\n",
    "    tweet[i] = preprocess.pre_process(str(tweet[i]))"
   ]
  },
  {
   "cell_type": "code",
   "execution_count": 42,
   "metadata": {},
   "outputs": [
    {
     "data": {
      "text/plain": [
       "'الاوليمبياد الجايه هكون لسه ف الكليه   '"
      ]
     },
     "execution_count": 42,
     "metadata": {},
     "output_type": "execute_result"
    }
   ],
   "source": [
    "tweet[0]"
   ]
  },
  {
   "cell_type": "code",
   "execution_count": 43,
   "metadata": {},
   "outputs": [
    {
     "data": {
      "text/plain": [
       "'عجز الموازنه وصل ل93 7   من الناتج المحلي يعني لسه اقل من 7   و نفلس و بهايم لسه يتابعوا الاوليمبياد'"
      ]
     },
     "execution_count": 43,
     "metadata": {},
     "output_type": "execute_result"
    }
   ],
   "source": [
    "tweet[1]"
   ]
  },
  {
   "cell_type": "code",
   "execution_count": 44,
   "metadata": {},
   "outputs": [
    {
     "data": {
      "text/plain": [
       "'هذا راءع     تهانينا '"
      ]
     },
     "execution_count": 44,
     "metadata": {},
     "output_type": "execute_result"
    }
   ],
   "source": [
    "tweet[-1]"
   ]
  },
  {
   "cell_type": "code",
   "execution_count": 45,
   "metadata": {},
   "outputs": [],
   "source": [
    "vectorizer = TfidfVectorizer ()\n",
    "tweet = vectorizer.fit_transform(tweet)"
   ]
  },
  {
   "cell_type": "code",
   "execution_count": 46,
   "metadata": {},
   "outputs": [],
   "source": [
    "X_train, X_test, y_train, y_test = train_test_split(tweet, label, test_size=0.2, random_state=0)"
   ]
  },
  {
   "cell_type": "code",
   "execution_count": 47,
   "metadata": {},
   "outputs": [
    {
     "data": {
      "text/plain": [
       "RandomForestClassifier(n_jobs=2, random_state=0)"
      ]
     },
     "execution_count": 47,
     "metadata": {},
     "output_type": "execute_result"
    }
   ],
   "source": [
    "from sklearn.ensemble import RandomForestClassifier\n",
    "text_classifier = RandomForestClassifier(n_jobs=2, random_state=0)\n",
    "text_classifier.fit(X_train, y_train)"
   ]
  },
  {
   "cell_type": "code",
   "execution_count": 48,
   "metadata": {},
   "outputs": [],
   "source": [
    "predictions = text_classifier.predict(X_test)"
   ]
  },
  {
   "cell_type": "code",
   "execution_count": 49,
   "metadata": {},
   "outputs": [
    {
     "name": "stdout",
     "output_type": "stream",
     "text": [
      "[[ 368   25  110   14   38 1197   37   33]\n",
      " [  37  671   96   19   33 1213   43   17]\n",
      " [  30   18 1127   89  150 1397  191  105]\n",
      " [  15   20  231  428   26 1410   90   69]\n",
      " [   7   24  123   34  570  817  142   71]\n",
      " [  94   83  269   72  144 5458  126   84]\n",
      " [  16   35  175   78  142 1239  524   97]\n",
      " [  18   16  143   97   60 1094  124  398]]\n",
      "              precision    recall  f1-score   support\n",
      "\n",
      "       anger       0.63      0.20      0.31      1822\n",
      "        fear       0.75      0.32      0.44      2129\n",
      "         joy       0.50      0.36      0.42      3107\n",
      "        love       0.52      0.19      0.27      2289\n",
      "        none       0.49      0.32      0.39      1788\n",
      "     sadness       0.39      0.86      0.54      6330\n",
      "    surprise       0.41      0.23      0.29      2306\n",
      "    sympathy       0.46      0.20      0.28      1950\n",
      "\n",
      "    accuracy                           0.44     21721\n",
      "   macro avg       0.52      0.33      0.37     21721\n",
      "weighted avg       0.49      0.44      0.40     21721\n",
      "\n",
      "0.43939045163666496\n"
     ]
    }
   ],
   "source": [
    "from sklearn.metrics import classification_report, confusion_matrix, accuracy_score\n",
    "print(confusion_matrix(y_test,predictions))\n",
    "print(classification_report(y_test,predictions))\n",
    "print(accuracy_score(y_test, predictions))"
   ]
  },
  {
   "cell_type": "code",
   "execution_count": 50,
   "metadata": {},
   "outputs": [
    {
     "data": {
      "text/plain": [
       "RandomForestClassifier(n_jobs=2, random_state=0)"
      ]
     },
     "execution_count": 50,
     "metadata": {},
     "output_type": "execute_result"
    }
   ],
   "source": [
    "text_classifier.fit(tweet, label)"
   ]
  },
  {
   "cell_type": "code",
   "execution_count": 51,
   "metadata": {},
   "outputs": [
    {
     "name": "stdout",
     "output_type": "stream",
     "text": [
      "[[1790    6    1    4    1   19    1    0]\n",
      " [   2 2094    0    4    5   19    5    0]\n",
      " [   2    1 3060    6    6   12   12    8]\n",
      " [   1    0    7 2232    1   41    4    3]\n",
      " [   0    1    6    9 1748   19    5    0]\n",
      " [   3    6    7    8   10 6282    9    5]\n",
      " [   3    6    9    5   10   17 2244   12]\n",
      " [   3    0    5    4    1   22    5 1910]]\n",
      "              precision    recall  f1-score   support\n",
      "\n",
      "       anger       0.99      0.98      0.99      1822\n",
      "        fear       0.99      0.98      0.99      2129\n",
      "         joy       0.99      0.98      0.99      3107\n",
      "        love       0.98      0.98      0.98      2289\n",
      "        none       0.98      0.98      0.98      1788\n",
      "     sadness       0.98      0.99      0.98      6330\n",
      "    surprise       0.98      0.97      0.98      2306\n",
      "    sympathy       0.99      0.98      0.98      1950\n",
      "\n",
      "    accuracy                           0.98     21721\n",
      "   macro avg       0.98      0.98      0.98     21721\n",
      "weighted avg       0.98      0.98      0.98     21721\n",
      "\n",
      "0.983380139035956\n"
     ]
    }
   ],
   "source": [
    "predictions = text_classifier.predict(X_test)\n",
    "print(confusion_matrix(y_test,predictions))\n",
    "print(classification_report(y_test,predictions))\n",
    "print(accuracy_score(y_test, predictions))"
   ]
  },
  {
   "cell_type": "code",
   "execution_count": 71,
   "metadata": {},
   "outputs": [
    {
     "name": "stdout",
     "output_type": "stream",
     "text": [
      "\n",
      "['sadness']\n"
     ]
    }
   ],
   "source": [
    "text = input()\n",
    "text = preprocess.pre_process(text)\n",
    "print(text)\n",
    "tweet = vectorizer.transform([text]).toarray()\n",
    "prediction = text_classifier.predict(tweet)\n",
    "print(prediction)"
   ]
  },
  {
   "cell_type": "code",
   "execution_count": 54,
   "metadata": {},
   "outputs": [],
   "source": [
    "import pickle\n",
    "filename = f'../../utils/sentmental_model.sav'\n",
    "pickle.dump(text_classifier, open(filename, 'wb'))\n",
    "filename = f'../../utils/tfidf_model.sav'\n",
    "pickle.dump(vectorizer, open(filename, 'wb'))"
   ]
  }
 ],
 "metadata": {
  "interpreter": {
   "hash": "369f2c481f4da34e4445cda3fffd2e751bd1c4d706f27375911949ba6bb62e1c"
  },
  "kernelspec": {
   "display_name": "Python 3.10.1 64-bit",
   "language": "python",
   "name": "python3"
  },
  "language_info": {
   "codemirror_mode": {
    "name": "ipython",
    "version": 3
   },
   "file_extension": ".py",
   "mimetype": "text/x-python",
   "name": "python",
   "nbconvert_exporter": "python",
   "pygments_lexer": "ipython3",
   "version": "3.10.1"
  },
  "orig_nbformat": 4
 },
 "nbformat": 4,
 "nbformat_minor": 2
}
