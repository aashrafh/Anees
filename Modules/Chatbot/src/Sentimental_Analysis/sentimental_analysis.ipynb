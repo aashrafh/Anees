{
 "cells": [
  {
   "cell_type": "code",
   "execution_count": 1,
   "metadata": {},
   "outputs": [],
   "source": [
    "import pandas as pd\n",
    "from sklearn.feature_extraction.text import TfidfVectorizer\n",
    "from sklearn.model_selection import train_test_split"
   ]
  },
  {
   "cell_type": "code",
   "execution_count": 2,
   "metadata": {},
   "outputs": [],
   "source": [
    "import sys\n",
    "import os\n",
    "\n",
    "module_path = os.path.abspath(os.path.join('..'))\n",
    "if module_path not in sys.path:\n",
    "    sys.path.append(module_path)\n",
    "\n",
    "import preprocess"
   ]
  },
  {
   "cell_type": "code",
   "execution_count": 3,
   "metadata": {},
   "outputs": [],
   "source": [
    "data = pd.read_csv('../../Data/Sentimental_Analysis/main.csv',encoding='utf-8')"
   ]
  },
  {
   "cell_type": "code",
   "execution_count": 4,
   "metadata": {},
   "outputs": [
    {
     "data": {
      "text/html": [
       "<div>\n",
       "<style scoped>\n",
       "    .dataframe tbody tr th:only-of-type {\n",
       "        vertical-align: middle;\n",
       "    }\n",
       "\n",
       "    .dataframe tbody tr th {\n",
       "        vertical-align: top;\n",
       "    }\n",
       "\n",
       "    .dataframe thead th {\n",
       "        text-align: right;\n",
       "    }\n",
       "</style>\n",
       "<table border=\"1\" class=\"dataframe\">\n",
       "  <thead>\n",
       "    <tr style=\"text-align: right;\">\n",
       "      <th></th>\n",
       "      <th>LABEL</th>\n",
       "      <th>TWEET</th>\n",
       "    </tr>\n",
       "  </thead>\n",
       "  <tbody>\n",
       "    <tr>\n",
       "      <th>0</th>\n",
       "      <td>anger</td>\n",
       "      <td>عجز الموازنه وصل ل93.7 % من الناتج المحلي يعني...</td>\n",
       "    </tr>\n",
       "  </tbody>\n",
       "</table>\n",
       "</div>"
      ],
      "text/plain": [
       "   LABEL                                              TWEET\n",
       "0  anger  عجز الموازنه وصل ل93.7 % من الناتج المحلي يعني..."
      ]
     },
     "execution_count": 4,
     "metadata": {},
     "output_type": "execute_result"
    }
   ],
   "source": [
    "data.head(1)"
   ]
  },
  {
   "cell_type": "code",
   "execution_count": 5,
   "metadata": {},
   "outputs": [],
   "source": [
    "tweet = list(data[\"TWEET\"])\n",
    "label = list(data['LABEL'])"
   ]
  },
  {
   "cell_type": "code",
   "execution_count": 6,
   "metadata": {},
   "outputs": [],
   "source": [
    "file = open(\"../../Data/stopwords.txt\",\"r\",encoding=\"utf-8\")\n",
    "stopwords = file.read().split()\n",
    "file.close()\n",
    "def get_tokens(text):\n",
    "    dictionary = {'د':\"دكتور\"}#to be continued\n",
    "    words_after_split = text.split()\n",
    "    for index , word in enumerate(words_after_split):\n",
    "        if word in dictionary.keys():\n",
    "            w = dictionary[word]\n",
    "            words_after_split[index] = w\n",
    "    new_words = list()\n",
    "    for word in words_after_split:\n",
    "        if word not in stopwords:\n",
    "            new_words.append(word)\n",
    "    return new_words"
   ]
  },
  {
   "cell_type": "code",
   "execution_count": 7,
   "metadata": {},
   "outputs": [],
   "source": [
    "import numpy as np\n",
    "import verb_extraction\n",
    "import stemming\n",
    "for i in range(len(tweet)):\n",
    "    tweet[i] = preprocess.pre_process(str(tweet[i]))\n",
    "    tokens = get_tokens(tweet[i])\n",
    "    tokens_verb_noun = verb_extraction.extract_stem_verb(tokens,{})\n",
    "    tokens_verb_noun = np.array(stemming.stem(tokens_verb_noun))\n",
    "    listToStr = ' '.join([str(elem) for elem,_ in tokens_verb_noun])\n",
    "    tweet[i] = listToStr"
   ]
  },
  {
   "cell_type": "code",
   "execution_count": 8,
   "metadata": {},
   "outputs": [],
   "source": [
    "vectorizer = TfidfVectorizer (encoding='utf-8',max_df=0.6)\n",
    "tweet = vectorizer.fit_transform(tweet)"
   ]
  },
  {
   "cell_type": "code",
   "execution_count": 9,
   "metadata": {},
   "outputs": [],
   "source": [
    "X_train, X_test, y_train, y_test = train_test_split(tweet, label, test_size=0.1, random_state=0)"
   ]
  },
  {
   "cell_type": "code",
   "execution_count": 10,
   "metadata": {},
   "outputs": [
    {
     "data": {
      "text/plain": [
       "LinearSVC(max_iter=10000, random_state=0)"
      ]
     },
     "execution_count": 10,
     "metadata": {},
     "output_type": "execute_result"
    }
   ],
   "source": [
    "from sklearn.ensemble import RandomForestClassifier\n",
    "from sklearn.svm import LinearSVC\n",
    "#text_classifier = RandomForestClassifier(n_jobs=2, random_state=0)\n",
    "text_classifier = LinearSVC(max_iter=10000,random_state=0)\n",
    "text_classifier.fit(X_train, y_train)"
   ]
  },
  {
   "cell_type": "code",
   "execution_count": 11,
   "metadata": {},
   "outputs": [],
   "source": [
    "predictions = text_classifier.predict(X_test)"
   ]
  },
  {
   "cell_type": "code",
   "execution_count": 12,
   "metadata": {},
   "outputs": [
    {
     "name": "stdout",
     "output_type": "stream",
     "text": [
      "[[1068  117  275  358  171]\n",
      " [ 131  865  257  188  160]\n",
      " [ 176  107 2550  360  478]\n",
      " [ 260  146  585 1712  242]\n",
      " [ 172  118  719  251 1062]]\n",
      "              precision    recall  f1-score   support\n",
      "\n",
      "       anger       0.59      0.54      0.56      1989\n",
      "        fear       0.64      0.54      0.59      1601\n",
      "         joy       0.58      0.69      0.63      3671\n",
      "     sadness       0.60      0.58      0.59      2945\n",
      "    surprise       0.50      0.46      0.48      2322\n",
      "\n",
      "    accuracy                           0.58     12528\n",
      "   macro avg       0.58      0.56      0.57     12528\n",
      "weighted avg       0.58      0.58      0.58     12528\n",
      "\n",
      "0.5792624521072797\n"
     ]
    }
   ],
   "source": [
    "from sklearn.metrics import classification_report, confusion_matrix, accuracy_score\n",
    "print(confusion_matrix(y_test,predictions))\n",
    "print(classification_report(y_test,predictions))\n",
    "print(accuracy_score(y_test, predictions))"
   ]
  },
  {
   "cell_type": "code",
   "execution_count": 13,
   "metadata": {},
   "outputs": [
    {
     "data": {
      "text/plain": [
       "LinearSVC(max_iter=10000, random_state=0)"
      ]
     },
     "execution_count": 13,
     "metadata": {},
     "output_type": "execute_result"
    }
   ],
   "source": [
    "text_classifier.fit(tweet, label)"
   ]
  },
  {
   "cell_type": "code",
   "execution_count": 14,
   "metadata": {},
   "outputs": [
    {
     "name": "stdout",
     "output_type": "stream",
     "text": [
      "[[1606   55   99  162   67]\n",
      " [  62 1252  117   96   74]\n",
      " [  68   40 3226  146  191]\n",
      " [ 110   58  229 2447  101]\n",
      " [  69   48  316   92 1797]]\n",
      "              precision    recall  f1-score   support\n",
      "\n",
      "       anger       0.84      0.81      0.82      1989\n",
      "        fear       0.86      0.78      0.82      1601\n",
      "         joy       0.81      0.88      0.84      3671\n",
      "     sadness       0.83      0.83      0.83      2945\n",
      "    surprise       0.81      0.77      0.79      2322\n",
      "\n",
      "    accuracy                           0.82     12528\n",
      "   macro avg       0.83      0.81      0.82     12528\n",
      "weighted avg       0.83      0.82      0.82     12528\n",
      "\n",
      "0.8243933588761175\n"
     ]
    }
   ],
   "source": [
    "predictions = text_classifier.predict(X_test)\n",
    "print(confusion_matrix(y_test,predictions))\n",
    "print(classification_report(y_test,predictions))\n",
    "print(accuracy_score(y_test, predictions))"
   ]
  },
  {
   "cell_type": "code",
   "execution_count": 20,
   "metadata": {},
   "outputs": [
    {
     "name": "stdout",
     "output_type": "stream",
     "text": [
      "['joy' 'anger' 'sadness' 'joy']\n"
     ]
    }
   ],
   "source": [
    "text_list = [\"انا استمتعت جدا باليوم\",\"انا اكرهك\",\"انا اريد ان انتحر\",\"انا سعيد\"]\n",
    "for index in range(len(text_list)):\n",
    "    text_list[index] = preprocess.pre_process(text_list[index])\n",
    "    tokens = get_tokens(text_list[index])\n",
    "    tokens_verb_noun = verb_extraction.extract_stem_verb(tokens,{})\n",
    "    tokens_verb_noun = np.array(stemming.stem(tokens_verb_noun))\n",
    "    text_list[index] = ' '.join([str(elem) for elem,_ in tokens_verb_noun])\n",
    "tweet = vectorizer.transform(text_list)\n",
    "prediction = text_classifier.predict(tweet)\n",
    "print(prediction)"
   ]
  },
  {
   "cell_type": "code",
   "execution_count": 16,
   "metadata": {},
   "outputs": [],
   "source": [
    "import pickle\n",
    "filename = f'../../utils/sentmental_model.sav'\n",
    "pickle.dump(text_classifier, open(filename, 'wb'))\n",
    "filename = f'../../utils/tfidf_model.sav'\n",
    "pickle.dump(vectorizer, open(filename, 'wb'))"
   ]
  }
 ],
 "metadata": {
  "interpreter": {
   "hash": "369f2c481f4da34e4445cda3fffd2e751bd1c4d706f27375911949ba6bb62e1c"
  },
  "kernelspec": {
   "display_name": "Python 3.10.1 64-bit",
   "language": "python",
   "name": "python3"
  },
  "language_info": {
   "codemirror_mode": {
    "name": "ipython",
    "version": 3
   },
   "file_extension": ".py",
   "mimetype": "text/x-python",
   "name": "python",
   "nbconvert_exporter": "python",
   "pygments_lexer": "ipython3",
   "version": "3.10.1"
  },
  "orig_nbformat": 4
 },
 "nbformat": 4,
 "nbformat_minor": 2
}
