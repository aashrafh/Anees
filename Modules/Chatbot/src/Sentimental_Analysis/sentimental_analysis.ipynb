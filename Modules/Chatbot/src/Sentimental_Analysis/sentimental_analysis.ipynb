{
 "cells": [
  {
   "cell_type": "code",
   "execution_count": 1,
   "metadata": {},
   "outputs": [],
   "source": [
    "import pandas as pd\n",
    "from sklearn.feature_extraction.text import TfidfVectorizer\n",
    "from sklearn.model_selection import train_test_split"
   ]
  },
  {
   "cell_type": "code",
   "execution_count": 2,
   "metadata": {},
   "outputs": [],
   "source": [
    "import sys\n",
    "import os\n",
    "\n",
    "module_path = os.path.abspath(os.path.join('..'))\n",
    "if module_path not in sys.path:\n",
    "    sys.path.append(module_path)\n",
    "\n",
    "import preprocess"
   ]
  },
  {
   "cell_type": "code",
   "execution_count": 3,
   "metadata": {},
   "outputs": [],
   "source": [
    "data = pd.read_csv('../../Data/Sentimental_Analysis/main.csv',encoding='utf-8')"
   ]
  },
  {
   "cell_type": "code",
   "execution_count": 4,
   "metadata": {},
   "outputs": [
    {
     "data": {
      "text/html": [
       "<div>\n",
       "<style scoped>\n",
       "    .dataframe tbody tr th:only-of-type {\n",
       "        vertical-align: middle;\n",
       "    }\n",
       "\n",
       "    .dataframe tbody tr th {\n",
       "        vertical-align: top;\n",
       "    }\n",
       "\n",
       "    .dataframe thead th {\n",
       "        text-align: right;\n",
       "    }\n",
       "</style>\n",
       "<table border=\"1\" class=\"dataframe\">\n",
       "  <thead>\n",
       "    <tr style=\"text-align: right;\">\n",
       "      <th></th>\n",
       "      <th>LABEL</th>\n",
       "      <th>TWEET</th>\n",
       "    </tr>\n",
       "  </thead>\n",
       "  <tbody>\n",
       "    <tr>\n",
       "      <th>0</th>\n",
       "      <td>none</td>\n",
       "      <td>الاوليمبياد الجايه هكون لسه ف الكليه ..</td>\n",
       "    </tr>\n",
       "  </tbody>\n",
       "</table>\n",
       "</div>"
      ],
      "text/plain": [
       "  LABEL                                    TWEET\n",
       "0  none  الاوليمبياد الجايه هكون لسه ف الكليه .."
      ]
     },
     "execution_count": 4,
     "metadata": {},
     "output_type": "execute_result"
    }
   ],
   "source": [
    "data.head(1)"
   ]
  },
  {
   "cell_type": "code",
   "execution_count": 5,
   "metadata": {},
   "outputs": [],
   "source": [
    "# tweet = list(data[(data['LABEL']!='none')&(data['LABEL']!='sympathy')][\"TWEET\"])\n",
    "# label = list(data[(data['LABEL']!='none')&(data['LABEL']!='sympathy')]['LABEL'])\n",
    "tweet = list(data[\"TWEET\"])\n",
    "label = list(data['LABEL'])"
   ]
  },
  {
   "cell_type": "code",
   "execution_count": 6,
   "metadata": {},
   "outputs": [
    {
     "data": {
      "text/plain": [
       "'الاوليمبياد الجايه هكون لسه ف الكليه ..'"
      ]
     },
     "execution_count": 6,
     "metadata": {},
     "output_type": "execute_result"
    }
   ],
   "source": [
    "tweet[0]"
   ]
  },
  {
   "cell_type": "code",
   "execution_count": 7,
   "metadata": {},
   "outputs": [],
   "source": [
    "for i in range(len(tweet)):\n",
    "    tweet[i] = preprocess.pre_process(str(tweet[i]))"
   ]
  },
  {
   "cell_type": "code",
   "execution_count": 8,
   "metadata": {},
   "outputs": [
    {
     "data": {
      "text/plain": [
       "'الاوليمبياد الجايه هكون لسه ف الكليه   '"
      ]
     },
     "execution_count": 8,
     "metadata": {},
     "output_type": "execute_result"
    }
   ],
   "source": [
    "tweet[0]"
   ]
  },
  {
   "cell_type": "code",
   "execution_count": 9,
   "metadata": {},
   "outputs": [
    {
     "data": {
      "text/plain": [
       "'عجز الموازنه وصل ل93 7   من الناتج المحلي يعني لسه اقل من 7   و نفلس و بهايم لسه يتابعوا الاوليمبياد'"
      ]
     },
     "execution_count": 9,
     "metadata": {},
     "output_type": "execute_result"
    }
   ],
   "source": [
    "tweet[1]"
   ]
  },
  {
   "cell_type": "code",
   "execution_count": 10,
   "metadata": {},
   "outputs": [
    {
     "data": {
      "text/plain": [
       "'اعرف الكثير لكني اشعر بالغباء الشديد لانني لا استطيع تصوير ذلك'"
      ]
     },
     "execution_count": 10,
     "metadata": {},
     "output_type": "execute_result"
    }
   ],
   "source": [
    "tweet[-1]"
   ]
  },
  {
   "cell_type": "code",
   "execution_count": 11,
   "metadata": {},
   "outputs": [],
   "source": [
    "vectorizer = TfidfVectorizer ()\n",
    "tweet = vectorizer.fit_transform(tweet)"
   ]
  },
  {
   "cell_type": "code",
   "execution_count": 12,
   "metadata": {},
   "outputs": [],
   "source": [
    "X_train, X_test, y_train, y_test = train_test_split(tweet, label, test_size=0.2, random_state=0)"
   ]
  },
  {
   "cell_type": "code",
   "execution_count": 13,
   "metadata": {},
   "outputs": [
    {
     "data": {
      "text/plain": [
       "RandomForestClassifier(n_estimators=200, random_state=0)"
      ]
     },
     "execution_count": 13,
     "metadata": {},
     "output_type": "execute_result"
    }
   ],
   "source": [
    "from sklearn.ensemble import RandomForestClassifier\n",
    "text_classifier = RandomForestClassifier(n_estimators=200, random_state=0)\n",
    "text_classifier.fit(X_train, y_train)"
   ]
  },
  {
   "cell_type": "code",
   "execution_count": 14,
   "metadata": {},
   "outputs": [],
   "source": [
    "predictions = text_classifier.predict(X_test)"
   ]
  },
  {
   "cell_type": "code",
   "execution_count": 15,
   "metadata": {},
   "outputs": [
    {
     "name": "stdout",
     "output_type": "stream",
     "text": [
      "[[ 336   16  279    1   30  115   14    7]\n",
      " [  34  405  150    2    5   96    4    3]\n",
      " [  27    8 1373   25   51  107   18    7]\n",
      " [  15    2  308  173    0   68    3    7]\n",
      " [   2    0    8    0  315    1    2    0]\n",
      " [  60   25  407   15   58  836   14    5]\n",
      " [  20   17  126    2   49   42   97    0]\n",
      " [   5    2   30    5    0    8    3  170]]\n",
      "              precision    recall  f1-score   support\n",
      "\n",
      "       anger       0.67      0.42      0.52       798\n",
      "        fear       0.85      0.58      0.69       699\n",
      "         joy       0.51      0.85      0.64      1616\n",
      "        love       0.78      0.30      0.43       576\n",
      "        none       0.62      0.96      0.75       328\n",
      "     sadness       0.66      0.59      0.62      1420\n",
      "    surprise       0.63      0.27      0.38       353\n",
      "    sympathy       0.85      0.76      0.81       223\n",
      "\n",
      "    accuracy                           0.62      6013\n",
      "   macro avg       0.70      0.59      0.61      6013\n",
      "weighted avg       0.66      0.62      0.60      6013\n",
      "\n",
      "0.6161649758855813\n"
     ]
    }
   ],
   "source": [
    "from sklearn.metrics import classification_report, confusion_matrix, accuracy_score\n",
    "print(confusion_matrix(y_test,predictions))\n",
    "print(classification_report(y_test,predictions))\n",
    "print(accuracy_score(y_test, predictions))"
   ]
  },
  {
   "cell_type": "code",
   "execution_count": 16,
   "metadata": {},
   "outputs": [
    {
     "data": {
      "text/plain": [
       "RandomForestClassifier(n_estimators=200, random_state=0)"
      ]
     },
     "execution_count": 16,
     "metadata": {},
     "output_type": "execute_result"
    }
   ],
   "source": [
    "text_classifier.fit(tweet, label)"
   ]
  },
  {
   "cell_type": "code",
   "execution_count": 17,
   "metadata": {},
   "outputs": [
    {
     "name": "stdout",
     "output_type": "stream",
     "text": [
      "[[ 796    1    0    0    0    1    0    0]\n",
      " [   0  697    0    0    0    1    1    0]\n",
      " [   1    0 1614    0    0    0    1    0]\n",
      " [   0    0    6  570    0    0    0    0]\n",
      " [   0    0    0    0  328    0    0    0]\n",
      " [   0    1    0    0    1 1418    0    0]\n",
      " [   0    3    0    0    0    1  349    0]\n",
      " [   0    0    0    1    0    0    0  222]]\n",
      "              precision    recall  f1-score   support\n",
      "\n",
      "       anger       1.00      1.00      1.00       798\n",
      "        fear       0.99      1.00      1.00       699\n",
      "         joy       1.00      1.00      1.00      1616\n",
      "        love       1.00      0.99      0.99       576\n",
      "        none       1.00      1.00      1.00       328\n",
      "     sadness       1.00      1.00      1.00      1420\n",
      "    surprise       0.99      0.99      0.99       353\n",
      "    sympathy       1.00      1.00      1.00       223\n",
      "\n",
      "    accuracy                           1.00      6013\n",
      "   macro avg       1.00      1.00      1.00      6013\n",
      "weighted avg       1.00      1.00      1.00      6013\n",
      "\n",
      "0.9968401796108431\n"
     ]
    }
   ],
   "source": [
    "predictions = text_classifier.predict(X_test)\n",
    "print(confusion_matrix(y_test,predictions))\n",
    "print(classification_report(y_test,predictions))\n",
    "print(accuracy_score(y_test, predictions))"
   ]
  },
  {
   "cell_type": "code",
   "execution_count": 18,
   "metadata": {},
   "outputs": [
    {
     "name": "stdout",
     "output_type": "stream",
     "text": [
      "حزين\n",
      "['sadness']\n"
     ]
    }
   ],
   "source": [
    "text = input()\n",
    "text = preprocess.pre_process(text)\n",
    "print(text)\n",
    "tweet = vectorizer.transform([text]).toarray()\n",
    "prediction = text_classifier.predict(tweet)\n",
    "print(prediction)"
   ]
  },
  {
   "cell_type": "code",
   "execution_count": 19,
   "metadata": {},
   "outputs": [],
   "source": [
    "import pickle\n",
    "filename = f'../../utils/sentmental_model.sav'\n",
    "pickle.dump(text_classifier, open(filename, 'wb'))\n",
    "filename = f'../../utils/tfidf_model.sav'\n",
    "pickle.dump(vectorizer, open(filename, 'wb'))"
   ]
  }
 ],
 "metadata": {
  "interpreter": {
   "hash": "369f2c481f4da34e4445cda3fffd2e751bd1c4d706f27375911949ba6bb62e1c"
  },
  "kernelspec": {
   "display_name": "Python 3.10.1 64-bit",
   "language": "python",
   "name": "python3"
  },
  "language_info": {
   "codemirror_mode": {
    "name": "ipython",
    "version": 3
   },
   "file_extension": ".py",
   "mimetype": "text/x-python",
   "name": "python",
   "nbconvert_exporter": "python",
   "pygments_lexer": "ipython3",
   "version": "3.10.1"
  },
  "orig_nbformat": 4
 },
 "nbformat": 4,
 "nbformat_minor": 2
}
