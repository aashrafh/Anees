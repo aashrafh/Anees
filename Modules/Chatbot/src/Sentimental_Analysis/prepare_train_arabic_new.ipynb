{
 "cells": [
  {
   "cell_type": "code",
   "execution_count": 10,
   "metadata": {},
   "outputs": [],
   "source": [
    "import pandas as pd"
   ]
  },
  {
   "cell_type": "code",
   "execution_count": 11,
   "metadata": {},
   "outputs": [],
   "source": [
    "col_list = [\"translated_utterance\", \"context\"]\n",
    "data = pd.read_csv(\"../../Data/Sentimental_Analysis/train_arabic_new.txt\",encoding='utf-16-le',sep='\\t',usecols=col_list)"
   ]
  },
  {
   "cell_type": "code",
   "execution_count": 12,
   "metadata": {},
   "outputs": [
    {
     "data": {
      "text/plain": [
       "'sentimental'"
      ]
     },
     "execution_count": 12,
     "metadata": {},
     "output_type": "execute_result"
    }
   ],
   "source": [
    "data[\"context\"][0]"
   ]
  },
  {
   "cell_type": "code",
   "execution_count": 13,
   "metadata": {},
   "outputs": [
    {
     "data": {
      "text/plain": [
       "context                 2133\n",
       "translated_utterance    4297\n",
       "dtype: int64"
      ]
     },
     "execution_count": 13,
     "metadata": {},
     "output_type": "execute_result"
    }
   ],
   "source": [
    "data.isna().sum()"
   ]
  },
  {
   "cell_type": "code",
   "execution_count": 14,
   "metadata": {},
   "outputs": [],
   "source": [
    "data.dropna(inplace=True)"
   ]
  },
  {
   "cell_type": "code",
   "execution_count": 15,
   "metadata": {},
   "outputs": [
    {
     "data": {
      "text/plain": [
       "context                 0\n",
       "translated_utterance    0\n",
       "dtype: int64"
      ]
     },
     "execution_count": 15,
     "metadata": {},
     "output_type": "execute_result"
    }
   ],
   "source": [
    "data.isna().sum()"
   ]
  },
  {
   "cell_type": "code",
   "execution_count": 16,
   "metadata": {},
   "outputs": [
    {
     "data": {
      "text/plain": [
       "array(['sentimental', 'afraid', 'proud', 'faithful', 'terrified',\n",
       "       'joyful', 'angry', 'sad', 'jealous', 'grateful', 'prepared',\n",
       "       'embarrassed', 'excited', 'annoyed', 'lonely', 'ashamed', 'guilty',\n",
       "       'surprised', 'nostalgic', 'confident', 'furious', 'disappointed',\n",
       "       'caring', 'trusting', 'disgusted', 'anticipating', 'anxious',\n",
       "       'hopeful', 'content', 'impressed', 'apprehensive', 'devastated'],\n",
       "      dtype=object)"
      ]
     },
     "execution_count": 16,
     "metadata": {},
     "output_type": "execute_result"
    }
   ],
   "source": [
    "data[\"context\"].unique()"
   ]
  },
  {
   "cell_type": "code",
   "execution_count": 18,
   "metadata": {},
   "outputs": [
    {
     "data": {
      "text/plain": [
       "32"
      ]
     },
     "execution_count": 18,
     "metadata": {},
     "output_type": "execute_result"
    }
   ],
   "source": [
    "data[\"context\"].nunique()"
   ]
  },
  {
   "cell_type": "code",
   "execution_count": 19,
   "metadata": {},
   "outputs": [],
   "source": [
    "# Define the positive and negative sentiments from the available sentiments.\n",
    "def change_context(cont):\n",
    "    anger = ['angry','furious']\n",
    "    fear = ['afraid','terrified','apprehensive']\n",
    "    joy = ['joyful','grateful','hopeful']\n",
    "    love = ['caring','jealous','nostalgic','trusting']\n",
    "    none = ['prepared','confident','anticipating']\n",
    "    sadness = ['sad','embarrassed','ashamed','guilty','lonely','anxious','annoyed','disappointed','disgusted','devastated']\n",
    "    surprise = ['impressed','excited','surprised']\n",
    "    sympathy = ['sentimental','proud','faithful','content']\n",
    "    if(cont in anger):\n",
    "        return 'anger'\n",
    "    elif(cont in fear):\n",
    "        return 'fear'\n",
    "    elif(cont in joy):\n",
    "        return 'joy'\n",
    "    elif(cont in love):\n",
    "        return 'love'\n",
    "    elif(cont in none):\n",
    "        return 'none'\n",
    "    elif(cont in sadness):\n",
    "        return 'sadness'\n",
    "    elif(cont in surprise):\n",
    "        return 'surprise'\n",
    "    elif(cont in sympathy):\n",
    "        return 'sympathy'"
   ]
  },
  {
   "cell_type": "code",
   "execution_count": 20,
   "metadata": {},
   "outputs": [],
   "source": [
    "data['context']=data['context'].apply(change_context)"
   ]
  },
  {
   "cell_type": "code",
   "execution_count": 21,
   "metadata": {},
   "outputs": [
    {
     "data": {
      "text/plain": [
       "array(['sympathy', 'fear', 'joy', 'anger', 'sadness', 'love', 'none',\n",
       "       'surprise'], dtype=object)"
      ]
     },
     "execution_count": 21,
     "metadata": {},
     "output_type": "execute_result"
    }
   ],
   "source": [
    "data[\"context\"].unique()"
   ]
  },
  {
   "cell_type": "code",
   "execution_count": null,
   "metadata": {},
   "outputs": [],
   "source": [
    "output = pd.DataFrame({' TWEET': data[\"translated_utterance\"],' LABEL': data[\"context\"]})\n",
    "output.to_csv('../../Data/Sentimental_Analysis/train_arabic_new.csv', index=False)"
   ]
  }
 ],
 "metadata": {
  "interpreter": {
   "hash": "369f2c481f4da34e4445cda3fffd2e751bd1c4d706f27375911949ba6bb62e1c"
  },
  "kernelspec": {
   "display_name": "Python 3.10.1 64-bit",
   "language": "python",
   "name": "python3"
  },
  "language_info": {
   "codemirror_mode": {
    "name": "ipython",
    "version": 3
   },
   "file_extension": ".py",
   "mimetype": "text/x-python",
   "name": "python",
   "nbconvert_exporter": "python",
   "pygments_lexer": "ipython3",
   "version": "3.10.1"
  },
  "orig_nbformat": 4
 },
 "nbformat": 4,
 "nbformat_minor": 2
}
