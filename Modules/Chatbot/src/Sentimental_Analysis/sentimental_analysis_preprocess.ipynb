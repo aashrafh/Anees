{
 "cells": [
  {
   "cell_type": "code",
   "execution_count": 1,
   "metadata": {},
   "outputs": [],
   "source": [
    "import pandas as pd\n",
    "from sklearn.feature_extraction.text import TfidfVectorizer\n",
    "from sklearn.model_selection import train_test_split"
   ]
  },
  {
   "cell_type": "code",
   "execution_count": 2,
   "metadata": {},
   "outputs": [],
   "source": [
    "import sys\n",
    "import os\n",
    "\n",
    "module_path = os.path.abspath(os.path.join('..'))\n",
    "if module_path not in sys.path:\n",
    "    sys.path.append(module_path)\n",
    "\n",
    "import preprocess\n",
    "import numpy as np\n",
    "import verb_extraction\n",
    "import stemming"
   ]
  },
  {
   "cell_type": "code",
   "execution_count": 12,
   "metadata": {},
   "outputs": [],
   "source": [
    "data = pd.read_csv('../../Data/Sentimental_Analysis/main.csv',encoding='utf-8')"
   ]
  },
  {
   "cell_type": "code",
   "execution_count": 13,
   "metadata": {},
   "outputs": [
    {
     "data": {
      "text/html": [
       "<div>\n",
       "<style scoped>\n",
       "    .dataframe tbody tr th:only-of-type {\n",
       "        vertical-align: middle;\n",
       "    }\n",
       "\n",
       "    .dataframe tbody tr th {\n",
       "        vertical-align: top;\n",
       "    }\n",
       "\n",
       "    .dataframe thead th {\n",
       "        text-align: right;\n",
       "    }\n",
       "</style>\n",
       "<table border=\"1\" class=\"dataframe\">\n",
       "  <thead>\n",
       "    <tr style=\"text-align: right;\">\n",
       "      <th></th>\n",
       "      <th>TWEET</th>\n",
       "      <th>LABEL</th>\n",
       "      <th>pos_neg</th>\n",
       "    </tr>\n",
       "  </thead>\n",
       "  <tbody>\n",
       "    <tr>\n",
       "      <th>105672</th>\n",
       "      <td>شاهدت ولفيرين بالأمس ... حافز من لحظة شيء نوعا...</td>\n",
       "      <td>joy</td>\n",
       "      <td>pos</td>\n",
       "    </tr>\n",
       "    <tr>\n",
       "      <th>105673</th>\n",
       "      <td>يتجه إلى المعرض</td>\n",
       "      <td>sadness</td>\n",
       "      <td>neg</td>\n",
       "    </tr>\n",
       "    <tr>\n",
       "      <th>105674</th>\n",
       "      <td>منظر الغروب جميل جدا من غرفتي!</td>\n",
       "      <td>joy</td>\n",
       "      <td>pos</td>\n",
       "    </tr>\n",
       "    <tr>\n",
       "      <th>105675</th>\n",
       "      <td>McMedia بشكل جيد جدا شكرا لك! كيف حالك ، والأه...</td>\n",
       "      <td>joy</td>\n",
       "      <td>pos</td>\n",
       "    </tr>\n",
       "    <tr>\n",
       "      <th>105676</th>\n",
       "      <td>تضمين التغريدة أنت لا تحب الرجعية؟ تيسك تيسك ،...</td>\n",
       "      <td>joy</td>\n",
       "      <td>pos</td>\n",
       "    </tr>\n",
       "    <tr>\n",
       "      <th>105677</th>\n",
       "      <td>acchanosaurus حظا سعيدا تشان! أنا أحمل حقيبة ظ...</td>\n",
       "      <td>joy</td>\n",
       "      <td>pos</td>\n",
       "    </tr>\n",
       "    <tr>\n",
       "      <th>105678</th>\n",
       "      <td>تضمين التغريدة وهدية تحصل عليها؟</td>\n",
       "      <td>surprise</td>\n",
       "      <td>pos</td>\n",
       "    </tr>\n",
       "    <tr>\n",
       "      <th>105679</th>\n",
       "      <td>الجلوس في جاتويك - العودة إلى المنزل لمدة أسبو...</td>\n",
       "      <td>joy</td>\n",
       "      <td>pos</td>\n",
       "    </tr>\n",
       "    <tr>\n",
       "      <th>105680</th>\n",
       "      <td>maynaseric حظا سعيدا في المزاد الخاص بك</td>\n",
       "      <td>joy</td>\n",
       "      <td>pos</td>\n",
       "    </tr>\n",
       "    <tr>\n",
       "      <th>105681</th>\n",
       "      <td>McMedia زوج يلعب الغولف وأمبير. أنا والطفل سنم...</td>\n",
       "      <td>joy</td>\n",
       "      <td>pos</td>\n",
       "    </tr>\n",
       "    <tr>\n",
       "      <th>105682</th>\n",
       "      <td>ذاهب لمشاهدة الصبي في بيج مخطط أتمنى ألا أبكي</td>\n",
       "      <td>joy</td>\n",
       "      <td>pos</td>\n",
       "    </tr>\n",
       "    <tr>\n",
       "      <th>105683</th>\n",
       "      <td>غسل الدراجات جيدًا وإزالة الشحوم منها والشحم. ...</td>\n",
       "      <td>joy</td>\n",
       "      <td>pos</td>\n",
       "    </tr>\n",
       "    <tr>\n",
       "      <th>105684</th>\n",
       "      <td>قضى مثل هذا الوقت المذهل الليلة الماضية ، كان ...</td>\n",
       "      <td>joy</td>\n",
       "      <td>pos</td>\n",
       "    </tr>\n",
       "    <tr>\n",
       "      <th>105685</th>\n",
       "      <td>نجح في متابعة Tayla !!</td>\n",
       "      <td>joy</td>\n",
       "      <td>pos</td>\n",
       "    </tr>\n",
       "    <tr>\n",
       "      <th>105686</th>\n",
       "      <td>تضمين التغريدة اتبعني!! زقزقة ضربتي الجديدة ال...</td>\n",
       "      <td>joy</td>\n",
       "      <td>pos</td>\n",
       "    </tr>\n",
       "  </tbody>\n",
       "</table>\n",
       "</div>"
      ],
      "text/plain": [
       "                                                    TWEET     LABEL pos_neg\n",
       "105672  شاهدت ولفيرين بالأمس ... حافز من لحظة شيء نوعا...       joy     pos\n",
       "105673                                    يتجه إلى المعرض   sadness     neg\n",
       "105674                     منظر الغروب جميل جدا من غرفتي!       joy     pos\n",
       "105675  McMedia بشكل جيد جدا شكرا لك! كيف حالك ، والأه...       joy     pos\n",
       "105676  تضمين التغريدة أنت لا تحب الرجعية؟ تيسك تيسك ،...       joy     pos\n",
       "105677  acchanosaurus حظا سعيدا تشان! أنا أحمل حقيبة ظ...       joy     pos\n",
       "105678                   تضمين التغريدة وهدية تحصل عليها؟  surprise     pos\n",
       "105679  الجلوس في جاتويك - العودة إلى المنزل لمدة أسبو...       joy     pos\n",
       "105680            maynaseric حظا سعيدا في المزاد الخاص بك       joy     pos\n",
       "105681  McMedia زوج يلعب الغولف وأمبير. أنا والطفل سنم...       joy     pos\n",
       "105682      ذاهب لمشاهدة الصبي في بيج مخطط أتمنى ألا أبكي       joy     pos\n",
       "105683  غسل الدراجات جيدًا وإزالة الشحوم منها والشحم. ...       joy     pos\n",
       "105684  قضى مثل هذا الوقت المذهل الليلة الماضية ، كان ...       joy     pos\n",
       "105685                             نجح في متابعة Tayla !!       joy     pos\n",
       "105686  تضمين التغريدة اتبعني!! زقزقة ضربتي الجديدة ال...       joy     pos"
      ]
     },
     "execution_count": 13,
     "metadata": {},
     "output_type": "execute_result"
    }
   ],
   "source": [
    "data.tail(15)"
   ]
  },
  {
   "cell_type": "code",
   "execution_count": 9,
   "metadata": {},
   "outputs": [
    {
     "data": {
      "text/html": [
       "<div>\n",
       "<style scoped>\n",
       "    .dataframe tbody tr th:only-of-type {\n",
       "        vertical-align: middle;\n",
       "    }\n",
       "\n",
       "    .dataframe tbody tr th {\n",
       "        vertical-align: top;\n",
       "    }\n",
       "\n",
       "    .dataframe thead th {\n",
       "        text-align: right;\n",
       "    }\n",
       "</style>\n",
       "<table border=\"1\" class=\"dataframe\">\n",
       "  <thead>\n",
       "    <tr style=\"text-align: right;\">\n",
       "      <th></th>\n",
       "      <th>Unnamed: 0.1</th>\n",
       "      <th>Unnamed: 0</th>\n",
       "      <th>TWEET</th>\n",
       "      <th>LABEL</th>\n",
       "    </tr>\n",
       "  </thead>\n",
       "  <tbody>\n",
       "    <tr>\n",
       "      <th>0</th>\n",
       "      <td>0</td>\n",
       "      <td>0</td>\n",
       "      <td>مُنْ مِن مِ</td>\n",
       "      <td>joy</td>\n",
       "    </tr>\n",
       "  </tbody>\n",
       "</table>\n",
       "</div>"
      ],
      "text/plain": [
       "   Unnamed: 0.1  Unnamed: 0        TWEET LABEL\n",
       "0             0           0  مُنْ مِن مِ   joy"
      ]
     },
     "execution_count": 9,
     "metadata": {},
     "output_type": "execute_result"
    }
   ],
   "source": [
    "data.head(1)"
   ]
  },
  {
   "cell_type": "code",
   "execution_count": 10,
   "metadata": {},
   "outputs": [
    {
     "data": {
      "text/plain": [
       "64658"
      ]
     },
     "execution_count": 10,
     "metadata": {},
     "output_type": "execute_result"
    }
   ],
   "source": [
    "len(data)"
   ]
  },
  {
   "cell_type": "code",
   "execution_count": 31,
   "metadata": {},
   "outputs": [],
   "source": [
    "tweet = list(data[\"TWEET\"])\n",
    "label = list(data['LABEL'])"
   ]
  },
  {
   "cell_type": "code",
   "execution_count": 13,
   "metadata": {},
   "outputs": [],
   "source": [
    "file = open(\"../../Data/stopwords.txt\",\"r\",encoding=\"utf-8\")\n",
    "stopwords = file.read().split()\n",
    "file.close()\n",
    "def get_tokens(text):\n",
    "    dictionary = {'د':\"دكتور\"}#to be continued\n",
    "    words_after_split = text.split()\n",
    "    for index , word in enumerate(words_after_split):\n",
    "        if word in dictionary.keys():\n",
    "            w = dictionary[word]\n",
    "            words_after_split[index] = w\n",
    "    new_words = list()\n",
    "    for word in words_after_split:\n",
    "        if word not in stopwords:\n",
    "            new_words.append(word)\n",
    "    return new_words"
   ]
  },
  {
   "cell_type": "code",
   "execution_count": 15,
   "metadata": {},
   "outputs": [],
   "source": [
    "for i in range(len(tweet)):\n",
    "    tweet[i] = preprocess.pre_process(str(tweet[i]))\n",
    "    tokens = get_tokens(tweet[i])\n",
    "    tokens_verb_noun = verb_extraction.extract_stem_verb(tokens,{})\n",
    "    tokens_verb_noun = np.array(stemming.stem(tokens_verb_noun))\n",
    "    tweet[i] = ' '.join([str(elem) for elem,_ in tokens_verb_noun])"
   ]
  },
  {
   "cell_type": "code",
   "execution_count": 16,
   "metadata": {},
   "outputs": [],
   "source": [
    "import re\n",
    "for i in range(len(tweet)):    \n",
    "    tweet[i] = re.sub(\"[a-zA-Z]\", \" \", tweet[i]) # remove english letters\n",
    "    tweet[i] = re.sub('\\n', ' ', tweet[i]) # remove \\n from text\n",
    "    tweet[i] = re.sub(r'\\d+', '', tweet[i]) #remove number\n",
    "    tweet[i] = re.sub(r'http\\S+', '', tweet[i]) # remove links\n",
    "    tweet[i] = re.sub(' +', ' ',tweet[i]) # remove extra space\n",
    "    tweet[i] = tweet[i].strip() #remove whitespaces"
   ]
  },
  {
   "cell_type": "code",
   "execution_count": 17,
   "metadata": {},
   "outputs": [
    {
     "data": {
      "text/plain": [
       "'ايام شعر انن قريب شريكي واصدقاءي اخرين شعر السلام واختبر ايضا تواصل اشخاص اعتبر ثيرا'"
      ]
     },
     "execution_count": 17,
     "metadata": {},
     "output_type": "execute_result"
    }
   ],
   "source": [
    "tweet[0]"
   ]
  },
  {
   "cell_type": "code",
   "execution_count": 18,
   "metadata": {},
   "outputs": [],
   "source": [
    "pos_neg = data['pos_neg']\n",
    "text = list()\n",
    "target = list()\n",
    "posneg = list()\n",
    "for i in range(len(tweet)):\n",
    "    if tweet[i] == '':\n",
    "        continue\n",
    "    text.append(tweet[i])\n",
    "    target.append(label[i])\n",
    "    posneg.append(pos_neg[i])\n",
    "len(text)\n",
    "df = pd.DataFrame({'TWEET':text,'LABEL':target,'pos_neg':posneg})\n",
    "#data = pd.read_csv('../../Data/Sentimental_Analysis/main_preprocessed.csv',encoding='utf-8')\n",
    "#data = pd.concat([data,df])\n",
    "df.to_csv('new/main_preprocessed.csv', index=False)"
   ]
  },
  {
   "cell_type": "code",
   "execution_count": 19,
   "metadata": {},
   "outputs": [
    {
     "data": {
      "text/plain": [
       "109547"
      ]
     },
     "execution_count": 19,
     "metadata": {},
     "output_type": "execute_result"
    }
   ],
   "source": [
    "len(data)"
   ]
  },
  {
   "cell_type": "code",
   "execution_count": 11,
   "metadata": {},
   "outputs": [],
   "source": [
    "data = pd.read_csv('../../Data/Sentimental_Analysis/iseardataset_arabic.csv',encoding='utf-8')"
   ]
  },
  {
   "cell_type": "code",
   "execution_count": 12,
   "metadata": {},
   "outputs": [],
   "source": [
    "tweet = list(data[\"TWEET\"])\n",
    "label = list(data['LABEL'])"
   ]
  }
 ],
 "metadata": {
  "interpreter": {
   "hash": "369f2c481f4da34e4445cda3fffd2e751bd1c4d706f27375911949ba6bb62e1c"
  },
  "kernelspec": {
   "display_name": "Python 3.10.1 64-bit",
   "language": "python",
   "name": "python3"
  },
  "language_info": {
   "codemirror_mode": {
    "name": "ipython",
    "version": 3
   },
   "file_extension": ".py",
   "mimetype": "text/x-python",
   "name": "python",
   "nbconvert_exporter": "python",
   "pygments_lexer": "ipython3",
   "version": "3.10.1"
  },
  "orig_nbformat": 4
 },
 "nbformat": 4,
 "nbformat_minor": 2
}
